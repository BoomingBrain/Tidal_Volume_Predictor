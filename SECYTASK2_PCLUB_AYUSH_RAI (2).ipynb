{
  "nbformat": 4,
  "nbformat_minor": 0,
  "metadata": {
    "colab": {
      "provenance": []
    },
    "kernelspec": {
      "name": "python3",
      "display_name": "Python 3"
    },
    "language_info": {
      "name": "python"
    }
  },
  "cells": [
    {
      "cell_type": "markdown",
      "source": [
        "**Importing Required Library**"
      ],
      "metadata": {
        "id": "dt00FaWHn05w"
      }
    },
    {
      "cell_type": "code",
      "execution_count": 68,
      "metadata": {
        "id": "GiXrEkUXb41a"
      },
      "outputs": [],
      "source": [
        "import numpy as np\n",
        "import pandas as pd"
      ]
    },
    {
      "cell_type": "markdown",
      "source": [
        "# **LOADING DATASET**"
      ],
      "metadata": {
        "id": "_69QCWiCoVfZ"
      }
    },
    {
      "cell_type": "code",
      "source": [
        "\n",
        "url='https://raw.githubusercontent.com/BoomingBrain/Tidal_Volume_Predictor/main/tidalfnal.csv'\n",
        "data=pd.read_csv(url)\n",
        "data"
      ],
      "metadata": {
        "colab": {
          "base_uri": "https://localhost:8080/",
          "height": 441
        },
        "id": "HoQIfMZkcHiU",
        "outputId": "668833ee-3aa3-4d9c-a701-fe8daa73cda8"
      },
      "execution_count": 69,
      "outputs": [
        {
          "output_type": "execute_result",
          "data": {
            "text/plain": [
              "     Age  Height (cm)  Weight (kg)  Gender Smoking Having Lung Disease  \\\n",
              "0     23          168           70    Male      No                  No   \n",
              "1     45          162           65  Female     Yes                  No   \n",
              "2     34          175           80    Male      No                  No   \n",
              "3     29          160           58  Female      No                  No   \n",
              "4     50          170           78    Male     Yes                 Yes   \n",
              "..   ...          ...          ...     ...     ...                 ...   \n",
              "512   57          158           64  Female      No                  No   \n",
              "513   60          155           61  Female      No                 Yes   \n",
              "514   55          158           61  Female     Yes                  No   \n",
              "515   59          155           61  Female     Yes                  No   \n",
              "516   59          160           64  Female     Yes                 Yes   \n",
              "\n",
              "     Tidal Volume (mL)  \n",
              "0                  500  \n",
              "1                  400  \n",
              "2                  530  \n",
              "3                  450  \n",
              "4                  420  \n",
              "..                 ...  \n",
              "512                370  \n",
              "513                360  \n",
              "514                370  \n",
              "515                360  \n",
              "516                370  \n",
              "\n",
              "[517 rows x 7 columns]"
            ],
            "text/html": [
              "\n",
              "  <div id=\"df-82c2257a-b48e-49ca-b25c-b09bab2346ec\" class=\"colab-df-container\">\n",
              "    <div>\n",
              "<style scoped>\n",
              "    .dataframe tbody tr th:only-of-type {\n",
              "        vertical-align: middle;\n",
              "    }\n",
              "\n",
              "    .dataframe tbody tr th {\n",
              "        vertical-align: top;\n",
              "    }\n",
              "\n",
              "    .dataframe thead th {\n",
              "        text-align: right;\n",
              "    }\n",
              "</style>\n",
              "<table border=\"1\" class=\"dataframe\">\n",
              "  <thead>\n",
              "    <tr style=\"text-align: right;\">\n",
              "      <th></th>\n",
              "      <th>Age</th>\n",
              "      <th>Height (cm)</th>\n",
              "      <th>Weight (kg)</th>\n",
              "      <th>Gender</th>\n",
              "      <th>Smoking</th>\n",
              "      <th>Having Lung Disease</th>\n",
              "      <th>Tidal Volume (mL)</th>\n",
              "    </tr>\n",
              "  </thead>\n",
              "  <tbody>\n",
              "    <tr>\n",
              "      <th>0</th>\n",
              "      <td>23</td>\n",
              "      <td>168</td>\n",
              "      <td>70</td>\n",
              "      <td>Male</td>\n",
              "      <td>No</td>\n",
              "      <td>No</td>\n",
              "      <td>500</td>\n",
              "    </tr>\n",
              "    <tr>\n",
              "      <th>1</th>\n",
              "      <td>45</td>\n",
              "      <td>162</td>\n",
              "      <td>65</td>\n",
              "      <td>Female</td>\n",
              "      <td>Yes</td>\n",
              "      <td>No</td>\n",
              "      <td>400</td>\n",
              "    </tr>\n",
              "    <tr>\n",
              "      <th>2</th>\n",
              "      <td>34</td>\n",
              "      <td>175</td>\n",
              "      <td>80</td>\n",
              "      <td>Male</td>\n",
              "      <td>No</td>\n",
              "      <td>No</td>\n",
              "      <td>530</td>\n",
              "    </tr>\n",
              "    <tr>\n",
              "      <th>3</th>\n",
              "      <td>29</td>\n",
              "      <td>160</td>\n",
              "      <td>58</td>\n",
              "      <td>Female</td>\n",
              "      <td>No</td>\n",
              "      <td>No</td>\n",
              "      <td>450</td>\n",
              "    </tr>\n",
              "    <tr>\n",
              "      <th>4</th>\n",
              "      <td>50</td>\n",
              "      <td>170</td>\n",
              "      <td>78</td>\n",
              "      <td>Male</td>\n",
              "      <td>Yes</td>\n",
              "      <td>Yes</td>\n",
              "      <td>420</td>\n",
              "    </tr>\n",
              "    <tr>\n",
              "      <th>...</th>\n",
              "      <td>...</td>\n",
              "      <td>...</td>\n",
              "      <td>...</td>\n",
              "      <td>...</td>\n",
              "      <td>...</td>\n",
              "      <td>...</td>\n",
              "      <td>...</td>\n",
              "    </tr>\n",
              "    <tr>\n",
              "      <th>512</th>\n",
              "      <td>57</td>\n",
              "      <td>158</td>\n",
              "      <td>64</td>\n",
              "      <td>Female</td>\n",
              "      <td>No</td>\n",
              "      <td>No</td>\n",
              "      <td>370</td>\n",
              "    </tr>\n",
              "    <tr>\n",
              "      <th>513</th>\n",
              "      <td>60</td>\n",
              "      <td>155</td>\n",
              "      <td>61</td>\n",
              "      <td>Female</td>\n",
              "      <td>No</td>\n",
              "      <td>Yes</td>\n",
              "      <td>360</td>\n",
              "    </tr>\n",
              "    <tr>\n",
              "      <th>514</th>\n",
              "      <td>55</td>\n",
              "      <td>158</td>\n",
              "      <td>61</td>\n",
              "      <td>Female</td>\n",
              "      <td>Yes</td>\n",
              "      <td>No</td>\n",
              "      <td>370</td>\n",
              "    </tr>\n",
              "    <tr>\n",
              "      <th>515</th>\n",
              "      <td>59</td>\n",
              "      <td>155</td>\n",
              "      <td>61</td>\n",
              "      <td>Female</td>\n",
              "      <td>Yes</td>\n",
              "      <td>No</td>\n",
              "      <td>360</td>\n",
              "    </tr>\n",
              "    <tr>\n",
              "      <th>516</th>\n",
              "      <td>59</td>\n",
              "      <td>160</td>\n",
              "      <td>64</td>\n",
              "      <td>Female</td>\n",
              "      <td>Yes</td>\n",
              "      <td>Yes</td>\n",
              "      <td>370</td>\n",
              "    </tr>\n",
              "  </tbody>\n",
              "</table>\n",
              "<p>517 rows × 7 columns</p>\n",
              "</div>\n",
              "    <div class=\"colab-df-buttons\">\n",
              "\n",
              "  <div class=\"colab-df-container\">\n",
              "    <button class=\"colab-df-convert\" onclick=\"convertToInteractive('df-82c2257a-b48e-49ca-b25c-b09bab2346ec')\"\n",
              "            title=\"Convert this dataframe to an interactive table.\"\n",
              "            style=\"display:none;\">\n",
              "\n",
              "  <svg xmlns=\"http://www.w3.org/2000/svg\" height=\"24px\" viewBox=\"0 -960 960 960\">\n",
              "    <path d=\"M120-120v-720h720v720H120Zm60-500h600v-160H180v160Zm220 220h160v-160H400v160Zm0 220h160v-160H400v160ZM180-400h160v-160H180v160Zm440 0h160v-160H620v160ZM180-180h160v-160H180v160Zm440 0h160v-160H620v160Z\"/>\n",
              "  </svg>\n",
              "    </button>\n",
              "\n",
              "  <style>\n",
              "    .colab-df-container {\n",
              "      display:flex;\n",
              "      gap: 12px;\n",
              "    }\n",
              "\n",
              "    .colab-df-convert {\n",
              "      background-color: #E8F0FE;\n",
              "      border: none;\n",
              "      border-radius: 50%;\n",
              "      cursor: pointer;\n",
              "      display: none;\n",
              "      fill: #1967D2;\n",
              "      height: 32px;\n",
              "      padding: 0 0 0 0;\n",
              "      width: 32px;\n",
              "    }\n",
              "\n",
              "    .colab-df-convert:hover {\n",
              "      background-color: #E2EBFA;\n",
              "      box-shadow: 0px 1px 2px rgba(60, 64, 67, 0.3), 0px 1px 3px 1px rgba(60, 64, 67, 0.15);\n",
              "      fill: #174EA6;\n",
              "    }\n",
              "\n",
              "    .colab-df-buttons div {\n",
              "      margin-bottom: 4px;\n",
              "    }\n",
              "\n",
              "    [theme=dark] .colab-df-convert {\n",
              "      background-color: #3B4455;\n",
              "      fill: #D2E3FC;\n",
              "    }\n",
              "\n",
              "    [theme=dark] .colab-df-convert:hover {\n",
              "      background-color: #434B5C;\n",
              "      box-shadow: 0px 1px 3px 1px rgba(0, 0, 0, 0.15);\n",
              "      filter: drop-shadow(0px 1px 2px rgba(0, 0, 0, 0.3));\n",
              "      fill: #FFFFFF;\n",
              "    }\n",
              "  </style>\n",
              "\n",
              "    <script>\n",
              "      const buttonEl =\n",
              "        document.querySelector('#df-82c2257a-b48e-49ca-b25c-b09bab2346ec button.colab-df-convert');\n",
              "      buttonEl.style.display =\n",
              "        google.colab.kernel.accessAllowed ? 'block' : 'none';\n",
              "\n",
              "      async function convertToInteractive(key) {\n",
              "        const element = document.querySelector('#df-82c2257a-b48e-49ca-b25c-b09bab2346ec');\n",
              "        const dataTable =\n",
              "          await google.colab.kernel.invokeFunction('convertToInteractive',\n",
              "                                                    [key], {});\n",
              "        if (!dataTable) return;\n",
              "\n",
              "        const docLinkHtml = 'Like what you see? Visit the ' +\n",
              "          '<a target=\"_blank\" href=https://colab.research.google.com/notebooks/data_table.ipynb>data table notebook</a>'\n",
              "          + ' to learn more about interactive tables.';\n",
              "        element.innerHTML = '';\n",
              "        dataTable['output_type'] = 'display_data';\n",
              "        await google.colab.output.renderOutput(dataTable, element);\n",
              "        const docLink = document.createElement('div');\n",
              "        docLink.innerHTML = docLinkHtml;\n",
              "        element.appendChild(docLink);\n",
              "      }\n",
              "    </script>\n",
              "  </div>\n",
              "\n",
              "\n",
              "<div id=\"df-fb894548-a191-4118-beac-6e697771a084\">\n",
              "  <button class=\"colab-df-quickchart\" onclick=\"quickchart('df-fb894548-a191-4118-beac-6e697771a084')\"\n",
              "            title=\"Suggest charts\"\n",
              "            style=\"display:none;\">\n",
              "\n",
              "<svg xmlns=\"http://www.w3.org/2000/svg\" height=\"24px\"viewBox=\"0 0 24 24\"\n",
              "     width=\"24px\">\n",
              "    <g>\n",
              "        <path d=\"M19 3H5c-1.1 0-2 .9-2 2v14c0 1.1.9 2 2 2h14c1.1 0 2-.9 2-2V5c0-1.1-.9-2-2-2zM9 17H7v-7h2v7zm4 0h-2V7h2v10zm4 0h-2v-4h2v4z\"/>\n",
              "    </g>\n",
              "</svg>\n",
              "  </button>\n",
              "\n",
              "<style>\n",
              "  .colab-df-quickchart {\n",
              "      --bg-color: #E8F0FE;\n",
              "      --fill-color: #1967D2;\n",
              "      --hover-bg-color: #E2EBFA;\n",
              "      --hover-fill-color: #174EA6;\n",
              "      --disabled-fill-color: #AAA;\n",
              "      --disabled-bg-color: #DDD;\n",
              "  }\n",
              "\n",
              "  [theme=dark] .colab-df-quickchart {\n",
              "      --bg-color: #3B4455;\n",
              "      --fill-color: #D2E3FC;\n",
              "      --hover-bg-color: #434B5C;\n",
              "      --hover-fill-color: #FFFFFF;\n",
              "      --disabled-bg-color: #3B4455;\n",
              "      --disabled-fill-color: #666;\n",
              "  }\n",
              "\n",
              "  .colab-df-quickchart {\n",
              "    background-color: var(--bg-color);\n",
              "    border: none;\n",
              "    border-radius: 50%;\n",
              "    cursor: pointer;\n",
              "    display: none;\n",
              "    fill: var(--fill-color);\n",
              "    height: 32px;\n",
              "    padding: 0;\n",
              "    width: 32px;\n",
              "  }\n",
              "\n",
              "  .colab-df-quickchart:hover {\n",
              "    background-color: var(--hover-bg-color);\n",
              "    box-shadow: 0 1px 2px rgba(60, 64, 67, 0.3), 0 1px 3px 1px rgba(60, 64, 67, 0.15);\n",
              "    fill: var(--button-hover-fill-color);\n",
              "  }\n",
              "\n",
              "  .colab-df-quickchart-complete:disabled,\n",
              "  .colab-df-quickchart-complete:disabled:hover {\n",
              "    background-color: var(--disabled-bg-color);\n",
              "    fill: var(--disabled-fill-color);\n",
              "    box-shadow: none;\n",
              "  }\n",
              "\n",
              "  .colab-df-spinner {\n",
              "    border: 2px solid var(--fill-color);\n",
              "    border-color: transparent;\n",
              "    border-bottom-color: var(--fill-color);\n",
              "    animation:\n",
              "      spin 1s steps(1) infinite;\n",
              "  }\n",
              "\n",
              "  @keyframes spin {\n",
              "    0% {\n",
              "      border-color: transparent;\n",
              "      border-bottom-color: var(--fill-color);\n",
              "      border-left-color: var(--fill-color);\n",
              "    }\n",
              "    20% {\n",
              "      border-color: transparent;\n",
              "      border-left-color: var(--fill-color);\n",
              "      border-top-color: var(--fill-color);\n",
              "    }\n",
              "    30% {\n",
              "      border-color: transparent;\n",
              "      border-left-color: var(--fill-color);\n",
              "      border-top-color: var(--fill-color);\n",
              "      border-right-color: var(--fill-color);\n",
              "    }\n",
              "    40% {\n",
              "      border-color: transparent;\n",
              "      border-right-color: var(--fill-color);\n",
              "      border-top-color: var(--fill-color);\n",
              "    }\n",
              "    60% {\n",
              "      border-color: transparent;\n",
              "      border-right-color: var(--fill-color);\n",
              "    }\n",
              "    80% {\n",
              "      border-color: transparent;\n",
              "      border-right-color: var(--fill-color);\n",
              "      border-bottom-color: var(--fill-color);\n",
              "    }\n",
              "    90% {\n",
              "      border-color: transparent;\n",
              "      border-bottom-color: var(--fill-color);\n",
              "    }\n",
              "  }\n",
              "</style>\n",
              "\n",
              "  <script>\n",
              "    async function quickchart(key) {\n",
              "      const quickchartButtonEl =\n",
              "        document.querySelector('#' + key + ' button');\n",
              "      quickchartButtonEl.disabled = true;  // To prevent multiple clicks.\n",
              "      quickchartButtonEl.classList.add('colab-df-spinner');\n",
              "      try {\n",
              "        const charts = await google.colab.kernel.invokeFunction(\n",
              "            'suggestCharts', [key], {});\n",
              "      } catch (error) {\n",
              "        console.error('Error during call to suggestCharts:', error);\n",
              "      }\n",
              "      quickchartButtonEl.classList.remove('colab-df-spinner');\n",
              "      quickchartButtonEl.classList.add('colab-df-quickchart-complete');\n",
              "    }\n",
              "    (() => {\n",
              "      let quickchartButtonEl =\n",
              "        document.querySelector('#df-fb894548-a191-4118-beac-6e697771a084 button');\n",
              "      quickchartButtonEl.style.display =\n",
              "        google.colab.kernel.accessAllowed ? 'block' : 'none';\n",
              "    })();\n",
              "  </script>\n",
              "</div>\n",
              "\n",
              "  <div id=\"id_08561b61-6ba7-45bb-b8c5-02eaa4a14d08\">\n",
              "    <style>\n",
              "      .colab-df-generate {\n",
              "        background-color: #E8F0FE;\n",
              "        border: none;\n",
              "        border-radius: 50%;\n",
              "        cursor: pointer;\n",
              "        display: none;\n",
              "        fill: #1967D2;\n",
              "        height: 32px;\n",
              "        padding: 0 0 0 0;\n",
              "        width: 32px;\n",
              "      }\n",
              "\n",
              "      .colab-df-generate:hover {\n",
              "        background-color: #E2EBFA;\n",
              "        box-shadow: 0px 1px 2px rgba(60, 64, 67, 0.3), 0px 1px 3px 1px rgba(60, 64, 67, 0.15);\n",
              "        fill: #174EA6;\n",
              "      }\n",
              "\n",
              "      [theme=dark] .colab-df-generate {\n",
              "        background-color: #3B4455;\n",
              "        fill: #D2E3FC;\n",
              "      }\n",
              "\n",
              "      [theme=dark] .colab-df-generate:hover {\n",
              "        background-color: #434B5C;\n",
              "        box-shadow: 0px 1px 3px 1px rgba(0, 0, 0, 0.15);\n",
              "        filter: drop-shadow(0px 1px 2px rgba(0, 0, 0, 0.3));\n",
              "        fill: #FFFFFF;\n",
              "      }\n",
              "    </style>\n",
              "    <button class=\"colab-df-generate\" onclick=\"generateWithVariable('data')\"\n",
              "            title=\"Generate code using this dataframe.\"\n",
              "            style=\"display:none;\">\n",
              "\n",
              "  <svg xmlns=\"http://www.w3.org/2000/svg\" height=\"24px\"viewBox=\"0 0 24 24\"\n",
              "       width=\"24px\">\n",
              "    <path d=\"M7,19H8.4L18.45,9,17,7.55,7,17.6ZM5,21V16.75L18.45,3.32a2,2,0,0,1,2.83,0l1.4,1.43a1.91,1.91,0,0,1,.58,1.4,1.91,1.91,0,0,1-.58,1.4L9.25,21ZM18.45,9,17,7.55Zm-12,3A5.31,5.31,0,0,0,4.9,8.1,5.31,5.31,0,0,0,1,6.5,5.31,5.31,0,0,0,4.9,4.9,5.31,5.31,0,0,0,6.5,1,5.31,5.31,0,0,0,8.1,4.9,5.31,5.31,0,0,0,12,6.5,5.46,5.46,0,0,0,6.5,12Z\"/>\n",
              "  </svg>\n",
              "    </button>\n",
              "    <script>\n",
              "      (() => {\n",
              "      const buttonEl =\n",
              "        document.querySelector('#id_08561b61-6ba7-45bb-b8c5-02eaa4a14d08 button.colab-df-generate');\n",
              "      buttonEl.style.display =\n",
              "        google.colab.kernel.accessAllowed ? 'block' : 'none';\n",
              "\n",
              "      buttonEl.onclick = () => {\n",
              "        google.colab.notebook.generateWithVariable('data');\n",
              "      }\n",
              "      })();\n",
              "    </script>\n",
              "  </div>\n",
              "\n",
              "    </div>\n",
              "  </div>\n"
            ],
            "application/vnd.google.colaboratory.intrinsic+json": {
              "type": "dataframe",
              "variable_name": "data",
              "summary": "{\n  \"name\": \"data\",\n  \"rows\": 517,\n  \"fields\": [\n    {\n      \"column\": \"Age\",\n      \"properties\": {\n        \"dtype\": \"number\",\n        \"std\": 11,\n        \"min\": 23,\n        \"max\": 62,\n        \"num_unique_values\": 40,\n        \"samples\": [\n          57,\n          31,\n          53\n        ],\n        \"semantic_type\": \"\",\n        \"description\": \"\"\n      }\n    },\n    {\n      \"column\": \"Height (cm)\",\n      \"properties\": {\n        \"dtype\": \"number\",\n        \"std\": 8,\n        \"min\": 155,\n        \"max\": 182,\n        \"num_unique_values\": 28,\n        \"samples\": [\n          158,\n          164,\n          172\n        ],\n        \"semantic_type\": \"\",\n        \"description\": \"\"\n      }\n    },\n    {\n      \"column\": \"Weight (kg)\",\n      \"properties\": {\n        \"dtype\": \"number\",\n        \"std\": 8,\n        \"min\": 58,\n        \"max\": 85,\n        \"num_unique_values\": 27,\n        \"samples\": [\n          74,\n          61,\n          63\n        ],\n        \"semantic_type\": \"\",\n        \"description\": \"\"\n      }\n    },\n    {\n      \"column\": \"Gender\",\n      \"properties\": {\n        \"dtype\": \"category\",\n        \"num_unique_values\": 2,\n        \"samples\": [\n          \"Female\",\n          \"Male\"\n        ],\n        \"semantic_type\": \"\",\n        \"description\": \"\"\n      }\n    },\n    {\n      \"column\": \"Smoking\",\n      \"properties\": {\n        \"dtype\": \"category\",\n        \"num_unique_values\": 2,\n        \"samples\": [\n          \"Yes\",\n          \"No\"\n        ],\n        \"semantic_type\": \"\",\n        \"description\": \"\"\n      }\n    },\n    {\n      \"column\": \"Having Lung Disease\",\n      \"properties\": {\n        \"dtype\": \"category\",\n        \"num_unique_values\": 2,\n        \"samples\": [\n          \"Yes\",\n          \"No\"\n        ],\n        \"semantic_type\": \"\",\n        \"description\": \"\"\n      }\n    },\n    {\n      \"column\": \"Tidal Volume (mL)\",\n      \"properties\": {\n        \"dtype\": \"number\",\n        \"std\": 74,\n        \"min\": 350,\n        \"max\": 550,\n        \"num_unique_values\": 18,\n        \"samples\": [\n          500,\n          400\n        ],\n        \"semantic_type\": \"\",\n        \"description\": \"\"\n      }\n    }\n  ]\n}"
            }
          },
          "metadata": {},
          "execution_count": 69
        }
      ]
    },
    {
      "cell_type": "code",
      "source": [
        "data.info()"
      ],
      "metadata": {
        "colab": {
          "base_uri": "https://localhost:8080/"
        },
        "id": "-aBK2YdbcR4D",
        "outputId": "5bd078bb-6807-4668-ffa3-b4856986c165"
      },
      "execution_count": 70,
      "outputs": [
        {
          "output_type": "stream",
          "name": "stdout",
          "text": [
            "<class 'pandas.core.frame.DataFrame'>\n",
            "RangeIndex: 517 entries, 0 to 516\n",
            "Data columns (total 7 columns):\n",
            " #   Column               Non-Null Count  Dtype \n",
            "---  ------               --------------  ----- \n",
            " 0   Age                  517 non-null    int64 \n",
            " 1   Height (cm)          517 non-null    int64 \n",
            " 2   Weight (kg)          517 non-null    int64 \n",
            " 3   Gender               517 non-null    object\n",
            " 4   Smoking              517 non-null    object\n",
            " 5   Having Lung Disease  517 non-null    object\n",
            " 6   Tidal Volume (mL)    517 non-null    int64 \n",
            "dtypes: int64(4), object(3)\n",
            "memory usage: 28.4+ KB\n"
          ]
        }
      ]
    },
    {
      "cell_type": "code",
      "source": [
        "data.describe()"
      ],
      "metadata": {
        "colab": {
          "base_uri": "https://localhost:8080/",
          "height": 300
        },
        "id": "KdO2O3kVc1xM",
        "outputId": "c04b8d03-ed7d-4cd3-9ac6-20aa0e13c2fc"
      },
      "execution_count": 71,
      "outputs": [
        {
          "output_type": "execute_result",
          "data": {
            "text/plain": [
              "              Age  Height (cm)  Weight (kg)  Tidal Volume (mL)\n",
              "count  517.000000   517.000000   517.000000         517.000000\n",
              "mean    48.771760   164.595745    67.936170         419.941973\n",
              "std     11.573415     8.739169     8.193031          74.270330\n",
              "min     23.000000   155.000000    58.000000         350.000000\n",
              "25%     36.000000   158.000000    61.000000         370.000000\n",
              "50%     55.000000   160.000000    64.000000         370.000000\n",
              "75%     58.000000   174.000000    75.000000         510.000000\n",
              "max     62.000000   182.000000    85.000000         550.000000"
            ],
            "text/html": [
              "\n",
              "  <div id=\"df-3e7c8fd4-5a71-4272-96e2-bfc2e74d6715\" class=\"colab-df-container\">\n",
              "    <div>\n",
              "<style scoped>\n",
              "    .dataframe tbody tr th:only-of-type {\n",
              "        vertical-align: middle;\n",
              "    }\n",
              "\n",
              "    .dataframe tbody tr th {\n",
              "        vertical-align: top;\n",
              "    }\n",
              "\n",
              "    .dataframe thead th {\n",
              "        text-align: right;\n",
              "    }\n",
              "</style>\n",
              "<table border=\"1\" class=\"dataframe\">\n",
              "  <thead>\n",
              "    <tr style=\"text-align: right;\">\n",
              "      <th></th>\n",
              "      <th>Age</th>\n",
              "      <th>Height (cm)</th>\n",
              "      <th>Weight (kg)</th>\n",
              "      <th>Tidal Volume (mL)</th>\n",
              "    </tr>\n",
              "  </thead>\n",
              "  <tbody>\n",
              "    <tr>\n",
              "      <th>count</th>\n",
              "      <td>517.000000</td>\n",
              "      <td>517.000000</td>\n",
              "      <td>517.000000</td>\n",
              "      <td>517.000000</td>\n",
              "    </tr>\n",
              "    <tr>\n",
              "      <th>mean</th>\n",
              "      <td>48.771760</td>\n",
              "      <td>164.595745</td>\n",
              "      <td>67.936170</td>\n",
              "      <td>419.941973</td>\n",
              "    </tr>\n",
              "    <tr>\n",
              "      <th>std</th>\n",
              "      <td>11.573415</td>\n",
              "      <td>8.739169</td>\n",
              "      <td>8.193031</td>\n",
              "      <td>74.270330</td>\n",
              "    </tr>\n",
              "    <tr>\n",
              "      <th>min</th>\n",
              "      <td>23.000000</td>\n",
              "      <td>155.000000</td>\n",
              "      <td>58.000000</td>\n",
              "      <td>350.000000</td>\n",
              "    </tr>\n",
              "    <tr>\n",
              "      <th>25%</th>\n",
              "      <td>36.000000</td>\n",
              "      <td>158.000000</td>\n",
              "      <td>61.000000</td>\n",
              "      <td>370.000000</td>\n",
              "    </tr>\n",
              "    <tr>\n",
              "      <th>50%</th>\n",
              "      <td>55.000000</td>\n",
              "      <td>160.000000</td>\n",
              "      <td>64.000000</td>\n",
              "      <td>370.000000</td>\n",
              "    </tr>\n",
              "    <tr>\n",
              "      <th>75%</th>\n",
              "      <td>58.000000</td>\n",
              "      <td>174.000000</td>\n",
              "      <td>75.000000</td>\n",
              "      <td>510.000000</td>\n",
              "    </tr>\n",
              "    <tr>\n",
              "      <th>max</th>\n",
              "      <td>62.000000</td>\n",
              "      <td>182.000000</td>\n",
              "      <td>85.000000</td>\n",
              "      <td>550.000000</td>\n",
              "    </tr>\n",
              "  </tbody>\n",
              "</table>\n",
              "</div>\n",
              "    <div class=\"colab-df-buttons\">\n",
              "\n",
              "  <div class=\"colab-df-container\">\n",
              "    <button class=\"colab-df-convert\" onclick=\"convertToInteractive('df-3e7c8fd4-5a71-4272-96e2-bfc2e74d6715')\"\n",
              "            title=\"Convert this dataframe to an interactive table.\"\n",
              "            style=\"display:none;\">\n",
              "\n",
              "  <svg xmlns=\"http://www.w3.org/2000/svg\" height=\"24px\" viewBox=\"0 -960 960 960\">\n",
              "    <path d=\"M120-120v-720h720v720H120Zm60-500h600v-160H180v160Zm220 220h160v-160H400v160Zm0 220h160v-160H400v160ZM180-400h160v-160H180v160Zm440 0h160v-160H620v160ZM180-180h160v-160H180v160Zm440 0h160v-160H620v160Z\"/>\n",
              "  </svg>\n",
              "    </button>\n",
              "\n",
              "  <style>\n",
              "    .colab-df-container {\n",
              "      display:flex;\n",
              "      gap: 12px;\n",
              "    }\n",
              "\n",
              "    .colab-df-convert {\n",
              "      background-color: #E8F0FE;\n",
              "      border: none;\n",
              "      border-radius: 50%;\n",
              "      cursor: pointer;\n",
              "      display: none;\n",
              "      fill: #1967D2;\n",
              "      height: 32px;\n",
              "      padding: 0 0 0 0;\n",
              "      width: 32px;\n",
              "    }\n",
              "\n",
              "    .colab-df-convert:hover {\n",
              "      background-color: #E2EBFA;\n",
              "      box-shadow: 0px 1px 2px rgba(60, 64, 67, 0.3), 0px 1px 3px 1px rgba(60, 64, 67, 0.15);\n",
              "      fill: #174EA6;\n",
              "    }\n",
              "\n",
              "    .colab-df-buttons div {\n",
              "      margin-bottom: 4px;\n",
              "    }\n",
              "\n",
              "    [theme=dark] .colab-df-convert {\n",
              "      background-color: #3B4455;\n",
              "      fill: #D2E3FC;\n",
              "    }\n",
              "\n",
              "    [theme=dark] .colab-df-convert:hover {\n",
              "      background-color: #434B5C;\n",
              "      box-shadow: 0px 1px 3px 1px rgba(0, 0, 0, 0.15);\n",
              "      filter: drop-shadow(0px 1px 2px rgba(0, 0, 0, 0.3));\n",
              "      fill: #FFFFFF;\n",
              "    }\n",
              "  </style>\n",
              "\n",
              "    <script>\n",
              "      const buttonEl =\n",
              "        document.querySelector('#df-3e7c8fd4-5a71-4272-96e2-bfc2e74d6715 button.colab-df-convert');\n",
              "      buttonEl.style.display =\n",
              "        google.colab.kernel.accessAllowed ? 'block' : 'none';\n",
              "\n",
              "      async function convertToInteractive(key) {\n",
              "        const element = document.querySelector('#df-3e7c8fd4-5a71-4272-96e2-bfc2e74d6715');\n",
              "        const dataTable =\n",
              "          await google.colab.kernel.invokeFunction('convertToInteractive',\n",
              "                                                    [key], {});\n",
              "        if (!dataTable) return;\n",
              "\n",
              "        const docLinkHtml = 'Like what you see? Visit the ' +\n",
              "          '<a target=\"_blank\" href=https://colab.research.google.com/notebooks/data_table.ipynb>data table notebook</a>'\n",
              "          + ' to learn more about interactive tables.';\n",
              "        element.innerHTML = '';\n",
              "        dataTable['output_type'] = 'display_data';\n",
              "        await google.colab.output.renderOutput(dataTable, element);\n",
              "        const docLink = document.createElement('div');\n",
              "        docLink.innerHTML = docLinkHtml;\n",
              "        element.appendChild(docLink);\n",
              "      }\n",
              "    </script>\n",
              "  </div>\n",
              "\n",
              "\n",
              "<div id=\"df-b3e3389d-b33e-4c1f-b915-467dfce96f21\">\n",
              "  <button class=\"colab-df-quickchart\" onclick=\"quickchart('df-b3e3389d-b33e-4c1f-b915-467dfce96f21')\"\n",
              "            title=\"Suggest charts\"\n",
              "            style=\"display:none;\">\n",
              "\n",
              "<svg xmlns=\"http://www.w3.org/2000/svg\" height=\"24px\"viewBox=\"0 0 24 24\"\n",
              "     width=\"24px\">\n",
              "    <g>\n",
              "        <path d=\"M19 3H5c-1.1 0-2 .9-2 2v14c0 1.1.9 2 2 2h14c1.1 0 2-.9 2-2V5c0-1.1-.9-2-2-2zM9 17H7v-7h2v7zm4 0h-2V7h2v10zm4 0h-2v-4h2v4z\"/>\n",
              "    </g>\n",
              "</svg>\n",
              "  </button>\n",
              "\n",
              "<style>\n",
              "  .colab-df-quickchart {\n",
              "      --bg-color: #E8F0FE;\n",
              "      --fill-color: #1967D2;\n",
              "      --hover-bg-color: #E2EBFA;\n",
              "      --hover-fill-color: #174EA6;\n",
              "      --disabled-fill-color: #AAA;\n",
              "      --disabled-bg-color: #DDD;\n",
              "  }\n",
              "\n",
              "  [theme=dark] .colab-df-quickchart {\n",
              "      --bg-color: #3B4455;\n",
              "      --fill-color: #D2E3FC;\n",
              "      --hover-bg-color: #434B5C;\n",
              "      --hover-fill-color: #FFFFFF;\n",
              "      --disabled-bg-color: #3B4455;\n",
              "      --disabled-fill-color: #666;\n",
              "  }\n",
              "\n",
              "  .colab-df-quickchart {\n",
              "    background-color: var(--bg-color);\n",
              "    border: none;\n",
              "    border-radius: 50%;\n",
              "    cursor: pointer;\n",
              "    display: none;\n",
              "    fill: var(--fill-color);\n",
              "    height: 32px;\n",
              "    padding: 0;\n",
              "    width: 32px;\n",
              "  }\n",
              "\n",
              "  .colab-df-quickchart:hover {\n",
              "    background-color: var(--hover-bg-color);\n",
              "    box-shadow: 0 1px 2px rgba(60, 64, 67, 0.3), 0 1px 3px 1px rgba(60, 64, 67, 0.15);\n",
              "    fill: var(--button-hover-fill-color);\n",
              "  }\n",
              "\n",
              "  .colab-df-quickchart-complete:disabled,\n",
              "  .colab-df-quickchart-complete:disabled:hover {\n",
              "    background-color: var(--disabled-bg-color);\n",
              "    fill: var(--disabled-fill-color);\n",
              "    box-shadow: none;\n",
              "  }\n",
              "\n",
              "  .colab-df-spinner {\n",
              "    border: 2px solid var(--fill-color);\n",
              "    border-color: transparent;\n",
              "    border-bottom-color: var(--fill-color);\n",
              "    animation:\n",
              "      spin 1s steps(1) infinite;\n",
              "  }\n",
              "\n",
              "  @keyframes spin {\n",
              "    0% {\n",
              "      border-color: transparent;\n",
              "      border-bottom-color: var(--fill-color);\n",
              "      border-left-color: var(--fill-color);\n",
              "    }\n",
              "    20% {\n",
              "      border-color: transparent;\n",
              "      border-left-color: var(--fill-color);\n",
              "      border-top-color: var(--fill-color);\n",
              "    }\n",
              "    30% {\n",
              "      border-color: transparent;\n",
              "      border-left-color: var(--fill-color);\n",
              "      border-top-color: var(--fill-color);\n",
              "      border-right-color: var(--fill-color);\n",
              "    }\n",
              "    40% {\n",
              "      border-color: transparent;\n",
              "      border-right-color: var(--fill-color);\n",
              "      border-top-color: var(--fill-color);\n",
              "    }\n",
              "    60% {\n",
              "      border-color: transparent;\n",
              "      border-right-color: var(--fill-color);\n",
              "    }\n",
              "    80% {\n",
              "      border-color: transparent;\n",
              "      border-right-color: var(--fill-color);\n",
              "      border-bottom-color: var(--fill-color);\n",
              "    }\n",
              "    90% {\n",
              "      border-color: transparent;\n",
              "      border-bottom-color: var(--fill-color);\n",
              "    }\n",
              "  }\n",
              "</style>\n",
              "\n",
              "  <script>\n",
              "    async function quickchart(key) {\n",
              "      const quickchartButtonEl =\n",
              "        document.querySelector('#' + key + ' button');\n",
              "      quickchartButtonEl.disabled = true;  // To prevent multiple clicks.\n",
              "      quickchartButtonEl.classList.add('colab-df-spinner');\n",
              "      try {\n",
              "        const charts = await google.colab.kernel.invokeFunction(\n",
              "            'suggestCharts', [key], {});\n",
              "      } catch (error) {\n",
              "        console.error('Error during call to suggestCharts:', error);\n",
              "      }\n",
              "      quickchartButtonEl.classList.remove('colab-df-spinner');\n",
              "      quickchartButtonEl.classList.add('colab-df-quickchart-complete');\n",
              "    }\n",
              "    (() => {\n",
              "      let quickchartButtonEl =\n",
              "        document.querySelector('#df-b3e3389d-b33e-4c1f-b915-467dfce96f21 button');\n",
              "      quickchartButtonEl.style.display =\n",
              "        google.colab.kernel.accessAllowed ? 'block' : 'none';\n",
              "    })();\n",
              "  </script>\n",
              "</div>\n",
              "\n",
              "    </div>\n",
              "  </div>\n"
            ],
            "application/vnd.google.colaboratory.intrinsic+json": {
              "type": "dataframe",
              "summary": "{\n  \"name\": \"data\",\n  \"rows\": 8,\n  \"fields\": [\n    {\n      \"column\": \"Age\",\n      \"properties\": {\n        \"dtype\": \"number\",\n        \"std\": 168.85095050589013,\n        \"min\": 11.573414779043786,\n        \"max\": 517.0,\n        \"num_unique_values\": 8,\n        \"samples\": [\n          48.77176015473888,\n          55.0,\n          517.0\n        ],\n        \"semantic_type\": \"\",\n        \"description\": \"\"\n      }\n    },\n    {\n      \"column\": \"Height (cm)\",\n      \"properties\": {\n        \"dtype\": \"number\",\n        \"std\": 143.37703023272766,\n        \"min\": 8.73916944751389,\n        \"max\": 517.0,\n        \"num_unique_values\": 8,\n        \"samples\": [\n          164.59574468085106,\n          160.0,\n          517.0\n        ],\n        \"semantic_type\": \"\",\n        \"description\": \"\"\n      }\n    },\n    {\n      \"column\": \"Weight (kg)\",\n      \"properties\": {\n        \"dtype\": \"number\",\n        \"std\": 163.2089868551305,\n        \"min\": 8.193031357421052,\n        \"max\": 517.0,\n        \"num_unique_values\": 8,\n        \"samples\": [\n          67.93617021276596,\n          64.0,\n          517.0\n        ],\n        \"semantic_type\": \"\",\n        \"description\": \"\"\n      }\n    },\n    {\n      \"column\": \"Tidal Volume (mL)\",\n      \"properties\": {\n        \"dtype\": \"number\",\n        \"std\": 150.6644519695259,\n        \"min\": 74.2703298609238,\n        \"max\": 550.0,\n        \"num_unique_values\": 7,\n        \"samples\": [\n          517.0,\n          419.94197292069634,\n          510.0\n        ],\n        \"semantic_type\": \"\",\n        \"description\": \"\"\n      }\n    }\n  ]\n}"
            }
          },
          "metadata": {},
          "execution_count": 71
        }
      ]
    },
    {
      "cell_type": "markdown",
      "source": [
        "# **UNDERSTANDING THE DATASET AND TAKING THE INFERENCE**"
      ],
      "metadata": {
        "id": "eGVGYCrqol0M"
      }
    },
    {
      "cell_type": "markdown",
      "source": [
        "Using plotly library because it gives interactive graph which matplotlib cannot"
      ],
      "metadata": {
        "id": "e7MaqbNYpYau"
      }
    },
    {
      "cell_type": "code",
      "source": [
        "import plotly.express as px\n",
        "fig = px.histogram(data,\n",
        "                   x='Age',\n",
        "                   marginal='box',\n",
        "                   title='Distribution of Age')\n",
        "fig.update_layout(bargap=0.5)\n",
        "fig.show()"
      ],
      "metadata": {
        "colab": {
          "base_uri": "https://localhost:8080/",
          "height": 542
        },
        "id": "Zd8NbAQddHJZ",
        "outputId": "5a65ad4e-260a-42a3-e464-240b32231551"
      },
      "execution_count": 72,
      "outputs": [
        {
          "output_type": "display_data",
          "data": {
            "text/html": [
              "<html>\n",
              "<head><meta charset=\"utf-8\" /></head>\n",
              "<body>\n",
              "    <div>            <script src=\"https://cdnjs.cloudflare.com/ajax/libs/mathjax/2.7.5/MathJax.js?config=TeX-AMS-MML_SVG\"></script><script type=\"text/javascript\">if (window.MathJax && window.MathJax.Hub && window.MathJax.Hub.Config) {window.MathJax.Hub.Config({SVG: {font: \"STIX-Web\"}});}</script>                <script type=\"text/javascript\">window.PlotlyConfig = {MathJaxConfig: 'local'};</script>\n",
              "        <script charset=\"utf-8\" src=\"https://cdn.plot.ly/plotly-2.24.1.min.js\"></script>                <div id=\"c1e7d542-a87a-4501-89b9-a3ebb8dcc310\" class=\"plotly-graph-div\" style=\"height:525px; width:100%;\"></div>            <script type=\"text/javascript\">                                    window.PLOTLYENV=window.PLOTLYENV || {};                                    if (document.getElementById(\"c1e7d542-a87a-4501-89b9-a3ebb8dcc310\")) {                    Plotly.newPlot(                        \"c1e7d542-a87a-4501-89b9-a3ebb8dcc310\",                        [{\"alignmentgroup\":\"True\",\"bingroup\":\"x\",\"hovertemplate\":\"Age=%{x}\\u003cbr\\u003ecount=%{y}\\u003cextra\\u003e\\u003c\\u002fextra\\u003e\",\"legendgroup\":\"\",\"marker\":{\"color\":\"#636efa\",\"pattern\":{\"shape\":\"\"}},\"name\":\"\",\"offsetgroup\":\"\",\"orientation\":\"v\",\"showlegend\":false,\"x\":[23,45,34,29,50,62,37,54,28,49,35,60,41,33,47,53,31,48,39,57,25,46,36,52,32,51,40,58,27,44,38,55,30,56,26,43,42,59,24,61,29,60,33,45,34,50,39,53,37,57,41,52,28,47,35,56,32,54,27,51,44,55,36,58,40,49,29,46,38,60,42,53,25,59,31,50,30,57,33,54,26,51,39,48,34,55,41,60,27,52,58,29,46,32,59,38,53,25,50,31,57,54,40,51,56,44,60,33,58,26,55,37,52,29,47,35,53,39,59,32,50,41,56,27,60,34,57,30,54,25,48,53,28,49,36,52,33,58,31,55,30,50,27,46,41,60,34,51,57,37,52,35,59,29,56,31,50,32,58,47,36,54,42,53,29,60,30,57,33,52,31,55,34,60,28,56,35,54,26,53,40,59,27,50,33,58,30,51,29,56,36,54,53,34,52,26,59,32,60,33,55,29,58,30,57,27,54,52,31,60,28,55,33,56,41,60,29,50,37,54,35,57,31,53,27,59,28,60,55,34,50,40,57,32,53,36,58,56,33,59,35,54,52,57,55,59,54,27,58,32,56,29,50,31,60,34,57,53,60,28,56,35,54,52,32,59,51,29,58,55,33,53,28,59,26,60,35,50,31,57,28,52,33,58,30,55,59,60,53,31,56,54,35,52,33,58,30,55,32,54,60,57,52,29,59,57,35,60,32,59,56,55,53,59,57,33,60,58,55,35,53,34,59,56,60,55,59,28,60,26,54,56,59,55,32,54,57,58,25,35,60,59,27,57,55,32,56,60,54,58,55,53,30,59,56,60,31,57,53,55,59,54,56,55,57,60,58,57,54,59,56,58,57,54,55,60,57,32,59,35,56,60,57,58,59,55,60,57,58,57,60,58,54,56,55,60,57,54,59,60,57,58,54,59,60,34,57,58,58,55,30,56,59,57,54,59,31,60,57,58,54,57,59,56,60,55,57,54,59,56,60,54,57,60,59,60,58,57,60,55,34,58,56,59,58,56,60,58,58,60,56,59,55,58,54,59,56,60,58,55,58,57,60,59,55,58,56,59,55,60,59,56,57,60,55,59,56,58,55,57,56,57,58,60,59,56,57,60,58,56,59,57,60,58,58,60,57,59,56,60,60,58,60,55,60,59,57,55,60,56,60,55,57,60,55,59,59],\"xaxis\":\"x\",\"yaxis\":\"y\",\"type\":\"histogram\"},{\"alignmentgroup\":\"True\",\"hovertemplate\":\"Age=%{x}\\u003cextra\\u003e\\u003c\\u002fextra\\u003e\",\"legendgroup\":\"\",\"marker\":{\"color\":\"#636efa\"},\"name\":\"\",\"notched\":true,\"offsetgroup\":\"\",\"showlegend\":false,\"x\":[23,45,34,29,50,62,37,54,28,49,35,60,41,33,47,53,31,48,39,57,25,46,36,52,32,51,40,58,27,44,38,55,30,56,26,43,42,59,24,61,29,60,33,45,34,50,39,53,37,57,41,52,28,47,35,56,32,54,27,51,44,55,36,58,40,49,29,46,38,60,42,53,25,59,31,50,30,57,33,54,26,51,39,48,34,55,41,60,27,52,58,29,46,32,59,38,53,25,50,31,57,54,40,51,56,44,60,33,58,26,55,37,52,29,47,35,53,39,59,32,50,41,56,27,60,34,57,30,54,25,48,53,28,49,36,52,33,58,31,55,30,50,27,46,41,60,34,51,57,37,52,35,59,29,56,31,50,32,58,47,36,54,42,53,29,60,30,57,33,52,31,55,34,60,28,56,35,54,26,53,40,59,27,50,33,58,30,51,29,56,36,54,53,34,52,26,59,32,60,33,55,29,58,30,57,27,54,52,31,60,28,55,33,56,41,60,29,50,37,54,35,57,31,53,27,59,28,60,55,34,50,40,57,32,53,36,58,56,33,59,35,54,52,57,55,59,54,27,58,32,56,29,50,31,60,34,57,53,60,28,56,35,54,52,32,59,51,29,58,55,33,53,28,59,26,60,35,50,31,57,28,52,33,58,30,55,59,60,53,31,56,54,35,52,33,58,30,55,32,54,60,57,52,29,59,57,35,60,32,59,56,55,53,59,57,33,60,58,55,35,53,34,59,56,60,55,59,28,60,26,54,56,59,55,32,54,57,58,25,35,60,59,27,57,55,32,56,60,54,58,55,53,30,59,56,60,31,57,53,55,59,54,56,55,57,60,58,57,54,59,56,58,57,54,55,60,57,32,59,35,56,60,57,58,59,55,60,57,58,57,60,58,54,56,55,60,57,54,59,60,57,58,54,59,60,34,57,58,58,55,30,56,59,57,54,59,31,60,57,58,54,57,59,56,60,55,57,54,59,56,60,54,57,60,59,60,58,57,60,55,34,58,56,59,58,56,60,58,58,60,56,59,55,58,54,59,56,60,58,55,58,57,60,59,55,58,56,59,55,60,59,56,57,60,55,59,56,58,55,57,56,57,58,60,59,56,57,60,58,56,59,57,60,58,58,60,57,59,56,60,60,58,60,55,60,59,57,55,60,56,60,55,57,60,55,59,59],\"xaxis\":\"x2\",\"yaxis\":\"y2\",\"type\":\"box\"}],                        {\"template\":{\"data\":{\"histogram2dcontour\":[{\"type\":\"histogram2dcontour\",\"colorbar\":{\"outlinewidth\":0,\"ticks\":\"\"},\"colorscale\":[[0.0,\"#0d0887\"],[0.1111111111111111,\"#46039f\"],[0.2222222222222222,\"#7201a8\"],[0.3333333333333333,\"#9c179e\"],[0.4444444444444444,\"#bd3786\"],[0.5555555555555556,\"#d8576b\"],[0.6666666666666666,\"#ed7953\"],[0.7777777777777778,\"#fb9f3a\"],[0.8888888888888888,\"#fdca26\"],[1.0,\"#f0f921\"]]}],\"choropleth\":[{\"type\":\"choropleth\",\"colorbar\":{\"outlinewidth\":0,\"ticks\":\"\"}}],\"histogram2d\":[{\"type\":\"histogram2d\",\"colorbar\":{\"outlinewidth\":0,\"ticks\":\"\"},\"colorscale\":[[0.0,\"#0d0887\"],[0.1111111111111111,\"#46039f\"],[0.2222222222222222,\"#7201a8\"],[0.3333333333333333,\"#9c179e\"],[0.4444444444444444,\"#bd3786\"],[0.5555555555555556,\"#d8576b\"],[0.6666666666666666,\"#ed7953\"],[0.7777777777777778,\"#fb9f3a\"],[0.8888888888888888,\"#fdca26\"],[1.0,\"#f0f921\"]]}],\"heatmap\":[{\"type\":\"heatmap\",\"colorbar\":{\"outlinewidth\":0,\"ticks\":\"\"},\"colorscale\":[[0.0,\"#0d0887\"],[0.1111111111111111,\"#46039f\"],[0.2222222222222222,\"#7201a8\"],[0.3333333333333333,\"#9c179e\"],[0.4444444444444444,\"#bd3786\"],[0.5555555555555556,\"#d8576b\"],[0.6666666666666666,\"#ed7953\"],[0.7777777777777778,\"#fb9f3a\"],[0.8888888888888888,\"#fdca26\"],[1.0,\"#f0f921\"]]}],\"heatmapgl\":[{\"type\":\"heatmapgl\",\"colorbar\":{\"outlinewidth\":0,\"ticks\":\"\"},\"colorscale\":[[0.0,\"#0d0887\"],[0.1111111111111111,\"#46039f\"],[0.2222222222222222,\"#7201a8\"],[0.3333333333333333,\"#9c179e\"],[0.4444444444444444,\"#bd3786\"],[0.5555555555555556,\"#d8576b\"],[0.6666666666666666,\"#ed7953\"],[0.7777777777777778,\"#fb9f3a\"],[0.8888888888888888,\"#fdca26\"],[1.0,\"#f0f921\"]]}],\"contourcarpet\":[{\"type\":\"contourcarpet\",\"colorbar\":{\"outlinewidth\":0,\"ticks\":\"\"}}],\"contour\":[{\"type\":\"contour\",\"colorbar\":{\"outlinewidth\":0,\"ticks\":\"\"},\"colorscale\":[[0.0,\"#0d0887\"],[0.1111111111111111,\"#46039f\"],[0.2222222222222222,\"#7201a8\"],[0.3333333333333333,\"#9c179e\"],[0.4444444444444444,\"#bd3786\"],[0.5555555555555556,\"#d8576b\"],[0.6666666666666666,\"#ed7953\"],[0.7777777777777778,\"#fb9f3a\"],[0.8888888888888888,\"#fdca26\"],[1.0,\"#f0f921\"]]}],\"surface\":[{\"type\":\"surface\",\"colorbar\":{\"outlinewidth\":0,\"ticks\":\"\"},\"colorscale\":[[0.0,\"#0d0887\"],[0.1111111111111111,\"#46039f\"],[0.2222222222222222,\"#7201a8\"],[0.3333333333333333,\"#9c179e\"],[0.4444444444444444,\"#bd3786\"],[0.5555555555555556,\"#d8576b\"],[0.6666666666666666,\"#ed7953\"],[0.7777777777777778,\"#fb9f3a\"],[0.8888888888888888,\"#fdca26\"],[1.0,\"#f0f921\"]]}],\"mesh3d\":[{\"type\":\"mesh3d\",\"colorbar\":{\"outlinewidth\":0,\"ticks\":\"\"}}],\"scatter\":[{\"fillpattern\":{\"fillmode\":\"overlay\",\"size\":10,\"solidity\":0.2},\"type\":\"scatter\"}],\"parcoords\":[{\"type\":\"parcoords\",\"line\":{\"colorbar\":{\"outlinewidth\":0,\"ticks\":\"\"}}}],\"scatterpolargl\":[{\"type\":\"scatterpolargl\",\"marker\":{\"colorbar\":{\"outlinewidth\":0,\"ticks\":\"\"}}}],\"bar\":[{\"error_x\":{\"color\":\"#2a3f5f\"},\"error_y\":{\"color\":\"#2a3f5f\"},\"marker\":{\"line\":{\"color\":\"#E5ECF6\",\"width\":0.5},\"pattern\":{\"fillmode\":\"overlay\",\"size\":10,\"solidity\":0.2}},\"type\":\"bar\"}],\"scattergeo\":[{\"type\":\"scattergeo\",\"marker\":{\"colorbar\":{\"outlinewidth\":0,\"ticks\":\"\"}}}],\"scatterpolar\":[{\"type\":\"scatterpolar\",\"marker\":{\"colorbar\":{\"outlinewidth\":0,\"ticks\":\"\"}}}],\"histogram\":[{\"marker\":{\"pattern\":{\"fillmode\":\"overlay\",\"size\":10,\"solidity\":0.2}},\"type\":\"histogram\"}],\"scattergl\":[{\"type\":\"scattergl\",\"marker\":{\"colorbar\":{\"outlinewidth\":0,\"ticks\":\"\"}}}],\"scatter3d\":[{\"type\":\"scatter3d\",\"line\":{\"colorbar\":{\"outlinewidth\":0,\"ticks\":\"\"}},\"marker\":{\"colorbar\":{\"outlinewidth\":0,\"ticks\":\"\"}}}],\"scattermapbox\":[{\"type\":\"scattermapbox\",\"marker\":{\"colorbar\":{\"outlinewidth\":0,\"ticks\":\"\"}}}],\"scatterternary\":[{\"type\":\"scatterternary\",\"marker\":{\"colorbar\":{\"outlinewidth\":0,\"ticks\":\"\"}}}],\"scattercarpet\":[{\"type\":\"scattercarpet\",\"marker\":{\"colorbar\":{\"outlinewidth\":0,\"ticks\":\"\"}}}],\"carpet\":[{\"aaxis\":{\"endlinecolor\":\"#2a3f5f\",\"gridcolor\":\"white\",\"linecolor\":\"white\",\"minorgridcolor\":\"white\",\"startlinecolor\":\"#2a3f5f\"},\"baxis\":{\"endlinecolor\":\"#2a3f5f\",\"gridcolor\":\"white\",\"linecolor\":\"white\",\"minorgridcolor\":\"white\",\"startlinecolor\":\"#2a3f5f\"},\"type\":\"carpet\"}],\"table\":[{\"cells\":{\"fill\":{\"color\":\"#EBF0F8\"},\"line\":{\"color\":\"white\"}},\"header\":{\"fill\":{\"color\":\"#C8D4E3\"},\"line\":{\"color\":\"white\"}},\"type\":\"table\"}],\"barpolar\":[{\"marker\":{\"line\":{\"color\":\"#E5ECF6\",\"width\":0.5},\"pattern\":{\"fillmode\":\"overlay\",\"size\":10,\"solidity\":0.2}},\"type\":\"barpolar\"}],\"pie\":[{\"automargin\":true,\"type\":\"pie\"}]},\"layout\":{\"autotypenumbers\":\"strict\",\"colorway\":[\"#636efa\",\"#EF553B\",\"#00cc96\",\"#ab63fa\",\"#FFA15A\",\"#19d3f3\",\"#FF6692\",\"#B6E880\",\"#FF97FF\",\"#FECB52\"],\"font\":{\"color\":\"#2a3f5f\"},\"hovermode\":\"closest\",\"hoverlabel\":{\"align\":\"left\"},\"paper_bgcolor\":\"white\",\"plot_bgcolor\":\"#E5ECF6\",\"polar\":{\"bgcolor\":\"#E5ECF6\",\"angularaxis\":{\"gridcolor\":\"white\",\"linecolor\":\"white\",\"ticks\":\"\"},\"radialaxis\":{\"gridcolor\":\"white\",\"linecolor\":\"white\",\"ticks\":\"\"}},\"ternary\":{\"bgcolor\":\"#E5ECF6\",\"aaxis\":{\"gridcolor\":\"white\",\"linecolor\":\"white\",\"ticks\":\"\"},\"baxis\":{\"gridcolor\":\"white\",\"linecolor\":\"white\",\"ticks\":\"\"},\"caxis\":{\"gridcolor\":\"white\",\"linecolor\":\"white\",\"ticks\":\"\"}},\"coloraxis\":{\"colorbar\":{\"outlinewidth\":0,\"ticks\":\"\"}},\"colorscale\":{\"sequential\":[[0.0,\"#0d0887\"],[0.1111111111111111,\"#46039f\"],[0.2222222222222222,\"#7201a8\"],[0.3333333333333333,\"#9c179e\"],[0.4444444444444444,\"#bd3786\"],[0.5555555555555556,\"#d8576b\"],[0.6666666666666666,\"#ed7953\"],[0.7777777777777778,\"#fb9f3a\"],[0.8888888888888888,\"#fdca26\"],[1.0,\"#f0f921\"]],\"sequentialminus\":[[0.0,\"#0d0887\"],[0.1111111111111111,\"#46039f\"],[0.2222222222222222,\"#7201a8\"],[0.3333333333333333,\"#9c179e\"],[0.4444444444444444,\"#bd3786\"],[0.5555555555555556,\"#d8576b\"],[0.6666666666666666,\"#ed7953\"],[0.7777777777777778,\"#fb9f3a\"],[0.8888888888888888,\"#fdca26\"],[1.0,\"#f0f921\"]],\"diverging\":[[0,\"#8e0152\"],[0.1,\"#c51b7d\"],[0.2,\"#de77ae\"],[0.3,\"#f1b6da\"],[0.4,\"#fde0ef\"],[0.5,\"#f7f7f7\"],[0.6,\"#e6f5d0\"],[0.7,\"#b8e186\"],[0.8,\"#7fbc41\"],[0.9,\"#4d9221\"],[1,\"#276419\"]]},\"xaxis\":{\"gridcolor\":\"white\",\"linecolor\":\"white\",\"ticks\":\"\",\"title\":{\"standoff\":15},\"zerolinecolor\":\"white\",\"automargin\":true,\"zerolinewidth\":2},\"yaxis\":{\"gridcolor\":\"white\",\"linecolor\":\"white\",\"ticks\":\"\",\"title\":{\"standoff\":15},\"zerolinecolor\":\"white\",\"automargin\":true,\"zerolinewidth\":2},\"scene\":{\"xaxis\":{\"backgroundcolor\":\"#E5ECF6\",\"gridcolor\":\"white\",\"linecolor\":\"white\",\"showbackground\":true,\"ticks\":\"\",\"zerolinecolor\":\"white\",\"gridwidth\":2},\"yaxis\":{\"backgroundcolor\":\"#E5ECF6\",\"gridcolor\":\"white\",\"linecolor\":\"white\",\"showbackground\":true,\"ticks\":\"\",\"zerolinecolor\":\"white\",\"gridwidth\":2},\"zaxis\":{\"backgroundcolor\":\"#E5ECF6\",\"gridcolor\":\"white\",\"linecolor\":\"white\",\"showbackground\":true,\"ticks\":\"\",\"zerolinecolor\":\"white\",\"gridwidth\":2}},\"shapedefaults\":{\"line\":{\"color\":\"#2a3f5f\"}},\"annotationdefaults\":{\"arrowcolor\":\"#2a3f5f\",\"arrowhead\":0,\"arrowwidth\":1},\"geo\":{\"bgcolor\":\"white\",\"landcolor\":\"#E5ECF6\",\"subunitcolor\":\"white\",\"showland\":true,\"showlakes\":true,\"lakecolor\":\"white\"},\"title\":{\"x\":0.05},\"mapbox\":{\"style\":\"light\"}}},\"xaxis\":{\"anchor\":\"y\",\"domain\":[0.0,1.0],\"title\":{\"text\":\"Age\"}},\"yaxis\":{\"anchor\":\"x\",\"domain\":[0.0,0.8316],\"title\":{\"text\":\"count\"}},\"xaxis2\":{\"anchor\":\"y2\",\"domain\":[0.0,1.0],\"matches\":\"x\",\"showticklabels\":false,\"showgrid\":true},\"yaxis2\":{\"anchor\":\"x2\",\"domain\":[0.8416,1.0],\"matches\":\"y2\",\"showticklabels\":false,\"showline\":false,\"ticks\":\"\",\"showgrid\":false},\"legend\":{\"tracegroupgap\":0},\"title\":{\"text\":\"Distribution of Age\"},\"barmode\":\"relative\",\"bargap\":0.5},                        {\"responsive\": true}                    ).then(function(){\n",
              "                            \n",
              "var gd = document.getElementById('c1e7d542-a87a-4501-89b9-a3ebb8dcc310');\n",
              "var x = new MutationObserver(function (mutations, observer) {{\n",
              "        var display = window.getComputedStyle(gd).display;\n",
              "        if (!display || display === 'none') {{\n",
              "            console.log([gd, 'removed!']);\n",
              "            Plotly.purge(gd);\n",
              "            observer.disconnect();\n",
              "        }}\n",
              "}});\n",
              "\n",
              "// Listen for the removal of the full notebook cells\n",
              "var notebookContainer = gd.closest('#notebook-container');\n",
              "if (notebookContainer) {{\n",
              "    x.observe(notebookContainer, {childList: true});\n",
              "}}\n",
              "\n",
              "// Listen for the clearing of the current output cell\n",
              "var outputEl = gd.closest('.output');\n",
              "if (outputEl) {{\n",
              "    x.observe(outputEl, {childList: true});\n",
              "}}\n",
              "\n",
              "                        })                };                            </script>        </div>\n",
              "</body>\n",
              "</html>"
            ]
          },
          "metadata": {}
        }
      ]
    },
    {
      "cell_type": "code",
      "source": [
        "fig = px.histogram(data,\n",
        "                   x='Height (cm)',\n",
        "                   marginal='box',\n",
        "                   title='Distribution of Height')\n",
        "fig.update_layout(bargap=0.5)\n",
        "fig.show()"
      ],
      "metadata": {
        "colab": {
          "base_uri": "https://localhost:8080/",
          "height": 542
        },
        "id": "yS1DSmetdWa_",
        "outputId": "393ce2e2-22ae-4659-b09c-0d4209f5b6f2"
      },
      "execution_count": 73,
      "outputs": [
        {
          "output_type": "display_data",
          "data": {
            "text/html": [
              "<html>\n",
              "<head><meta charset=\"utf-8\" /></head>\n",
              "<body>\n",
              "    <div>            <script src=\"https://cdnjs.cloudflare.com/ajax/libs/mathjax/2.7.5/MathJax.js?config=TeX-AMS-MML_SVG\"></script><script type=\"text/javascript\">if (window.MathJax && window.MathJax.Hub && window.MathJax.Hub.Config) {window.MathJax.Hub.Config({SVG: {font: \"STIX-Web\"}});}</script>                <script type=\"text/javascript\">window.PlotlyConfig = {MathJaxConfig: 'local'};</script>\n",
              "        <script charset=\"utf-8\" src=\"https://cdn.plot.ly/plotly-2.24.1.min.js\"></script>                <div id=\"9ca9ecab-59b1-4d33-985f-6477cd591236\" class=\"plotly-graph-div\" style=\"height:525px; width:100%;\"></div>            <script type=\"text/javascript\">                                    window.PLOTLYENV=window.PLOTLYENV || {};                                    if (document.getElementById(\"9ca9ecab-59b1-4d33-985f-6477cd591236\")) {                    Plotly.newPlot(                        \"9ca9ecab-59b1-4d33-985f-6477cd591236\",                        [{\"alignmentgroup\":\"True\",\"bingroup\":\"x\",\"hovertemplate\":\"Height (cm)=%{x}\\u003cbr\\u003ecount=%{y}\\u003cextra\\u003e\\u003c\\u002fextra\\u003e\",\"legendgroup\":\"\",\"marker\":{\"color\":\"#636efa\",\"pattern\":{\"shape\":\"\"}},\"name\":\"\",\"offsetgroup\":\"\",\"orientation\":\"v\",\"showlegend\":false,\"x\":[168,162,175,160,170,155,180,165,172,158,178,167,182,159,176,166,173,160,179,163,169,161,177,156,174,157,180,164,171,165,181,162,172,159,170,168,176,160,175,157,181,158,169,161,179,155,177,166,180,164,174,162,171,165,182,160,178,159,170,158,172,157,181,161,179,156,177,163,174,167,180,158,169,160,176,164,181,161,178,155,172,156,180,159,175,158,177,162,170,157,160,179,163,174,159,176,161,170,155,178,158,162,175,157,159,179,156,177,164,171,161,180,160,178,165,182,162,176,158,174,157,181,163,170,155,179,159,175,160,172,164,158,178,161,177,156,170,165,180,159,174,160,179,157,181,162,175,159,161,180,155,177,160,174,158,178,157,181,162,160,180,158,175,161,179,156,172,160,181,163,174,159,180,158,176,164,178,157,170,155,181,160,174,159,178,161,180,157,175,160,181,162,158,180,159,174,156,176,158,180,160,172,164,178,161,181,155,159,180,162,176,158,174,160,179,157,178,155,181,160,180,162,177,158,170,159,181,161,160,172,156,181,160,175,157,180,164,159,177,160,181,155,157,160,162,158,157,181,160,176,162,180,159,175,164,178,160,155,158,177,159,180,161,157,178,160,155,181,164,160,180,157,178,159,181,155,179,161,172,158,180,159,176,164,181,157,160,162,155,179,160,161,175,157,178,155,176,162,180,157,162,158,155,180,161,159,181,155,178,160,162,158,157,158,160,181,155,162,159,177,158,181,160,157,161,160,158,181,155,178,162,158,161,157,181,160,159,162,180,176,161,158,180,160,159,172,157,161,155,160,162,158,180,157,161,160,181,155,159,160,162,157,160,159,160,158,161,155,162,158,160,161,155,159,160,158,157,180,160,174,162,159,155,160,157,158,161,155,160,159,158,155,160,157,162,158,161,155,160,158,160,159,162,158,155,174,158,160,161,157,178,160,158,160,157,155,176,161,158,162,158,160,161,155,160,157,159,158,155,160,160,160,162,158,161,160,158,161,160,155,176,158,162,161,155,159,162,157,161,162,155,161,157,158,159,160,157,155,155,157,160,161,158,158,161,158,159,162,155,158,157,160,158,158,161,160,155,161,157,155,162,158,155,158,158,161,155,158,160,160,155,157,158,158,157,155,158,157,160,155,158,160,158,158,161,160,157,160,158,160,162,160,158,155,158,155,160],\"xaxis\":\"x\",\"yaxis\":\"y\",\"type\":\"histogram\"},{\"alignmentgroup\":\"True\",\"hovertemplate\":\"Height (cm)=%{x}\\u003cextra\\u003e\\u003c\\u002fextra\\u003e\",\"legendgroup\":\"\",\"marker\":{\"color\":\"#636efa\"},\"name\":\"\",\"notched\":true,\"offsetgroup\":\"\",\"showlegend\":false,\"x\":[168,162,175,160,170,155,180,165,172,158,178,167,182,159,176,166,173,160,179,163,169,161,177,156,174,157,180,164,171,165,181,162,172,159,170,168,176,160,175,157,181,158,169,161,179,155,177,166,180,164,174,162,171,165,182,160,178,159,170,158,172,157,181,161,179,156,177,163,174,167,180,158,169,160,176,164,181,161,178,155,172,156,180,159,175,158,177,162,170,157,160,179,163,174,159,176,161,170,155,178,158,162,175,157,159,179,156,177,164,171,161,180,160,178,165,182,162,176,158,174,157,181,163,170,155,179,159,175,160,172,164,158,178,161,177,156,170,165,180,159,174,160,179,157,181,162,175,159,161,180,155,177,160,174,158,178,157,181,162,160,180,158,175,161,179,156,172,160,181,163,174,159,180,158,176,164,178,157,170,155,181,160,174,159,178,161,180,157,175,160,181,162,158,180,159,174,156,176,158,180,160,172,164,178,161,181,155,159,180,162,176,158,174,160,179,157,178,155,181,160,180,162,177,158,170,159,181,161,160,172,156,181,160,175,157,180,164,159,177,160,181,155,157,160,162,158,157,181,160,176,162,180,159,175,164,178,160,155,158,177,159,180,161,157,178,160,155,181,164,160,180,157,178,159,181,155,179,161,172,158,180,159,176,164,181,157,160,162,155,179,160,161,175,157,178,155,176,162,180,157,162,158,155,180,161,159,181,155,178,160,162,158,157,158,160,181,155,162,159,177,158,181,160,157,161,160,158,181,155,178,162,158,161,157,181,160,159,162,180,176,161,158,180,160,159,172,157,161,155,160,162,158,180,157,161,160,181,155,159,160,162,157,160,159,160,158,161,155,162,158,160,161,155,159,160,158,157,180,160,174,162,159,155,160,157,158,161,155,160,159,158,155,160,157,162,158,161,155,160,158,160,159,162,158,155,174,158,160,161,157,178,160,158,160,157,155,176,161,158,162,158,160,161,155,160,157,159,158,155,160,160,160,162,158,161,160,158,161,160,155,176,158,162,161,155,159,162,157,161,162,155,161,157,158,159,160,157,155,155,157,160,161,158,158,161,158,159,162,155,158,157,160,158,158,161,160,155,161,157,155,162,158,155,158,158,161,155,158,160,160,155,157,158,158,157,155,158,157,160,155,158,160,158,158,161,160,157,160,158,160,162,160,158,155,158,155,160],\"xaxis\":\"x2\",\"yaxis\":\"y2\",\"type\":\"box\"}],                        {\"template\":{\"data\":{\"histogram2dcontour\":[{\"type\":\"histogram2dcontour\",\"colorbar\":{\"outlinewidth\":0,\"ticks\":\"\"},\"colorscale\":[[0.0,\"#0d0887\"],[0.1111111111111111,\"#46039f\"],[0.2222222222222222,\"#7201a8\"],[0.3333333333333333,\"#9c179e\"],[0.4444444444444444,\"#bd3786\"],[0.5555555555555556,\"#d8576b\"],[0.6666666666666666,\"#ed7953\"],[0.7777777777777778,\"#fb9f3a\"],[0.8888888888888888,\"#fdca26\"],[1.0,\"#f0f921\"]]}],\"choropleth\":[{\"type\":\"choropleth\",\"colorbar\":{\"outlinewidth\":0,\"ticks\":\"\"}}],\"histogram2d\":[{\"type\":\"histogram2d\",\"colorbar\":{\"outlinewidth\":0,\"ticks\":\"\"},\"colorscale\":[[0.0,\"#0d0887\"],[0.1111111111111111,\"#46039f\"],[0.2222222222222222,\"#7201a8\"],[0.3333333333333333,\"#9c179e\"],[0.4444444444444444,\"#bd3786\"],[0.5555555555555556,\"#d8576b\"],[0.6666666666666666,\"#ed7953\"],[0.7777777777777778,\"#fb9f3a\"],[0.8888888888888888,\"#fdca26\"],[1.0,\"#f0f921\"]]}],\"heatmap\":[{\"type\":\"heatmap\",\"colorbar\":{\"outlinewidth\":0,\"ticks\":\"\"},\"colorscale\":[[0.0,\"#0d0887\"],[0.1111111111111111,\"#46039f\"],[0.2222222222222222,\"#7201a8\"],[0.3333333333333333,\"#9c179e\"],[0.4444444444444444,\"#bd3786\"],[0.5555555555555556,\"#d8576b\"],[0.6666666666666666,\"#ed7953\"],[0.7777777777777778,\"#fb9f3a\"],[0.8888888888888888,\"#fdca26\"],[1.0,\"#f0f921\"]]}],\"heatmapgl\":[{\"type\":\"heatmapgl\",\"colorbar\":{\"outlinewidth\":0,\"ticks\":\"\"},\"colorscale\":[[0.0,\"#0d0887\"],[0.1111111111111111,\"#46039f\"],[0.2222222222222222,\"#7201a8\"],[0.3333333333333333,\"#9c179e\"],[0.4444444444444444,\"#bd3786\"],[0.5555555555555556,\"#d8576b\"],[0.6666666666666666,\"#ed7953\"],[0.7777777777777778,\"#fb9f3a\"],[0.8888888888888888,\"#fdca26\"],[1.0,\"#f0f921\"]]}],\"contourcarpet\":[{\"type\":\"contourcarpet\",\"colorbar\":{\"outlinewidth\":0,\"ticks\":\"\"}}],\"contour\":[{\"type\":\"contour\",\"colorbar\":{\"outlinewidth\":0,\"ticks\":\"\"},\"colorscale\":[[0.0,\"#0d0887\"],[0.1111111111111111,\"#46039f\"],[0.2222222222222222,\"#7201a8\"],[0.3333333333333333,\"#9c179e\"],[0.4444444444444444,\"#bd3786\"],[0.5555555555555556,\"#d8576b\"],[0.6666666666666666,\"#ed7953\"],[0.7777777777777778,\"#fb9f3a\"],[0.8888888888888888,\"#fdca26\"],[1.0,\"#f0f921\"]]}],\"surface\":[{\"type\":\"surface\",\"colorbar\":{\"outlinewidth\":0,\"ticks\":\"\"},\"colorscale\":[[0.0,\"#0d0887\"],[0.1111111111111111,\"#46039f\"],[0.2222222222222222,\"#7201a8\"],[0.3333333333333333,\"#9c179e\"],[0.4444444444444444,\"#bd3786\"],[0.5555555555555556,\"#d8576b\"],[0.6666666666666666,\"#ed7953\"],[0.7777777777777778,\"#fb9f3a\"],[0.8888888888888888,\"#fdca26\"],[1.0,\"#f0f921\"]]}],\"mesh3d\":[{\"type\":\"mesh3d\",\"colorbar\":{\"outlinewidth\":0,\"ticks\":\"\"}}],\"scatter\":[{\"fillpattern\":{\"fillmode\":\"overlay\",\"size\":10,\"solidity\":0.2},\"type\":\"scatter\"}],\"parcoords\":[{\"type\":\"parcoords\",\"line\":{\"colorbar\":{\"outlinewidth\":0,\"ticks\":\"\"}}}],\"scatterpolargl\":[{\"type\":\"scatterpolargl\",\"marker\":{\"colorbar\":{\"outlinewidth\":0,\"ticks\":\"\"}}}],\"bar\":[{\"error_x\":{\"color\":\"#2a3f5f\"},\"error_y\":{\"color\":\"#2a3f5f\"},\"marker\":{\"line\":{\"color\":\"#E5ECF6\",\"width\":0.5},\"pattern\":{\"fillmode\":\"overlay\",\"size\":10,\"solidity\":0.2}},\"type\":\"bar\"}],\"scattergeo\":[{\"type\":\"scattergeo\",\"marker\":{\"colorbar\":{\"outlinewidth\":0,\"ticks\":\"\"}}}],\"scatterpolar\":[{\"type\":\"scatterpolar\",\"marker\":{\"colorbar\":{\"outlinewidth\":0,\"ticks\":\"\"}}}],\"histogram\":[{\"marker\":{\"pattern\":{\"fillmode\":\"overlay\",\"size\":10,\"solidity\":0.2}},\"type\":\"histogram\"}],\"scattergl\":[{\"type\":\"scattergl\",\"marker\":{\"colorbar\":{\"outlinewidth\":0,\"ticks\":\"\"}}}],\"scatter3d\":[{\"type\":\"scatter3d\",\"line\":{\"colorbar\":{\"outlinewidth\":0,\"ticks\":\"\"}},\"marker\":{\"colorbar\":{\"outlinewidth\":0,\"ticks\":\"\"}}}],\"scattermapbox\":[{\"type\":\"scattermapbox\",\"marker\":{\"colorbar\":{\"outlinewidth\":0,\"ticks\":\"\"}}}],\"scatterternary\":[{\"type\":\"scatterternary\",\"marker\":{\"colorbar\":{\"outlinewidth\":0,\"ticks\":\"\"}}}],\"scattercarpet\":[{\"type\":\"scattercarpet\",\"marker\":{\"colorbar\":{\"outlinewidth\":0,\"ticks\":\"\"}}}],\"carpet\":[{\"aaxis\":{\"endlinecolor\":\"#2a3f5f\",\"gridcolor\":\"white\",\"linecolor\":\"white\",\"minorgridcolor\":\"white\",\"startlinecolor\":\"#2a3f5f\"},\"baxis\":{\"endlinecolor\":\"#2a3f5f\",\"gridcolor\":\"white\",\"linecolor\":\"white\",\"minorgridcolor\":\"white\",\"startlinecolor\":\"#2a3f5f\"},\"type\":\"carpet\"}],\"table\":[{\"cells\":{\"fill\":{\"color\":\"#EBF0F8\"},\"line\":{\"color\":\"white\"}},\"header\":{\"fill\":{\"color\":\"#C8D4E3\"},\"line\":{\"color\":\"white\"}},\"type\":\"table\"}],\"barpolar\":[{\"marker\":{\"line\":{\"color\":\"#E5ECF6\",\"width\":0.5},\"pattern\":{\"fillmode\":\"overlay\",\"size\":10,\"solidity\":0.2}},\"type\":\"barpolar\"}],\"pie\":[{\"automargin\":true,\"type\":\"pie\"}]},\"layout\":{\"autotypenumbers\":\"strict\",\"colorway\":[\"#636efa\",\"#EF553B\",\"#00cc96\",\"#ab63fa\",\"#FFA15A\",\"#19d3f3\",\"#FF6692\",\"#B6E880\",\"#FF97FF\",\"#FECB52\"],\"font\":{\"color\":\"#2a3f5f\"},\"hovermode\":\"closest\",\"hoverlabel\":{\"align\":\"left\"},\"paper_bgcolor\":\"white\",\"plot_bgcolor\":\"#E5ECF6\",\"polar\":{\"bgcolor\":\"#E5ECF6\",\"angularaxis\":{\"gridcolor\":\"white\",\"linecolor\":\"white\",\"ticks\":\"\"},\"radialaxis\":{\"gridcolor\":\"white\",\"linecolor\":\"white\",\"ticks\":\"\"}},\"ternary\":{\"bgcolor\":\"#E5ECF6\",\"aaxis\":{\"gridcolor\":\"white\",\"linecolor\":\"white\",\"ticks\":\"\"},\"baxis\":{\"gridcolor\":\"white\",\"linecolor\":\"white\",\"ticks\":\"\"},\"caxis\":{\"gridcolor\":\"white\",\"linecolor\":\"white\",\"ticks\":\"\"}},\"coloraxis\":{\"colorbar\":{\"outlinewidth\":0,\"ticks\":\"\"}},\"colorscale\":{\"sequential\":[[0.0,\"#0d0887\"],[0.1111111111111111,\"#46039f\"],[0.2222222222222222,\"#7201a8\"],[0.3333333333333333,\"#9c179e\"],[0.4444444444444444,\"#bd3786\"],[0.5555555555555556,\"#d8576b\"],[0.6666666666666666,\"#ed7953\"],[0.7777777777777778,\"#fb9f3a\"],[0.8888888888888888,\"#fdca26\"],[1.0,\"#f0f921\"]],\"sequentialminus\":[[0.0,\"#0d0887\"],[0.1111111111111111,\"#46039f\"],[0.2222222222222222,\"#7201a8\"],[0.3333333333333333,\"#9c179e\"],[0.4444444444444444,\"#bd3786\"],[0.5555555555555556,\"#d8576b\"],[0.6666666666666666,\"#ed7953\"],[0.7777777777777778,\"#fb9f3a\"],[0.8888888888888888,\"#fdca26\"],[1.0,\"#f0f921\"]],\"diverging\":[[0,\"#8e0152\"],[0.1,\"#c51b7d\"],[0.2,\"#de77ae\"],[0.3,\"#f1b6da\"],[0.4,\"#fde0ef\"],[0.5,\"#f7f7f7\"],[0.6,\"#e6f5d0\"],[0.7,\"#b8e186\"],[0.8,\"#7fbc41\"],[0.9,\"#4d9221\"],[1,\"#276419\"]]},\"xaxis\":{\"gridcolor\":\"white\",\"linecolor\":\"white\",\"ticks\":\"\",\"title\":{\"standoff\":15},\"zerolinecolor\":\"white\",\"automargin\":true,\"zerolinewidth\":2},\"yaxis\":{\"gridcolor\":\"white\",\"linecolor\":\"white\",\"ticks\":\"\",\"title\":{\"standoff\":15},\"zerolinecolor\":\"white\",\"automargin\":true,\"zerolinewidth\":2},\"scene\":{\"xaxis\":{\"backgroundcolor\":\"#E5ECF6\",\"gridcolor\":\"white\",\"linecolor\":\"white\",\"showbackground\":true,\"ticks\":\"\",\"zerolinecolor\":\"white\",\"gridwidth\":2},\"yaxis\":{\"backgroundcolor\":\"#E5ECF6\",\"gridcolor\":\"white\",\"linecolor\":\"white\",\"showbackground\":true,\"ticks\":\"\",\"zerolinecolor\":\"white\",\"gridwidth\":2},\"zaxis\":{\"backgroundcolor\":\"#E5ECF6\",\"gridcolor\":\"white\",\"linecolor\":\"white\",\"showbackground\":true,\"ticks\":\"\",\"zerolinecolor\":\"white\",\"gridwidth\":2}},\"shapedefaults\":{\"line\":{\"color\":\"#2a3f5f\"}},\"annotationdefaults\":{\"arrowcolor\":\"#2a3f5f\",\"arrowhead\":0,\"arrowwidth\":1},\"geo\":{\"bgcolor\":\"white\",\"landcolor\":\"#E5ECF6\",\"subunitcolor\":\"white\",\"showland\":true,\"showlakes\":true,\"lakecolor\":\"white\"},\"title\":{\"x\":0.05},\"mapbox\":{\"style\":\"light\"}}},\"xaxis\":{\"anchor\":\"y\",\"domain\":[0.0,1.0],\"title\":{\"text\":\"Height (cm)\"}},\"yaxis\":{\"anchor\":\"x\",\"domain\":[0.0,0.8316],\"title\":{\"text\":\"count\"}},\"xaxis2\":{\"anchor\":\"y2\",\"domain\":[0.0,1.0],\"matches\":\"x\",\"showticklabels\":false,\"showgrid\":true},\"yaxis2\":{\"anchor\":\"x2\",\"domain\":[0.8416,1.0],\"matches\":\"y2\",\"showticklabels\":false,\"showline\":false,\"ticks\":\"\",\"showgrid\":false},\"legend\":{\"tracegroupgap\":0},\"title\":{\"text\":\"Distribution of Height\"},\"barmode\":\"relative\",\"bargap\":0.5},                        {\"responsive\": true}                    ).then(function(){\n",
              "                            \n",
              "var gd = document.getElementById('9ca9ecab-59b1-4d33-985f-6477cd591236');\n",
              "var x = new MutationObserver(function (mutations, observer) {{\n",
              "        var display = window.getComputedStyle(gd).display;\n",
              "        if (!display || display === 'none') {{\n",
              "            console.log([gd, 'removed!']);\n",
              "            Plotly.purge(gd);\n",
              "            observer.disconnect();\n",
              "        }}\n",
              "}});\n",
              "\n",
              "// Listen for the removal of the full notebook cells\n",
              "var notebookContainer = gd.closest('#notebook-container');\n",
              "if (notebookContainer) {{\n",
              "    x.observe(notebookContainer, {childList: true});\n",
              "}}\n",
              "\n",
              "// Listen for the clearing of the current output cell\n",
              "var outputEl = gd.closest('.output');\n",
              "if (outputEl) {{\n",
              "    x.observe(outputEl, {childList: true});\n",
              "}}\n",
              "\n",
              "                        })                };                            </script>        </div>\n",
              "</body>\n",
              "</html>"
            ]
          },
          "metadata": {}
        }
      ]
    },
    {
      "cell_type": "code",
      "source": [
        "fig = px.histogram(data,\n",
        "                   x='Tidal Volume (mL)',\n",
        "                   marginal='box',\n",
        "                   color='Gender',\n",
        "                   title='Distribution of volume')\n",
        "fig.update_layout(bargap=0.5)\n",
        "fig.show()"
      ],
      "metadata": {
        "colab": {
          "base_uri": "https://localhost:8080/",
          "height": 542
        },
        "id": "1nD33Qpedn0T",
        "outputId": "abff5599-d9f0-46f6-d255-bce5cc5c626b"
      },
      "execution_count": 74,
      "outputs": [
        {
          "output_type": "display_data",
          "data": {
            "text/html": [
              "<html>\n",
              "<head><meta charset=\"utf-8\" /></head>\n",
              "<body>\n",
              "    <div>            <script src=\"https://cdnjs.cloudflare.com/ajax/libs/mathjax/2.7.5/MathJax.js?config=TeX-AMS-MML_SVG\"></script><script type=\"text/javascript\">if (window.MathJax && window.MathJax.Hub && window.MathJax.Hub.Config) {window.MathJax.Hub.Config({SVG: {font: \"STIX-Web\"}});}</script>                <script type=\"text/javascript\">window.PlotlyConfig = {MathJaxConfig: 'local'};</script>\n",
              "        <script charset=\"utf-8\" src=\"https://cdn.plot.ly/plotly-2.24.1.min.js\"></script>                <div id=\"65c2f920-b41e-4d11-a76c-45bf47426230\" class=\"plotly-graph-div\" style=\"height:525px; width:100%;\"></div>            <script type=\"text/javascript\">                                    window.PLOTLYENV=window.PLOTLYENV || {};                                    if (document.getElementById(\"65c2f920-b41e-4d11-a76c-45bf47426230\")) {                    Plotly.newPlot(                        \"65c2f920-b41e-4d11-a76c-45bf47426230\",                        [{\"alignmentgroup\":\"True\",\"bingroup\":\"x\",\"hovertemplate\":\"Gender=Male\\u003cbr\\u003eTidal Volume (mL)=%{x}\\u003cbr\\u003ecount=%{y}\\u003cextra\\u003e\\u003c\\u002fextra\\u003e\",\"legendgroup\":\"Male\",\"marker\":{\"color\":\"#636efa\",\"pattern\":{\"shape\":\"\"}},\"name\":\"Male\",\"offsetgroup\":\"Male\",\"orientation\":\"v\",\"showlegend\":true,\"x\":[500,530,420,550,510,530,500,520,490,530,510,540,500,550,510,540,500,510,530,520,540,500,530,540,550,510,510,550,530,510,500,550,530,540,510,550,500,520,540,550,510,530,510,520,510,530,510,540,500,530,520,530,540,490,550,530,550,530,510,540,500,530,520,510,540,530,490,550,500,530,550,520,530,540,500,540,550,550,520,530,510,550,500,550,520,540,490,550,500,530,550,520,550,550,500,520,550,510,530,550,550,520,500,530,540,550,550,530,510,550,500,550,520,550,530,550,550,520,550,520,540,530,550,540,550,550,530,550,530,510,550,520,550,540,520,540,520,550,550,550,530,550,530,550,550,530,550,550,520,550,510,550,550,550,500,500,540,520,520],\"xaxis\":\"x\",\"yaxis\":\"y\",\"type\":\"histogram\"},{\"alignmentgroup\":\"True\",\"hovertemplate\":\"Gender=Male\\u003cbr\\u003eTidal Volume (mL)=%{x}\\u003cextra\\u003e\\u003c\\u002fextra\\u003e\",\"legendgroup\":\"Male\",\"marker\":{\"color\":\"#636efa\"},\"name\":\"Male\",\"notched\":true,\"offsetgroup\":\"Male\",\"showlegend\":false,\"x\":[500,530,420,550,510,530,500,520,490,530,510,540,500,550,510,540,500,510,530,520,540,500,530,540,550,510,510,550,530,510,500,550,530,540,510,550,500,520,540,550,510,530,510,520,510,530,510,540,500,530,520,530,540,490,550,530,550,530,510,540,500,530,520,510,540,530,490,550,500,530,550,520,530,540,500,540,550,550,520,530,510,550,500,550,520,540,490,550,500,530,550,520,550,550,500,520,550,510,530,550,550,520,500,530,540,550,550,530,510,550,500,550,520,550,530,550,550,520,550,520,540,530,550,540,550,550,530,550,530,510,550,520,550,540,520,540,520,550,550,550,530,550,530,550,550,530,550,550,520,550,510,550,550,550,500,500,540,520,520],\"xaxis\":\"x2\",\"yaxis\":\"y2\",\"type\":\"box\"},{\"alignmentgroup\":\"True\",\"bingroup\":\"x\",\"hovertemplate\":\"Gender=Female\\u003cbr\\u003eTidal Volume (mL)=%{x}\\u003cbr\\u003ecount=%{y}\\u003cextra\\u003e\\u003c\\u002fextra\\u003e\",\"legendgroup\":\"Female\",\"marker\":{\"color\":\"#EF553B\",\"pattern\":{\"shape\":\"\"}},\"name\":\"Female\",\"offsetgroup\":\"Female\",\"orientation\":\"v\",\"showlegend\":true,\"x\":[400,450,350,410,370,360,430,390,440,350,420,380,370,360,420,390,370,430,360,420,370,410,360,430,390,420,410,370,360,400,370,390,410,430,420,380,370,430,380,400,370,410,360,370,400,380,390,370,360,370,380,370,400,360,380,390,370,360,420,370,360,370,390,350,370,360,390,370,380,360,390,370,360,380,370,370,380,370,360,370,380,390,370,360,370,370,360,390,370,360,380,370,350,360,380,390,370,360,370,370,360,370,350,370,390,370,360,370,380,370,360,370,350,370,380,370,370,390,360,370,360,370,390,370,360,370,370,370,380,360,370,370,370,360,390,370,360,370,360,380,370,360,370,390,360,370,370,360,390,360,370,380,370,360,370,360,380,370,370,360,380,360,370,370,360,380,370,350,370,380,360,370,360,370,370,370,370,360,370,370,360,370,360,370,380,360,370,360,360,370,370,380,360,370,370,360,380,360,360,370,370,360,370,370,360,370,370,370,360,360,360,370,360,380,360,370,370,360,370,370,370,370,360,370,360,370,370,360,370,370,360,370,370,370,370,360,360,370,360,370,360,370,370,360,370,360,370,380,360,370,370,370,370,360,370,370,370,370,360,370,370,380,370,370,370,370,370,360,370,360,370,360,370,370,370,370,370,370,370,370,370,360,370,360,370,370,360,370,370,370,380,370,370,360,370,370,360,360,360,360,370,360,370,370,370,370,360,370,380,360,370,370,370,360,360,370,370,360,370,370,360,380,360,360,370,370,370,360,370,370,360,370,360,370,370,360,370,370,360,370,360,370,370,360,370,370,370,370,370,370,370,380,370,370,360,370,360,370],\"xaxis\":\"x\",\"yaxis\":\"y\",\"type\":\"histogram\"},{\"alignmentgroup\":\"True\",\"hovertemplate\":\"Gender=Female\\u003cbr\\u003eTidal Volume (mL)=%{x}\\u003cextra\\u003e\\u003c\\u002fextra\\u003e\",\"legendgroup\":\"Female\",\"marker\":{\"color\":\"#EF553B\"},\"name\":\"Female\",\"notched\":true,\"offsetgroup\":\"Female\",\"showlegend\":false,\"x\":[400,450,350,410,370,360,430,390,440,350,420,380,370,360,420,390,370,430,360,420,370,410,360,430,390,420,410,370,360,400,370,390,410,430,420,380,370,430,380,400,370,410,360,370,400,380,390,370,360,370,380,370,400,360,380,390,370,360,420,370,360,370,390,350,370,360,390,370,380,360,390,370,360,380,370,370,380,370,360,370,380,390,370,360,370,370,360,390,370,360,380,370,350,360,380,390,370,360,370,370,360,370,350,370,390,370,360,370,380,370,360,370,350,370,380,370,370,390,360,370,360,370,390,370,360,370,370,370,380,360,370,370,370,360,390,370,360,370,360,380,370,360,370,390,360,370,370,360,390,360,370,380,370,360,370,360,380,370,370,360,380,360,370,370,360,380,370,350,370,380,360,370,360,370,370,370,370,360,370,370,360,370,360,370,380,360,370,360,360,370,370,380,360,370,370,360,380,360,360,370,370,360,370,370,360,370,370,370,360,360,360,370,360,380,360,370,370,360,370,370,370,370,360,370,360,370,370,360,370,370,360,370,370,370,370,360,360,370,360,370,360,370,370,360,370,360,370,380,360,370,370,370,370,360,370,370,370,370,360,370,370,380,370,370,370,370,370,360,370,360,370,360,370,370,370,370,370,370,370,370,370,360,370,360,370,370,360,370,370,370,380,370,370,360,370,370,360,360,360,360,370,360,370,370,370,370,360,370,380,360,370,370,370,360,360,370,370,360,370,370,360,380,360,360,370,370,370,360,370,370,360,370,360,370,370,360,370,370,360,370,360,370,370,360,370,370,370,370,370,370,370,380,370,370,360,370,360,370],\"xaxis\":\"x2\",\"yaxis\":\"y2\",\"type\":\"box\"}],                        {\"template\":{\"data\":{\"histogram2dcontour\":[{\"type\":\"histogram2dcontour\",\"colorbar\":{\"outlinewidth\":0,\"ticks\":\"\"},\"colorscale\":[[0.0,\"#0d0887\"],[0.1111111111111111,\"#46039f\"],[0.2222222222222222,\"#7201a8\"],[0.3333333333333333,\"#9c179e\"],[0.4444444444444444,\"#bd3786\"],[0.5555555555555556,\"#d8576b\"],[0.6666666666666666,\"#ed7953\"],[0.7777777777777778,\"#fb9f3a\"],[0.8888888888888888,\"#fdca26\"],[1.0,\"#f0f921\"]]}],\"choropleth\":[{\"type\":\"choropleth\",\"colorbar\":{\"outlinewidth\":0,\"ticks\":\"\"}}],\"histogram2d\":[{\"type\":\"histogram2d\",\"colorbar\":{\"outlinewidth\":0,\"ticks\":\"\"},\"colorscale\":[[0.0,\"#0d0887\"],[0.1111111111111111,\"#46039f\"],[0.2222222222222222,\"#7201a8\"],[0.3333333333333333,\"#9c179e\"],[0.4444444444444444,\"#bd3786\"],[0.5555555555555556,\"#d8576b\"],[0.6666666666666666,\"#ed7953\"],[0.7777777777777778,\"#fb9f3a\"],[0.8888888888888888,\"#fdca26\"],[1.0,\"#f0f921\"]]}],\"heatmap\":[{\"type\":\"heatmap\",\"colorbar\":{\"outlinewidth\":0,\"ticks\":\"\"},\"colorscale\":[[0.0,\"#0d0887\"],[0.1111111111111111,\"#46039f\"],[0.2222222222222222,\"#7201a8\"],[0.3333333333333333,\"#9c179e\"],[0.4444444444444444,\"#bd3786\"],[0.5555555555555556,\"#d8576b\"],[0.6666666666666666,\"#ed7953\"],[0.7777777777777778,\"#fb9f3a\"],[0.8888888888888888,\"#fdca26\"],[1.0,\"#f0f921\"]]}],\"heatmapgl\":[{\"type\":\"heatmapgl\",\"colorbar\":{\"outlinewidth\":0,\"ticks\":\"\"},\"colorscale\":[[0.0,\"#0d0887\"],[0.1111111111111111,\"#46039f\"],[0.2222222222222222,\"#7201a8\"],[0.3333333333333333,\"#9c179e\"],[0.4444444444444444,\"#bd3786\"],[0.5555555555555556,\"#d8576b\"],[0.6666666666666666,\"#ed7953\"],[0.7777777777777778,\"#fb9f3a\"],[0.8888888888888888,\"#fdca26\"],[1.0,\"#f0f921\"]]}],\"contourcarpet\":[{\"type\":\"contourcarpet\",\"colorbar\":{\"outlinewidth\":0,\"ticks\":\"\"}}],\"contour\":[{\"type\":\"contour\",\"colorbar\":{\"outlinewidth\":0,\"ticks\":\"\"},\"colorscale\":[[0.0,\"#0d0887\"],[0.1111111111111111,\"#46039f\"],[0.2222222222222222,\"#7201a8\"],[0.3333333333333333,\"#9c179e\"],[0.4444444444444444,\"#bd3786\"],[0.5555555555555556,\"#d8576b\"],[0.6666666666666666,\"#ed7953\"],[0.7777777777777778,\"#fb9f3a\"],[0.8888888888888888,\"#fdca26\"],[1.0,\"#f0f921\"]]}],\"surface\":[{\"type\":\"surface\",\"colorbar\":{\"outlinewidth\":0,\"ticks\":\"\"},\"colorscale\":[[0.0,\"#0d0887\"],[0.1111111111111111,\"#46039f\"],[0.2222222222222222,\"#7201a8\"],[0.3333333333333333,\"#9c179e\"],[0.4444444444444444,\"#bd3786\"],[0.5555555555555556,\"#d8576b\"],[0.6666666666666666,\"#ed7953\"],[0.7777777777777778,\"#fb9f3a\"],[0.8888888888888888,\"#fdca26\"],[1.0,\"#f0f921\"]]}],\"mesh3d\":[{\"type\":\"mesh3d\",\"colorbar\":{\"outlinewidth\":0,\"ticks\":\"\"}}],\"scatter\":[{\"fillpattern\":{\"fillmode\":\"overlay\",\"size\":10,\"solidity\":0.2},\"type\":\"scatter\"}],\"parcoords\":[{\"type\":\"parcoords\",\"line\":{\"colorbar\":{\"outlinewidth\":0,\"ticks\":\"\"}}}],\"scatterpolargl\":[{\"type\":\"scatterpolargl\",\"marker\":{\"colorbar\":{\"outlinewidth\":0,\"ticks\":\"\"}}}],\"bar\":[{\"error_x\":{\"color\":\"#2a3f5f\"},\"error_y\":{\"color\":\"#2a3f5f\"},\"marker\":{\"line\":{\"color\":\"#E5ECF6\",\"width\":0.5},\"pattern\":{\"fillmode\":\"overlay\",\"size\":10,\"solidity\":0.2}},\"type\":\"bar\"}],\"scattergeo\":[{\"type\":\"scattergeo\",\"marker\":{\"colorbar\":{\"outlinewidth\":0,\"ticks\":\"\"}}}],\"scatterpolar\":[{\"type\":\"scatterpolar\",\"marker\":{\"colorbar\":{\"outlinewidth\":0,\"ticks\":\"\"}}}],\"histogram\":[{\"marker\":{\"pattern\":{\"fillmode\":\"overlay\",\"size\":10,\"solidity\":0.2}},\"type\":\"histogram\"}],\"scattergl\":[{\"type\":\"scattergl\",\"marker\":{\"colorbar\":{\"outlinewidth\":0,\"ticks\":\"\"}}}],\"scatter3d\":[{\"type\":\"scatter3d\",\"line\":{\"colorbar\":{\"outlinewidth\":0,\"ticks\":\"\"}},\"marker\":{\"colorbar\":{\"outlinewidth\":0,\"ticks\":\"\"}}}],\"scattermapbox\":[{\"type\":\"scattermapbox\",\"marker\":{\"colorbar\":{\"outlinewidth\":0,\"ticks\":\"\"}}}],\"scatterternary\":[{\"type\":\"scatterternary\",\"marker\":{\"colorbar\":{\"outlinewidth\":0,\"ticks\":\"\"}}}],\"scattercarpet\":[{\"type\":\"scattercarpet\",\"marker\":{\"colorbar\":{\"outlinewidth\":0,\"ticks\":\"\"}}}],\"carpet\":[{\"aaxis\":{\"endlinecolor\":\"#2a3f5f\",\"gridcolor\":\"white\",\"linecolor\":\"white\",\"minorgridcolor\":\"white\",\"startlinecolor\":\"#2a3f5f\"},\"baxis\":{\"endlinecolor\":\"#2a3f5f\",\"gridcolor\":\"white\",\"linecolor\":\"white\",\"minorgridcolor\":\"white\",\"startlinecolor\":\"#2a3f5f\"},\"type\":\"carpet\"}],\"table\":[{\"cells\":{\"fill\":{\"color\":\"#EBF0F8\"},\"line\":{\"color\":\"white\"}},\"header\":{\"fill\":{\"color\":\"#C8D4E3\"},\"line\":{\"color\":\"white\"}},\"type\":\"table\"}],\"barpolar\":[{\"marker\":{\"line\":{\"color\":\"#E5ECF6\",\"width\":0.5},\"pattern\":{\"fillmode\":\"overlay\",\"size\":10,\"solidity\":0.2}},\"type\":\"barpolar\"}],\"pie\":[{\"automargin\":true,\"type\":\"pie\"}]},\"layout\":{\"autotypenumbers\":\"strict\",\"colorway\":[\"#636efa\",\"#EF553B\",\"#00cc96\",\"#ab63fa\",\"#FFA15A\",\"#19d3f3\",\"#FF6692\",\"#B6E880\",\"#FF97FF\",\"#FECB52\"],\"font\":{\"color\":\"#2a3f5f\"},\"hovermode\":\"closest\",\"hoverlabel\":{\"align\":\"left\"},\"paper_bgcolor\":\"white\",\"plot_bgcolor\":\"#E5ECF6\",\"polar\":{\"bgcolor\":\"#E5ECF6\",\"angularaxis\":{\"gridcolor\":\"white\",\"linecolor\":\"white\",\"ticks\":\"\"},\"radialaxis\":{\"gridcolor\":\"white\",\"linecolor\":\"white\",\"ticks\":\"\"}},\"ternary\":{\"bgcolor\":\"#E5ECF6\",\"aaxis\":{\"gridcolor\":\"white\",\"linecolor\":\"white\",\"ticks\":\"\"},\"baxis\":{\"gridcolor\":\"white\",\"linecolor\":\"white\",\"ticks\":\"\"},\"caxis\":{\"gridcolor\":\"white\",\"linecolor\":\"white\",\"ticks\":\"\"}},\"coloraxis\":{\"colorbar\":{\"outlinewidth\":0,\"ticks\":\"\"}},\"colorscale\":{\"sequential\":[[0.0,\"#0d0887\"],[0.1111111111111111,\"#46039f\"],[0.2222222222222222,\"#7201a8\"],[0.3333333333333333,\"#9c179e\"],[0.4444444444444444,\"#bd3786\"],[0.5555555555555556,\"#d8576b\"],[0.6666666666666666,\"#ed7953\"],[0.7777777777777778,\"#fb9f3a\"],[0.8888888888888888,\"#fdca26\"],[1.0,\"#f0f921\"]],\"sequentialminus\":[[0.0,\"#0d0887\"],[0.1111111111111111,\"#46039f\"],[0.2222222222222222,\"#7201a8\"],[0.3333333333333333,\"#9c179e\"],[0.4444444444444444,\"#bd3786\"],[0.5555555555555556,\"#d8576b\"],[0.6666666666666666,\"#ed7953\"],[0.7777777777777778,\"#fb9f3a\"],[0.8888888888888888,\"#fdca26\"],[1.0,\"#f0f921\"]],\"diverging\":[[0,\"#8e0152\"],[0.1,\"#c51b7d\"],[0.2,\"#de77ae\"],[0.3,\"#f1b6da\"],[0.4,\"#fde0ef\"],[0.5,\"#f7f7f7\"],[0.6,\"#e6f5d0\"],[0.7,\"#b8e186\"],[0.8,\"#7fbc41\"],[0.9,\"#4d9221\"],[1,\"#276419\"]]},\"xaxis\":{\"gridcolor\":\"white\",\"linecolor\":\"white\",\"ticks\":\"\",\"title\":{\"standoff\":15},\"zerolinecolor\":\"white\",\"automargin\":true,\"zerolinewidth\":2},\"yaxis\":{\"gridcolor\":\"white\",\"linecolor\":\"white\",\"ticks\":\"\",\"title\":{\"standoff\":15},\"zerolinecolor\":\"white\",\"automargin\":true,\"zerolinewidth\":2},\"scene\":{\"xaxis\":{\"backgroundcolor\":\"#E5ECF6\",\"gridcolor\":\"white\",\"linecolor\":\"white\",\"showbackground\":true,\"ticks\":\"\",\"zerolinecolor\":\"white\",\"gridwidth\":2},\"yaxis\":{\"backgroundcolor\":\"#E5ECF6\",\"gridcolor\":\"white\",\"linecolor\":\"white\",\"showbackground\":true,\"ticks\":\"\",\"zerolinecolor\":\"white\",\"gridwidth\":2},\"zaxis\":{\"backgroundcolor\":\"#E5ECF6\",\"gridcolor\":\"white\",\"linecolor\":\"white\",\"showbackground\":true,\"ticks\":\"\",\"zerolinecolor\":\"white\",\"gridwidth\":2}},\"shapedefaults\":{\"line\":{\"color\":\"#2a3f5f\"}},\"annotationdefaults\":{\"arrowcolor\":\"#2a3f5f\",\"arrowhead\":0,\"arrowwidth\":1},\"geo\":{\"bgcolor\":\"white\",\"landcolor\":\"#E5ECF6\",\"subunitcolor\":\"white\",\"showland\":true,\"showlakes\":true,\"lakecolor\":\"white\"},\"title\":{\"x\":0.05},\"mapbox\":{\"style\":\"light\"}}},\"xaxis\":{\"anchor\":\"y\",\"domain\":[0.0,1.0],\"title\":{\"text\":\"Tidal Volume (mL)\"}},\"yaxis\":{\"anchor\":\"x\",\"domain\":[0.0,0.7326],\"title\":{\"text\":\"count\"}},\"xaxis2\":{\"anchor\":\"y2\",\"domain\":[0.0,1.0],\"matches\":\"x\",\"showticklabels\":false,\"showgrid\":true},\"yaxis2\":{\"anchor\":\"x2\",\"domain\":[0.7426,1.0],\"matches\":\"y2\",\"showticklabels\":false,\"showline\":false,\"ticks\":\"\",\"showgrid\":false},\"legend\":{\"title\":{\"text\":\"Gender\"},\"tracegroupgap\":0},\"title\":{\"text\":\"Distribution of volume\"},\"barmode\":\"relative\",\"bargap\":0.5},                        {\"responsive\": true}                    ).then(function(){\n",
              "                            \n",
              "var gd = document.getElementById('65c2f920-b41e-4d11-a76c-45bf47426230');\n",
              "var x = new MutationObserver(function (mutations, observer) {{\n",
              "        var display = window.getComputedStyle(gd).display;\n",
              "        if (!display || display === 'none') {{\n",
              "            console.log([gd, 'removed!']);\n",
              "            Plotly.purge(gd);\n",
              "            observer.disconnect();\n",
              "        }}\n",
              "}});\n",
              "\n",
              "// Listen for the removal of the full notebook cells\n",
              "var notebookContainer = gd.closest('#notebook-container');\n",
              "if (notebookContainer) {{\n",
              "    x.observe(notebookContainer, {childList: true});\n",
              "}}\n",
              "\n",
              "// Listen for the clearing of the current output cell\n",
              "var outputEl = gd.closest('.output');\n",
              "if (outputEl) {{\n",
              "    x.observe(outputEl, {childList: true});\n",
              "}}\n",
              "\n",
              "                        })                };                            </script>        </div>\n",
              "</body>\n",
              "</html>"
            ]
          },
          "metadata": {}
        }
      ]
    },
    {
      "cell_type": "code",
      "source": [
        "data['Gender'].value_counts()"
      ],
      "metadata": {
        "colab": {
          "base_uri": "https://localhost:8080/"
        },
        "id": "Kd_RlvB-q_Qe",
        "outputId": "a1b00c04-5506-487c-eb27-f2f8d6793dfa"
      },
      "execution_count": 75,
      "outputs": [
        {
          "output_type": "execute_result",
          "data": {
            "text/plain": [
              "Gender\n",
              "Female    358\n",
              "Male      159\n",
              "Name: count, dtype: int64"
            ]
          },
          "metadata": {},
          "execution_count": 75
        }
      ]
    },
    {
      "cell_type": "markdown",
      "source": [
        "Female data is more. that can be a drawback that model is not able to predict accurate data for males"
      ],
      "metadata": {
        "id": "tDRJbxb5rPn4"
      }
    },
    {
      "cell_type": "markdown",
      "source": [
        "# **UNDERSTANDING THE RELATIONSHIP BETWEEN PARAMETERS**"
      ],
      "metadata": {
        "id": "guzFX22qrnl9"
      }
    },
    {
      "cell_type": "code",
      "source": [
        "fig = px.scatter(data,\n",
        "                 x='Age',\n",
        "                 y='Tidal Volume (mL)',\n",
        "                 color='Gender',\n",
        "                 opacity=0.5,\n",
        "                 hover_data=['Smoking'],\n",
        "                 title='Age vs. Volume')\n",
        "fig.update_traces(marker_size=5)\n",
        "fig.show()"
      ],
      "metadata": {
        "colab": {
          "base_uri": "https://localhost:8080/",
          "height": 542
        },
        "id": "c8fqObJed_lJ",
        "outputId": "ea949516-ea90-48e7-ce4f-e1129a601e8a"
      },
      "execution_count": 76,
      "outputs": [
        {
          "output_type": "display_data",
          "data": {
            "text/html": [
              "<html>\n",
              "<head><meta charset=\"utf-8\" /></head>\n",
              "<body>\n",
              "    <div>            <script src=\"https://cdnjs.cloudflare.com/ajax/libs/mathjax/2.7.5/MathJax.js?config=TeX-AMS-MML_SVG\"></script><script type=\"text/javascript\">if (window.MathJax && window.MathJax.Hub && window.MathJax.Hub.Config) {window.MathJax.Hub.Config({SVG: {font: \"STIX-Web\"}});}</script>                <script type=\"text/javascript\">window.PlotlyConfig = {MathJaxConfig: 'local'};</script>\n",
              "        <script charset=\"utf-8\" src=\"https://cdn.plot.ly/plotly-2.24.1.min.js\"></script>                <div id=\"622f28bd-e152-4742-94e1-679cd3d5ad90\" class=\"plotly-graph-div\" style=\"height:525px; width:100%;\"></div>            <script type=\"text/javascript\">                                    window.PLOTLYENV=window.PLOTLYENV || {};                                    if (document.getElementById(\"622f28bd-e152-4742-94e1-679cd3d5ad90\")) {                    Plotly.newPlot(                        \"622f28bd-e152-4742-94e1-679cd3d5ad90\",                        [{\"customdata\":[[\"No\"],[\"No\"],[\"Yes\"],[\"No\"],[\"No\"],[\"No\"],[\"Yes\"],[\"No\"],[\"Yes\"],[\"No\"],[\"No\"],[\"No\"],[\"No\"],[\"No\"],[\"No\"],[\"No\"],[\"No\"],[\"No\"],[\"No\"],[\"No\"],[\"No\"],[\"No\"],[\"No\"],[\"No\"],[\"No\"],[\"No\"],[\"No\"],[\"No\"],[\"No\"],[\"No\"],[\"Yes\"],[\"No\"],[\"No\"],[\"No\"],[\"No\"],[\"No\"],[\"No\"],[\"No\"],[\"No\"],[\"No\"],[\"No\"],[\"No\"],[\"No\"],[\"No\"],[\"No\"],[\"No\"],[\"No\"],[\"No\"],[\"No\"],[\"No\"],[\"No\"],[\"No\"],[\"No\"],[\"No\"],[\"No\"],[\"No\"],[\"No\"],[\"No\"],[\"No\"],[\"No\"],[\"No\"],[\"No\"],[\"No\"],[\"No\"],[\"No\"],[\"No\"],[\"No\"],[\"No\"],[\"No\"],[\"No\"],[\"No\"],[\"No\"],[\"No\"],[\"No\"],[\"No\"],[\"No\"],[\"No\"],[\"No\"],[\"No\"],[\"No\"],[\"No\"],[\"No\"],[\"No\"],[\"No\"],[\"No\"],[\"No\"],[\"No\"],[\"No\"],[\"No\"],[\"No\"],[\"No\"],[\"No\"],[\"No\"],[\"No\"],[\"No\"],[\"No\"],[\"No\"],[\"No\"],[\"No\"],[\"No\"],[\"No\"],[\"No\"],[\"No\"],[\"No\"],[\"No\"],[\"No\"],[\"No\"],[\"No\"],[\"No\"],[\"No\"],[\"No\"],[\"No\"],[\"No\"],[\"No\"],[\"No\"],[\"No\"],[\"No\"],[\"No\"],[\"No\"],[\"No\"],[\"No\"],[\"No\"],[\"No\"],[\"No\"],[\"No\"],[\"No\"],[\"No\"],[\"No\"],[\"No\"],[\"No\"],[\"No\"],[\"No\"],[\"No\"],[\"No\"],[\"No\"],[\"No\"],[\"No\"],[\"No\"],[\"No\"],[\"No\"],[\"No\"],[\"No\"],[\"No\"],[\"No\"],[\"No\"],[\"No\"],[\"No\"],[\"No\"],[\"No\"],[\"No\"],[\"No\"],[\"No\"],[\"No\"],[\"No\"],[\"No\"],[\"No\"],[\"No\"],[\"No\"],[\"No\"]],\"hovertemplate\":\"Gender=Male\\u003cbr\\u003eAge=%{x}\\u003cbr\\u003eTidal Volume (mL)=%{y}\\u003cbr\\u003eSmoking=%{customdata[0]}\\u003cextra\\u003e\\u003c\\u002fextra\\u003e\",\"legendgroup\":\"Male\",\"marker\":{\"color\":\"#636efa\",\"opacity\":0.5,\"symbol\":\"circle\",\"size\":5},\"mode\":\"markers\",\"name\":\"Male\",\"orientation\":\"v\",\"showlegend\":true,\"x\":[23,34,50,37,28,35,41,47,31,39,25,36,32,40,27,38,30,26,42,24,29,33,34,39,37,41,28,35,32,27,44,36,40,29,38,42,25,31,30,33,26,39,34,41,27,29,32,38,25,31,40,44,33,26,37,29,35,39,32,41,27,34,30,25,28,36,33,31,30,27,41,34,37,35,29,31,32,36,42,29,30,33,31,34,28,35,26,40,27,33,30,29,36,34,26,32,33,29,30,27,31,28,33,41,29,37,35,31,27,28,34,40,32,36,33,35,27,32,29,31,34,28,35,32,29,33,28,26,35,31,28,33,30,31,35,33,30,32,29,35,32,33,35,34,28,26,32,25,35,27,32,30,31,32,35,34,30,31,34],\"xaxis\":\"x\",\"y\":[500,530,420,550,510,530,500,520,490,530,510,540,500,550,510,540,500,510,530,520,540,500,530,540,550,510,510,550,530,510,500,550,530,540,510,550,500,520,540,550,510,530,510,520,510,530,510,540,500,530,520,530,540,490,550,530,550,530,510,540,500,530,520,510,540,530,490,550,500,530,550,520,530,540,500,540,550,550,520,530,510,550,500,550,520,540,490,550,500,530,550,520,550,550,500,520,550,510,530,550,550,520,500,530,540,550,550,530,510,550,500,550,520,550,530,550,550,520,550,520,540,530,550,540,550,550,530,550,530,510,550,520,550,540,520,540,520,550,550,550,530,550,530,550,550,530,550,550,520,550,510,550,550,550,500,500,540,520,520],\"yaxis\":\"y\",\"type\":\"scatter\"},{\"customdata\":[[\"Yes\"],[\"No\"],[\"No\"],[\"Yes\"],[\"Yes\"],[\"No\"],[\"No\"],[\"No\"],[\"No\"],[\"Yes\"],[\"No\"],[\"Yes\"],[\"Yes\"],[\"No\"],[\"No\"],[\"Yes\"],[\"Yes\"],[\"No\"],[\"Yes\"],[\"No\"],[\"Yes\"],[\"No\"],[\"Yes\"],[\"No\"],[\"Yes\"],[\"No\"],[\"Yes\"],[\"Yes\"],[\"No\"],[\"No\"],[\"No\"],[\"Yes\"],[\"No\"],[\"No\"],[\"Yes\"],[\"Yes\"],[\"Yes\"],[\"No\"],[\"Yes\"],[\"No\"],[\"Yes\"],[\"No\"],[\"Yes\"],[\"No\"],[\"No\"],[\"Yes\"],[\"No\"],[\"Yes\"],[\"No\"],[\"Yes\"],[\"Yes\"],[\"No\"],[\"No\"],[\"Yes\"],[\"No\"],[\"Yes\"],[\"No\"],[\"Yes\"],[\"No\"],[\"No\"],[\"Yes\"],[\"No\"],[\"Yes\"],[\"Yes\"],[\"No\"],[\"No\"],[\"Yes\"],[\"No\"],[\"Yes\"],[\"No\"],[\"Yes\"],[\"No\"],[\"No\"],[\"Yes\"],[\"No\"],[\"Yes\"],[\"No\"],[\"No\"],[\"Yes\"],[\"No\"],[\"Yes\"],[\"No\"],[\"Yes\"],[\"No\"],[\"Yes\"],[\"No\"],[\"Yes\"],[\"No\"],[\"Yes\"],[\"No\"],[\"Yes\"],[\"No\"],[\"Yes\"],[\"No\"],[\"Yes\"],[\"No\"],[\"Yes\"],[\"No\"],[\"Yes\"],[\"No\"],[\"No\"],[\"Yes\"],[\"No\"],[\"Yes\"],[\"No\"],[\"Yes\"],[\"No\"],[\"Yes\"],[\"No\"],[\"No\"],[\"Yes\"],[\"No\"],[\"Yes\"],[\"No\"],[\"Yes\"],[\"No\"],[\"Yes\"],[\"No\"],[\"Yes\"],[\"No\"],[\"Yes\"],[\"No\"],[\"No\"],[\"Yes\"],[\"No\"],[\"Yes\"],[\"No\"],[\"Yes\"],[\"No\"],[\"Yes\"],[\"No\"],[\"Yes\"],[\"No\"],[\"Yes\"],[\"No\"],[\"Yes\"],[\"No\"],[\"No\"],[\"Yes\"],[\"No\"],[\"No\"],[\"Yes\"],[\"No\"],[\"No\"],[\"Yes\"],[\"No\"],[\"Yes\"],[\"Yes\"],[\"No\"],[\"Yes\"],[\"No\"],[\"Yes\"],[\"No\"],[\"Yes\"],[\"No\"],[\"No\"],[\"Yes\"],[\"No\"],[\"Yes\"],[\"No\"],[\"Yes\"],[\"No\"],[\"No\"],[\"Yes\"],[\"No\"],[\"Yes\"],[\"Yes\"],[\"No\"],[\"Yes\"],[\"No\"],[\"Yes\"],[\"Yes\"],[\"No\"],[\"Yes\"],[\"No\"],[\"No\"],[\"Yes\"],[\"No\"],[\"Yes\"],[\"No\"],[\"Yes\"],[\"No\"],[\"Yes\"],[\"No\"],[\"No\"],[\"Yes\"],[\"No\"],[\"No\"],[\"Yes\"],[\"No\"],[\"Yes\"],[\"Yes\"],[\"No\"],[\"Yes\"],[\"No\"],[\"Yes\"],[\"No\"],[\"No\"],[\"Yes\"],[\"No\"],[\"Yes\"],[\"No\"],[\"Yes\"],[\"No\"],[\"Yes\"],[\"No\"],[\"Yes\"],[\"No\"],[\"Yes\"],[\"No\"],[\"Yes\"],[\"No\"],[\"No\"],[\"Yes\"],[\"Yes\"],[\"Yes\"],[\"Yes\"],[\"No\"],[\"Yes\"],[\"No\"],[\"Yes\"],[\"No\"],[\"Yes\"],[\"Yes\"],[\"No\"],[\"Yes\"],[\"No\"],[\"Yes\"],[\"Yes\"],[\"Yes\"],[\"No\"],[\"Yes\"],[\"No\"],[\"Yes\"],[\"Yes\"],[\"No\"],[\"Yes\"],[\"No\"],[\"Yes\"],[\"No\"],[\"Yes\"],[\"No\"],[\"Yes\"],[\"Yes\"],[\"No\"],[\"Yes\"],[\"No\"],[\"Yes\"],[\"No\"],[\"Yes\"],[\"No\"],[\"Yes\"],[\"No\"],[\"Yes\"],[\"No\"],[\"Yes\"],[\"No\"],[\"Yes\"],[\"No\"],[\"No\"],[\"Yes\"],[\"Yes\"],[\"No\"],[\"No\"],[\"Yes\"],[\"No\"],[\"Yes\"],[\"No\"],[\"Yes\"],[\"No\"],[\"Yes\"],[\"Yes\"],[\"Yes\"],[\"Yes\"],[\"No\"],[\"Yes\"],[\"No\"],[\"Yes\"],[\"No\"],[\"Yes\"],[\"No\"],[\"Yes\"],[\"Yes\"],[\"Yes\"],[\"No\"],[\"Yes\"],[\"No\"],[\"Yes\"],[\"No\"],[\"No\"],[\"No\"],[\"No\"],[\"Yes\"],[\"Yes\"],[\"Yes\"],[\"Yes\"],[\"No\"],[\"No\"],[\"Yes\"],[\"Yes\"],[\"No\"],[\"Yes\"],[\"Yes\"],[\"No\"],[\"Yes\"],[\"Yes\"],[\"Yes\"],[\"Yes\"],[\"Yes\"],[\"No\"],[\"Yes\"],[\"Yes\"],[\"No\"],[\"Yes\"],[\"No\"],[\"Yes\"],[\"No\"],[\"Yes\"],[\"No\"],[\"Yes\"],[\"No\"],[\"Yes\"],[\"Yes\"],[\"No\"],[\"Yes\"],[\"No\"],[\"Yes\"],[\"Yes\"],[\"No\"],[\"No\"],[\"No\"],[\"Yes\"],[\"No\"],[\"No\"],[\"Yes\"],[\"Yes\"],[\"Yes\"],[\"Yes\"],[\"Yes\"],[\"No\"],[\"Yes\"],[\"Yes\"],[\"No\"],[\"Yes\"],[\"No\"],[\"Yes\"],[\"Yes\"],[\"Yes\"],[\"No\"],[\"Yes\"],[\"Yes\"],[\"Yes\"],[\"No\"],[\"No\"],[\"No\"],[\"Yes\"],[\"Yes\"],[\"Yes\"]],\"hovertemplate\":\"Gender=Female\\u003cbr\\u003eAge=%{x}\\u003cbr\\u003eTidal Volume (mL)=%{y}\\u003cbr\\u003eSmoking=%{customdata[0]}\\u003cextra\\u003e\\u003c\\u002fextra\\u003e\",\"legendgroup\":\"Female\",\"marker\":{\"color\":\"#EF553B\",\"opacity\":0.5,\"symbol\":\"circle\",\"size\":5},\"mode\":\"markers\",\"name\":\"Female\",\"orientation\":\"v\",\"showlegend\":true,\"x\":[45,29,62,54,49,60,33,53,48,57,46,52,51,58,44,55,56,43,59,61,60,45,50,53,57,52,47,56,54,51,55,58,49,46,60,53,59,50,57,54,51,48,55,60,52,58,46,59,53,50,57,54,51,56,60,58,55,52,47,53,59,50,56,60,57,54,48,53,49,52,58,55,50,46,60,51,57,52,59,56,50,58,47,54,53,60,57,52,55,60,56,54,53,59,50,58,51,56,54,53,52,59,60,55,58,57,54,52,60,55,56,60,50,54,57,53,59,60,55,50,57,53,58,56,59,54,52,57,55,59,54,58,56,50,60,57,53,60,56,54,52,59,51,58,55,53,59,60,50,57,52,58,55,59,60,53,56,54,52,58,55,54,60,57,52,59,57,60,59,56,55,53,59,57,60,58,55,53,59,56,60,55,59,60,54,56,59,55,54,57,58,60,59,57,55,56,60,54,58,55,53,59,56,60,57,53,55,59,54,56,55,57,60,58,57,54,59,56,58,57,54,55,60,57,59,56,60,57,58,59,55,60,57,58,57,60,58,54,56,55,60,57,54,59,60,57,58,54,59,60,57,58,58,55,56,59,57,54,59,60,57,58,54,57,59,56,60,55,57,54,59,56,60,54,57,60,59,60,58,57,60,55,58,56,59,58,56,60,58,58,60,56,59,55,58,54,59,56,60,58,55,58,57,60,59,55,58,56,59,55,60,59,56,57,60,55,59,56,58,55,57,56,57,58,60,59,56,57,60,58,56,59,57,60,58,58,60,57,59,56,60,60,58,60,55,60,59,57,55,60,56,60,55,57,60,55,59,59],\"xaxis\":\"x\",\"y\":[400,450,350,410,370,360,430,390,440,350,420,380,370,360,420,390,370,430,360,420,370,410,360,430,390,420,410,370,360,400,370,390,410,430,420,380,370,430,380,400,370,410,360,370,400,380,390,370,360,370,380,370,400,360,380,390,370,360,420,370,360,370,390,350,370,360,390,370,380,360,390,370,360,380,370,370,380,370,360,370,380,390,370,360,370,370,360,390,370,360,380,370,350,360,380,390,370,360,370,370,360,370,350,370,390,370,360,370,380,370,360,370,350,370,380,370,370,390,360,370,360,370,390,370,360,370,370,370,380,360,370,370,370,360,390,370,360,370,360,380,370,360,370,390,360,370,370,360,390,360,370,380,370,360,370,360,380,370,370,360,380,360,370,370,360,380,370,350,370,380,360,370,360,370,370,370,370,360,370,370,360,370,360,370,380,360,370,360,360,370,370,380,360,370,370,360,380,360,360,370,370,360,370,370,360,370,370,370,360,360,360,370,360,380,360,370,370,360,370,370,370,370,360,370,360,370,370,360,370,370,360,370,370,370,370,360,360,370,360,370,360,370,370,360,370,360,370,380,360,370,370,370,370,360,370,370,370,370,360,370,370,380,370,370,370,370,370,360,370,360,370,360,370,370,370,370,370,370,370,370,370,360,370,360,370,370,360,370,370,370,380,370,370,360,370,370,360,360,360,360,370,360,370,370,370,370,360,370,380,360,370,370,370,360,360,370,370,360,370,370,360,380,360,360,370,370,370,360,370,370,360,370,360,370,370,360,370,370,360,370,360,370,370,360,370,370,370,370,370,370,370,380,370,370,360,370,360,370],\"yaxis\":\"y\",\"type\":\"scatter\"}],                        {\"template\":{\"data\":{\"histogram2dcontour\":[{\"type\":\"histogram2dcontour\",\"colorbar\":{\"outlinewidth\":0,\"ticks\":\"\"},\"colorscale\":[[0.0,\"#0d0887\"],[0.1111111111111111,\"#46039f\"],[0.2222222222222222,\"#7201a8\"],[0.3333333333333333,\"#9c179e\"],[0.4444444444444444,\"#bd3786\"],[0.5555555555555556,\"#d8576b\"],[0.6666666666666666,\"#ed7953\"],[0.7777777777777778,\"#fb9f3a\"],[0.8888888888888888,\"#fdca26\"],[1.0,\"#f0f921\"]]}],\"choropleth\":[{\"type\":\"choropleth\",\"colorbar\":{\"outlinewidth\":0,\"ticks\":\"\"}}],\"histogram2d\":[{\"type\":\"histogram2d\",\"colorbar\":{\"outlinewidth\":0,\"ticks\":\"\"},\"colorscale\":[[0.0,\"#0d0887\"],[0.1111111111111111,\"#46039f\"],[0.2222222222222222,\"#7201a8\"],[0.3333333333333333,\"#9c179e\"],[0.4444444444444444,\"#bd3786\"],[0.5555555555555556,\"#d8576b\"],[0.6666666666666666,\"#ed7953\"],[0.7777777777777778,\"#fb9f3a\"],[0.8888888888888888,\"#fdca26\"],[1.0,\"#f0f921\"]]}],\"heatmap\":[{\"type\":\"heatmap\",\"colorbar\":{\"outlinewidth\":0,\"ticks\":\"\"},\"colorscale\":[[0.0,\"#0d0887\"],[0.1111111111111111,\"#46039f\"],[0.2222222222222222,\"#7201a8\"],[0.3333333333333333,\"#9c179e\"],[0.4444444444444444,\"#bd3786\"],[0.5555555555555556,\"#d8576b\"],[0.6666666666666666,\"#ed7953\"],[0.7777777777777778,\"#fb9f3a\"],[0.8888888888888888,\"#fdca26\"],[1.0,\"#f0f921\"]]}],\"heatmapgl\":[{\"type\":\"heatmapgl\",\"colorbar\":{\"outlinewidth\":0,\"ticks\":\"\"},\"colorscale\":[[0.0,\"#0d0887\"],[0.1111111111111111,\"#46039f\"],[0.2222222222222222,\"#7201a8\"],[0.3333333333333333,\"#9c179e\"],[0.4444444444444444,\"#bd3786\"],[0.5555555555555556,\"#d8576b\"],[0.6666666666666666,\"#ed7953\"],[0.7777777777777778,\"#fb9f3a\"],[0.8888888888888888,\"#fdca26\"],[1.0,\"#f0f921\"]]}],\"contourcarpet\":[{\"type\":\"contourcarpet\",\"colorbar\":{\"outlinewidth\":0,\"ticks\":\"\"}}],\"contour\":[{\"type\":\"contour\",\"colorbar\":{\"outlinewidth\":0,\"ticks\":\"\"},\"colorscale\":[[0.0,\"#0d0887\"],[0.1111111111111111,\"#46039f\"],[0.2222222222222222,\"#7201a8\"],[0.3333333333333333,\"#9c179e\"],[0.4444444444444444,\"#bd3786\"],[0.5555555555555556,\"#d8576b\"],[0.6666666666666666,\"#ed7953\"],[0.7777777777777778,\"#fb9f3a\"],[0.8888888888888888,\"#fdca26\"],[1.0,\"#f0f921\"]]}],\"surface\":[{\"type\":\"surface\",\"colorbar\":{\"outlinewidth\":0,\"ticks\":\"\"},\"colorscale\":[[0.0,\"#0d0887\"],[0.1111111111111111,\"#46039f\"],[0.2222222222222222,\"#7201a8\"],[0.3333333333333333,\"#9c179e\"],[0.4444444444444444,\"#bd3786\"],[0.5555555555555556,\"#d8576b\"],[0.6666666666666666,\"#ed7953\"],[0.7777777777777778,\"#fb9f3a\"],[0.8888888888888888,\"#fdca26\"],[1.0,\"#f0f921\"]]}],\"mesh3d\":[{\"type\":\"mesh3d\",\"colorbar\":{\"outlinewidth\":0,\"ticks\":\"\"}}],\"scatter\":[{\"fillpattern\":{\"fillmode\":\"overlay\",\"size\":10,\"solidity\":0.2},\"type\":\"scatter\"}],\"parcoords\":[{\"type\":\"parcoords\",\"line\":{\"colorbar\":{\"outlinewidth\":0,\"ticks\":\"\"}}}],\"scatterpolargl\":[{\"type\":\"scatterpolargl\",\"marker\":{\"colorbar\":{\"outlinewidth\":0,\"ticks\":\"\"}}}],\"bar\":[{\"error_x\":{\"color\":\"#2a3f5f\"},\"error_y\":{\"color\":\"#2a3f5f\"},\"marker\":{\"line\":{\"color\":\"#E5ECF6\",\"width\":0.5},\"pattern\":{\"fillmode\":\"overlay\",\"size\":10,\"solidity\":0.2}},\"type\":\"bar\"}],\"scattergeo\":[{\"type\":\"scattergeo\",\"marker\":{\"colorbar\":{\"outlinewidth\":0,\"ticks\":\"\"}}}],\"scatterpolar\":[{\"type\":\"scatterpolar\",\"marker\":{\"colorbar\":{\"outlinewidth\":0,\"ticks\":\"\"}}}],\"histogram\":[{\"marker\":{\"pattern\":{\"fillmode\":\"overlay\",\"size\":10,\"solidity\":0.2}},\"type\":\"histogram\"}],\"scattergl\":[{\"type\":\"scattergl\",\"marker\":{\"colorbar\":{\"outlinewidth\":0,\"ticks\":\"\"}}}],\"scatter3d\":[{\"type\":\"scatter3d\",\"line\":{\"colorbar\":{\"outlinewidth\":0,\"ticks\":\"\"}},\"marker\":{\"colorbar\":{\"outlinewidth\":0,\"ticks\":\"\"}}}],\"scattermapbox\":[{\"type\":\"scattermapbox\",\"marker\":{\"colorbar\":{\"outlinewidth\":0,\"ticks\":\"\"}}}],\"scatterternary\":[{\"type\":\"scatterternary\",\"marker\":{\"colorbar\":{\"outlinewidth\":0,\"ticks\":\"\"}}}],\"scattercarpet\":[{\"type\":\"scattercarpet\",\"marker\":{\"colorbar\":{\"outlinewidth\":0,\"ticks\":\"\"}}}],\"carpet\":[{\"aaxis\":{\"endlinecolor\":\"#2a3f5f\",\"gridcolor\":\"white\",\"linecolor\":\"white\",\"minorgridcolor\":\"white\",\"startlinecolor\":\"#2a3f5f\"},\"baxis\":{\"endlinecolor\":\"#2a3f5f\",\"gridcolor\":\"white\",\"linecolor\":\"white\",\"minorgridcolor\":\"white\",\"startlinecolor\":\"#2a3f5f\"},\"type\":\"carpet\"}],\"table\":[{\"cells\":{\"fill\":{\"color\":\"#EBF0F8\"},\"line\":{\"color\":\"white\"}},\"header\":{\"fill\":{\"color\":\"#C8D4E3\"},\"line\":{\"color\":\"white\"}},\"type\":\"table\"}],\"barpolar\":[{\"marker\":{\"line\":{\"color\":\"#E5ECF6\",\"width\":0.5},\"pattern\":{\"fillmode\":\"overlay\",\"size\":10,\"solidity\":0.2}},\"type\":\"barpolar\"}],\"pie\":[{\"automargin\":true,\"type\":\"pie\"}]},\"layout\":{\"autotypenumbers\":\"strict\",\"colorway\":[\"#636efa\",\"#EF553B\",\"#00cc96\",\"#ab63fa\",\"#FFA15A\",\"#19d3f3\",\"#FF6692\",\"#B6E880\",\"#FF97FF\",\"#FECB52\"],\"font\":{\"color\":\"#2a3f5f\"},\"hovermode\":\"closest\",\"hoverlabel\":{\"align\":\"left\"},\"paper_bgcolor\":\"white\",\"plot_bgcolor\":\"#E5ECF6\",\"polar\":{\"bgcolor\":\"#E5ECF6\",\"angularaxis\":{\"gridcolor\":\"white\",\"linecolor\":\"white\",\"ticks\":\"\"},\"radialaxis\":{\"gridcolor\":\"white\",\"linecolor\":\"white\",\"ticks\":\"\"}},\"ternary\":{\"bgcolor\":\"#E5ECF6\",\"aaxis\":{\"gridcolor\":\"white\",\"linecolor\":\"white\",\"ticks\":\"\"},\"baxis\":{\"gridcolor\":\"white\",\"linecolor\":\"white\",\"ticks\":\"\"},\"caxis\":{\"gridcolor\":\"white\",\"linecolor\":\"white\",\"ticks\":\"\"}},\"coloraxis\":{\"colorbar\":{\"outlinewidth\":0,\"ticks\":\"\"}},\"colorscale\":{\"sequential\":[[0.0,\"#0d0887\"],[0.1111111111111111,\"#46039f\"],[0.2222222222222222,\"#7201a8\"],[0.3333333333333333,\"#9c179e\"],[0.4444444444444444,\"#bd3786\"],[0.5555555555555556,\"#d8576b\"],[0.6666666666666666,\"#ed7953\"],[0.7777777777777778,\"#fb9f3a\"],[0.8888888888888888,\"#fdca26\"],[1.0,\"#f0f921\"]],\"sequentialminus\":[[0.0,\"#0d0887\"],[0.1111111111111111,\"#46039f\"],[0.2222222222222222,\"#7201a8\"],[0.3333333333333333,\"#9c179e\"],[0.4444444444444444,\"#bd3786\"],[0.5555555555555556,\"#d8576b\"],[0.6666666666666666,\"#ed7953\"],[0.7777777777777778,\"#fb9f3a\"],[0.8888888888888888,\"#fdca26\"],[1.0,\"#f0f921\"]],\"diverging\":[[0,\"#8e0152\"],[0.1,\"#c51b7d\"],[0.2,\"#de77ae\"],[0.3,\"#f1b6da\"],[0.4,\"#fde0ef\"],[0.5,\"#f7f7f7\"],[0.6,\"#e6f5d0\"],[0.7,\"#b8e186\"],[0.8,\"#7fbc41\"],[0.9,\"#4d9221\"],[1,\"#276419\"]]},\"xaxis\":{\"gridcolor\":\"white\",\"linecolor\":\"white\",\"ticks\":\"\",\"title\":{\"standoff\":15},\"zerolinecolor\":\"white\",\"automargin\":true,\"zerolinewidth\":2},\"yaxis\":{\"gridcolor\":\"white\",\"linecolor\":\"white\",\"ticks\":\"\",\"title\":{\"standoff\":15},\"zerolinecolor\":\"white\",\"automargin\":true,\"zerolinewidth\":2},\"scene\":{\"xaxis\":{\"backgroundcolor\":\"#E5ECF6\",\"gridcolor\":\"white\",\"linecolor\":\"white\",\"showbackground\":true,\"ticks\":\"\",\"zerolinecolor\":\"white\",\"gridwidth\":2},\"yaxis\":{\"backgroundcolor\":\"#E5ECF6\",\"gridcolor\":\"white\",\"linecolor\":\"white\",\"showbackground\":true,\"ticks\":\"\",\"zerolinecolor\":\"white\",\"gridwidth\":2},\"zaxis\":{\"backgroundcolor\":\"#E5ECF6\",\"gridcolor\":\"white\",\"linecolor\":\"white\",\"showbackground\":true,\"ticks\":\"\",\"zerolinecolor\":\"white\",\"gridwidth\":2}},\"shapedefaults\":{\"line\":{\"color\":\"#2a3f5f\"}},\"annotationdefaults\":{\"arrowcolor\":\"#2a3f5f\",\"arrowhead\":0,\"arrowwidth\":1},\"geo\":{\"bgcolor\":\"white\",\"landcolor\":\"#E5ECF6\",\"subunitcolor\":\"white\",\"showland\":true,\"showlakes\":true,\"lakecolor\":\"white\"},\"title\":{\"x\":0.05},\"mapbox\":{\"style\":\"light\"}}},\"xaxis\":{\"anchor\":\"y\",\"domain\":[0.0,1.0],\"title\":{\"text\":\"Age\"}},\"yaxis\":{\"anchor\":\"x\",\"domain\":[0.0,1.0],\"title\":{\"text\":\"Tidal Volume (mL)\"}},\"legend\":{\"title\":{\"text\":\"Gender\"},\"tracegroupgap\":0},\"title\":{\"text\":\"Age vs. Volume\"}},                        {\"responsive\": true}                    ).then(function(){\n",
              "                            \n",
              "var gd = document.getElementById('622f28bd-e152-4742-94e1-679cd3d5ad90');\n",
              "var x = new MutationObserver(function (mutations, observer) {{\n",
              "        var display = window.getComputedStyle(gd).display;\n",
              "        if (!display || display === 'none') {{\n",
              "            console.log([gd, 'removed!']);\n",
              "            Plotly.purge(gd);\n",
              "            observer.disconnect();\n",
              "        }}\n",
              "}});\n",
              "\n",
              "// Listen for the removal of the full notebook cells\n",
              "var notebookContainer = gd.closest('#notebook-container');\n",
              "if (notebookContainer) {{\n",
              "    x.observe(notebookContainer, {childList: true});\n",
              "}}\n",
              "\n",
              "// Listen for the clearing of the current output cell\n",
              "var outputEl = gd.closest('.output');\n",
              "if (outputEl) {{\n",
              "    x.observe(outputEl, {childList: true});\n",
              "}}\n",
              "\n",
              "                        })                };                            </script>        </div>\n",
              "</body>\n",
              "</html>"
            ]
          },
          "metadata": {}
        }
      ]
    },
    {
      "cell_type": "markdown",
      "source": [
        "By looking the plot it is clear that young generation has high tidal volume than the old generation which makes sense also. but dataset is very non uniform we have the dataset of men of younger age and females of more age. We can see a linear relation between age and volume"
      ],
      "metadata": {
        "id": "nUxWciCpsJjI"
      }
    },
    {
      "cell_type": "code",
      "source": [
        "fig = px.scatter(data,\n",
        "                 x='Weight (kg)',\n",
        "                 y='Tidal Volume (mL)',\n",
        "                 color='Smoking',\n",
        "                 opacity=0.5,\n",
        "                 hover_data=['Gender'],\n",
        "                 title='Weight vs. volume')\n",
        "fig.update_traces(marker_size=5)\n",
        "fig.show()"
      ],
      "metadata": {
        "colab": {
          "base_uri": "https://localhost:8080/",
          "height": 542
        },
        "id": "gAHsVBiSeUiU",
        "outputId": "e2b64538-9996-4903-aeb5-13cf299171f4"
      },
      "execution_count": 77,
      "outputs": [
        {
          "output_type": "display_data",
          "data": {
            "text/html": [
              "<html>\n",
              "<head><meta charset=\"utf-8\" /></head>\n",
              "<body>\n",
              "    <div>            <script src=\"https://cdnjs.cloudflare.com/ajax/libs/mathjax/2.7.5/MathJax.js?config=TeX-AMS-MML_SVG\"></script><script type=\"text/javascript\">if (window.MathJax && window.MathJax.Hub && window.MathJax.Hub.Config) {window.MathJax.Hub.Config({SVG: {font: \"STIX-Web\"}});}</script>                <script type=\"text/javascript\">window.PlotlyConfig = {MathJaxConfig: 'local'};</script>\n",
              "        <script charset=\"utf-8\" src=\"https://cdn.plot.ly/plotly-2.24.1.min.js\"></script>                <div id=\"377fef2b-1668-44d9-9913-21ad7b3e2d0b\" class=\"plotly-graph-div\" style=\"height:525px; width:100%;\"></div>            <script type=\"text/javascript\">                                    window.PLOTLYENV=window.PLOTLYENV || {};                                    if (document.getElementById(\"377fef2b-1668-44d9-9913-21ad7b3e2d0b\")) {                    Plotly.newPlot(                        \"377fef2b-1668-44d9-9913-21ad7b3e2d0b\",                        [{\"customdata\":[[\"Male\"],[\"Male\"],[\"Female\"],[\"Female\"],[\"Male\"],[\"Male\"],[\"Male\"],[\"Female\"],[\"Female\"],[\"Male\"],[\"Female\"],[\"Female\"],[\"Male\"],[\"Male\"],[\"Female\"],[\"Male\"],[\"Male\"],[\"Male\"],[\"Female\"],[\"Male\"],[\"Female\"],[\"Male\"],[\"Male\"],[\"Male\"],[\"Female\"],[\"Male\"],[\"Male\"],[\"Female\"],[\"Male\"],[\"Male\"],[\"Female\"],[\"Male\"],[\"Male\"],[\"Female\"],[\"Male\"],[\"Male\"],[\"Female\"],[\"Male\"],[\"Male\"],[\"Male\"],[\"Female\"],[\"Male\"],[\"Female\"],[\"Female\"],[\"Male\"],[\"Male\"],[\"Female\"],[\"Male\"],[\"Female\"],[\"Male\"],[\"Male\"],[\"Male\"],[\"Male\"],[\"Female\"],[\"Male\"],[\"Male\"],[\"Female\"],[\"Male\"],[\"Male\"],[\"Female\"],[\"Male\"],[\"Male\"],[\"Female\"],[\"Male\"],[\"Female\"],[\"Male\"],[\"Female\"],[\"Male\"],[\"Male\"],[\"Female\"],[\"Male\"],[\"Male\"],[\"Female\"],[\"Male\"],[\"Female\"],[\"Male\"],[\"Female\"],[\"Male\"],[\"Male\"],[\"Female\"],[\"Male\"],[\"Male\"],[\"Female\"],[\"Male\"],[\"Female\"],[\"Male\"],[\"Male\"],[\"Female\"],[\"Male\"],[\"Male\"],[\"Male\"],[\"Female\"],[\"Male\"],[\"Female\"],[\"Male\"],[\"Female\"],[\"Male\"],[\"Male\"],[\"Female\"],[\"Male\"],[\"Male\"],[\"Female\"],[\"Male\"],[\"Female\"],[\"Male\"],[\"Male\"],[\"Female\"],[\"Male\"],[\"Female\"],[\"Male\"],[\"Female\"],[\"Male\"],[\"Male\"],[\"Female\"],[\"Male\"],[\"Male\"],[\"Female\"],[\"Male\"],[\"Female\"],[\"Male\"],[\"Male\"],[\"Female\"],[\"Male\"],[\"Male\"],[\"Female\"],[\"Male\"],[\"Male\"],[\"Female\"],[\"Male\"],[\"Male\"],[\"Female\"],[\"Male\"],[\"Male\"],[\"Female\"],[\"Male\"],[\"Male\"],[\"Female\"],[\"Male\"],[\"Male\"],[\"Female\"],[\"Male\"],[\"Female\"],[\"Male\"],[\"Female\"],[\"Male\"],[\"Male\"],[\"Female\"],[\"Male\"],[\"Male\"],[\"Female\"],[\"Male\"],[\"Male\"],[\"Female\"],[\"Male\"],[\"Female\"],[\"Male\"],[\"Female\"],[\"Male\"],[\"Male\"],[\"Female\"],[\"Male\"],[\"Male\"],[\"Female\"],[\"Male\"],[\"Male\"],[\"Female\"],[\"Male\"],[\"Male\"],[\"Female\"],[\"Male\"],[\"Female\"],[\"Male\"],[\"Male\"],[\"Female\"],[\"Male\"],[\"Female\"],[\"Male\"],[\"Female\"],[\"Male\"],[\"Female\"],[\"Female\"],[\"Female\"],[\"Male\"],[\"Male\"],[\"Female\"],[\"Male\"],[\"Male\"],[\"Female\"],[\"Male\"],[\"Female\"],[\"Female\"],[\"Male\"],[\"Male\"],[\"Female\"],[\"Female\"],[\"Male\"],[\"Female\"],[\"Male\"],[\"Female\"],[\"Male\"],[\"Female\"],[\"Male\"],[\"Male\"],[\"Male\"],[\"Female\"],[\"Male\"],[\"Male\"],[\"Female\"],[\"Male\"],[\"Male\"],[\"Female\"],[\"Female\"],[\"Female\"],[\"Male\"],[\"Female\"],[\"Male\"],[\"Male\"],[\"Female\"],[\"Male\"],[\"Male\"],[\"Female\"],[\"Female\"],[\"Female\"],[\"Male\"],[\"Male\"],[\"Female\"],[\"Male\"],[\"Female\"],[\"Female\"],[\"Male\"],[\"Female\"],[\"Female\"],[\"Male\"],[\"Female\"],[\"Male\"],[\"Female\"],[\"Female\"],[\"Male\"],[\"Female\"],[\"Male\"],[\"Female\"],[\"Female\"],[\"Female\"],[\"Male\"],[\"Female\"],[\"Male\"],[\"Male\"],[\"Female\"],[\"Male\"],[\"Female\"],[\"Male\"],[\"Female\"],[\"Female\"],[\"Female\"],[\"Male\"],[\"Female\"],[\"Female\"],[\"Male\"],[\"Female\"],[\"Female\"],[\"Female\"],[\"Female\"],[\"Female\"],[\"Female\"],[\"Female\"],[\"Female\"],[\"Male\"],[\"Female\"],[\"Male\"],[\"Female\"],[\"Female\"],[\"Female\"],[\"Female\"],[\"Female\"],[\"Female\"],[\"Female\"],[\"Female\"],[\"Female\"],[\"Female\"],[\"Male\"],[\"Female\"],[\"Female\"],[\"Male\"],[\"Female\"],[\"Female\"],[\"Female\"],[\"Male\"],[\"Female\"],[\"Female\"],[\"Female\"],[\"Female\"],[\"Female\"],[\"Female\"],[\"Female\"],[\"Female\"],[\"Female\"],[\"Female\"],[\"Male\"],[\"Female\"],[\"Female\"],[\"Female\"],[\"Female\"],[\"Female\"],[\"Female\"],[\"Female\"],[\"Female\"],[\"Female\"],[\"Female\"],[\"Female\"],[\"Female\"],[\"Female\"],[\"Female\"],[\"Female\"],[\"Female\"],[\"Female\"],[\"Female\"],[\"Female\"],[\"Female\"],[\"Female\"],[\"Female\"],[\"Female\"],[\"Female\"],[\"Female\"],[\"Female\"],[\"Female\"],[\"Female\"],[\"Female\"],[\"Female\"]],\"hovertemplate\":\"Smoking=No\\u003cbr\\u003eWeight (kg)=%{x}\\u003cbr\\u003eTidal Volume (mL)=%{y}\\u003cbr\\u003eGender=%{customdata[0]}\\u003cextra\\u003e\\u003c\\u002fextra\\u003e\",\"legendgroup\":\"No\",\"marker\":{\"color\":\"#636efa\",\"opacity\":0.5,\"symbol\":\"circle\",\"size\":5},\"mode\":\"markers\",\"name\":\"No\",\"orientation\":\"v\",\"showlegend\":true,\"x\":[70,80,58,60,85,74,77,72,61,79,66,64,81,71,62,82,75,84,67,73,64,80,76,72,65,78,77,64,82,74,60,79,81,65,83,75,61,73,84,80,63,71,60,64,83,78,62,82,67,75,84,70,79,66,81,85,61,74,80,64,78,81,67,73,62,79,65,76,82,60,70,80,66,77,60,81,62,80,72,63,84,78,66,85,61,79,75,62,82,71,80,63,77,61,74,60,82,81,61,72,83,62,75,61,79,84,66,77,60,80,62,81,75,64,82,83,67,84,60,78,81,64,74,83,65,75,84,60,78,82,62,72,83,64,75,80,65,84,77,61,84,64,83,62,75,78,60,84,74,66,80,83,63,84,67,79,62,75,81,64,82,84,61,84,80,63,72,83,65,74,62,84,77,64,83,65,81,60,84,64,67,60,84,79,65,83,77,67,82,63,64,80,83,65,64,82,61,84,67,83,60,81,84,80,65,74,83,62,78,84,63,64,61,81,62,77,82,64,78,83,60,64,61,84,83,60,81,67,61,84,63,64,81,60,84,63,62,84,64,81,67,62,63,84,64,84,78,62,83,61,74,65,61,67,83,60,62,84,60,61,64,65,62,61,62,65,84,61,75,62,60,61,62,65,64,65,62,64,60,75,62,65,82,64,61,60,78,64,62,61,63,60,61,67,64,61,64,78,65,61,60,64,65,64,61,60,60,65,60,64,61,64,65,63,60,62,63,67,62,61,62,62,64,61,65,61,64,61],\"xaxis\":\"x\",\"y\":[500,530,450,350,550,510,530,360,430,520,390,440,530,510,420,540,500,550,360,510,420,540,500,510,430,530,520,420,540,500,410,530,540,430,550,510,420,510,550,530,360,510,400,370,550,530,410,540,430,510,550,500,520,430,540,550,400,510,530,410,510,520,370,510,400,530,390,510,540,360,500,530,370,520,400,530,380,540,490,370,550,530,420,550,370,530,510,370,540,500,530,370,520,360,510,370,540,530,360,490,550,370,500,360,530,550,370,520,380,530,370,540,500,370,540,550,390,550,360,520,530,370,510,550,390,500,550,360,520,540,370,490,550,360,500,530,390,550,520,360,550,370,550,360,500,520,350,550,510,390,530,550,360,550,380,520,370,500,530,370,540,550,370,550,530,370,510,550,390,500,370,550,520,370,550,390,530,360,550,370,380,370,550,520,370,550,520,390,540,360,370,530,550,380,370,540,370,550,390,550,370,530,550,530,390,510,550,370,520,550,370,370,360,540,370,520,540,360,520,550,360,370,360,550,550,350,530,380,360,550,370,370,530,360,550,370,370,550,370,530,380,370,360,550,370,550,520,360,550,370,510,380,360,370,550,360,370,550,370,370,360,370,360,360,370,370,550,360,500,370,360,370,360,370,370,370,370,370,360,500,370,370,540,370,370,360,520,370,370,370,370,360,360,370,370,370,370,520,370,360,370,370,380,370,360,360,370,370,360,370,360,370,370,360,360,370,370,370,360,360,370,370,370,370,370,370,370,360],\"yaxis\":\"y\",\"type\":\"scatter\"},{\"customdata\":[[\"Female\"],[\"Male\"],[\"Female\"],[\"Female\"],[\"Male\"],[\"Male\"],[\"Female\"],[\"Female\"],[\"Female\"],[\"Female\"],[\"Female\"],[\"Female\"],[\"Female\"],[\"Female\"],[\"Female\"],[\"Female\"],[\"Female\"],[\"Male\"],[\"Female\"],[\"Female\"],[\"Female\"],[\"Female\"],[\"Female\"],[\"Female\"],[\"Female\"],[\"Female\"],[\"Female\"],[\"Female\"],[\"Female\"],[\"Female\"],[\"Female\"],[\"Female\"],[\"Female\"],[\"Female\"],[\"Female\"],[\"Female\"],[\"Female\"],[\"Female\"],[\"Female\"],[\"Female\"],[\"Female\"],[\"Female\"],[\"Female\"],[\"Female\"],[\"Female\"],[\"Female\"],[\"Female\"],[\"Female\"],[\"Female\"],[\"Female\"],[\"Female\"],[\"Female\"],[\"Female\"],[\"Female\"],[\"Female\"],[\"Female\"],[\"Female\"],[\"Female\"],[\"Female\"],[\"Female\"],[\"Female\"],[\"Female\"],[\"Female\"],[\"Female\"],[\"Female\"],[\"Female\"],[\"Female\"],[\"Female\"],[\"Female\"],[\"Female\"],[\"Female\"],[\"Female\"],[\"Female\"],[\"Female\"],[\"Female\"],[\"Female\"],[\"Female\"],[\"Female\"],[\"Female\"],[\"Female\"],[\"Female\"],[\"Female\"],[\"Female\"],[\"Female\"],[\"Female\"],[\"Female\"],[\"Female\"],[\"Female\"],[\"Female\"],[\"Female\"],[\"Female\"],[\"Female\"],[\"Female\"],[\"Female\"],[\"Female\"],[\"Female\"],[\"Female\"],[\"Female\"],[\"Female\"],[\"Female\"],[\"Female\"],[\"Female\"],[\"Female\"],[\"Female\"],[\"Female\"],[\"Female\"],[\"Female\"],[\"Female\"],[\"Female\"],[\"Female\"],[\"Female\"],[\"Female\"],[\"Female\"],[\"Female\"],[\"Female\"],[\"Female\"],[\"Female\"],[\"Female\"],[\"Female\"],[\"Female\"],[\"Female\"],[\"Female\"],[\"Female\"],[\"Female\"],[\"Female\"],[\"Female\"],[\"Female\"],[\"Female\"],[\"Female\"],[\"Female\"],[\"Female\"],[\"Female\"],[\"Female\"],[\"Female\"],[\"Female\"],[\"Female\"],[\"Female\"],[\"Female\"],[\"Female\"],[\"Female\"],[\"Female\"],[\"Female\"],[\"Female\"],[\"Female\"],[\"Female\"],[\"Female\"],[\"Female\"],[\"Female\"],[\"Female\"],[\"Female\"],[\"Female\"],[\"Female\"],[\"Female\"],[\"Female\"],[\"Female\"],[\"Female\"],[\"Female\"],[\"Female\"],[\"Female\"],[\"Female\"],[\"Female\"],[\"Female\"],[\"Female\"],[\"Female\"],[\"Female\"],[\"Female\"],[\"Female\"],[\"Female\"],[\"Female\"],[\"Female\"],[\"Female\"],[\"Female\"],[\"Female\"],[\"Female\"],[\"Female\"],[\"Female\"],[\"Female\"],[\"Female\"],[\"Female\"],[\"Female\"],[\"Female\"],[\"Female\"],[\"Female\"],[\"Female\"],[\"Female\"],[\"Female\"],[\"Female\"],[\"Female\"],[\"Female\"]],\"hovertemplate\":\"Smoking=Yes\\u003cbr\\u003eWeight (kg)=%{x}\\u003cbr\\u003eTidal Volume (mL)=%{y}\\u003cbr\\u003eGender=%{customdata[0]}\\u003cextra\\u003e\\u003c\\u002fextra\\u003e\",\"legendgroup\":\"Yes\",\"marker\":{\"color\":\"#EF553B\",\"opacity\":0.5,\"symbol\":\"circle\",\"size\":5},\"mode\":\"markers\",\"name\":\"Yes\",\"orientation\":\"v\",\"showlegend\":true,\"x\":[65,78,68,63,83,76,69,60,61,66,63,61,62,63,67,66,62,74,61,65,64,62,60,63,61,64,61,63,64,61,65,60,64,67,60,66,64,65,64,63,65,61,62,63,60,61,66,61,60,63,66,61,64,61,60,61,60,67,64,61,60,63,61,62,64,63,60,61,62,60,62,63,64,60,66,61,65,64,67,63,65,63,64,60,64,65,62,65,61,61,60,61,64,65,64,60,60,64,65,63,65,60,61,67,60,64,63,65,60,64,60,64,61,65,63,64,67,64,61,60,61,63,60,61,67,61,64,61,62,64,62,67,62,64,64,63,62,64,62,63,65,65,61,64,61,63,64,65,60,61,64,61,60,61,64,60,65,61,64,67,64,60,62,64,61,60,67,61,61,64,61,60,60,60,64,61,60,61,63,61,65,62,63,64,64,67,61,61,64],\"xaxis\":\"x\",\"y\":[400,420,410,370,500,490,350,380,370,390,370,360,370,360,390,410,370,500,390,420,380,370,380,370,360,380,370,370,380,360,390,360,360,390,350,390,380,390,380,370,360,380,370,370,360,370,380,350,380,370,370,370,370,370,370,360,350,380,370,360,360,370,370,370,360,370,360,370,360,360,360,370,360,360,380,360,380,370,380,370,380,370,370,360,370,370,370,370,360,360,360,360,370,380,370,360,360,370,370,360,370,360,360,380,360,370,370,370,370,360,370,370,360,370,370,370,370,370,360,360,360,370,360,360,380,370,370,360,370,370,370,380,370,370,370,370,360,370,370,370,370,370,360,370,360,370,370,370,360,370,370,360,360,360,370,370,370,360,370,380,370,370,360,370,360,370,380,360,370,370,360,370,370,360,370,370,360,360,370,360,370,370,370,370,370,380,370,360,370],\"yaxis\":\"y\",\"type\":\"scatter\"}],                        {\"template\":{\"data\":{\"histogram2dcontour\":[{\"type\":\"histogram2dcontour\",\"colorbar\":{\"outlinewidth\":0,\"ticks\":\"\"},\"colorscale\":[[0.0,\"#0d0887\"],[0.1111111111111111,\"#46039f\"],[0.2222222222222222,\"#7201a8\"],[0.3333333333333333,\"#9c179e\"],[0.4444444444444444,\"#bd3786\"],[0.5555555555555556,\"#d8576b\"],[0.6666666666666666,\"#ed7953\"],[0.7777777777777778,\"#fb9f3a\"],[0.8888888888888888,\"#fdca26\"],[1.0,\"#f0f921\"]]}],\"choropleth\":[{\"type\":\"choropleth\",\"colorbar\":{\"outlinewidth\":0,\"ticks\":\"\"}}],\"histogram2d\":[{\"type\":\"histogram2d\",\"colorbar\":{\"outlinewidth\":0,\"ticks\":\"\"},\"colorscale\":[[0.0,\"#0d0887\"],[0.1111111111111111,\"#46039f\"],[0.2222222222222222,\"#7201a8\"],[0.3333333333333333,\"#9c179e\"],[0.4444444444444444,\"#bd3786\"],[0.5555555555555556,\"#d8576b\"],[0.6666666666666666,\"#ed7953\"],[0.7777777777777778,\"#fb9f3a\"],[0.8888888888888888,\"#fdca26\"],[1.0,\"#f0f921\"]]}],\"heatmap\":[{\"type\":\"heatmap\",\"colorbar\":{\"outlinewidth\":0,\"ticks\":\"\"},\"colorscale\":[[0.0,\"#0d0887\"],[0.1111111111111111,\"#46039f\"],[0.2222222222222222,\"#7201a8\"],[0.3333333333333333,\"#9c179e\"],[0.4444444444444444,\"#bd3786\"],[0.5555555555555556,\"#d8576b\"],[0.6666666666666666,\"#ed7953\"],[0.7777777777777778,\"#fb9f3a\"],[0.8888888888888888,\"#fdca26\"],[1.0,\"#f0f921\"]]}],\"heatmapgl\":[{\"type\":\"heatmapgl\",\"colorbar\":{\"outlinewidth\":0,\"ticks\":\"\"},\"colorscale\":[[0.0,\"#0d0887\"],[0.1111111111111111,\"#46039f\"],[0.2222222222222222,\"#7201a8\"],[0.3333333333333333,\"#9c179e\"],[0.4444444444444444,\"#bd3786\"],[0.5555555555555556,\"#d8576b\"],[0.6666666666666666,\"#ed7953\"],[0.7777777777777778,\"#fb9f3a\"],[0.8888888888888888,\"#fdca26\"],[1.0,\"#f0f921\"]]}],\"contourcarpet\":[{\"type\":\"contourcarpet\",\"colorbar\":{\"outlinewidth\":0,\"ticks\":\"\"}}],\"contour\":[{\"type\":\"contour\",\"colorbar\":{\"outlinewidth\":0,\"ticks\":\"\"},\"colorscale\":[[0.0,\"#0d0887\"],[0.1111111111111111,\"#46039f\"],[0.2222222222222222,\"#7201a8\"],[0.3333333333333333,\"#9c179e\"],[0.4444444444444444,\"#bd3786\"],[0.5555555555555556,\"#d8576b\"],[0.6666666666666666,\"#ed7953\"],[0.7777777777777778,\"#fb9f3a\"],[0.8888888888888888,\"#fdca26\"],[1.0,\"#f0f921\"]]}],\"surface\":[{\"type\":\"surface\",\"colorbar\":{\"outlinewidth\":0,\"ticks\":\"\"},\"colorscale\":[[0.0,\"#0d0887\"],[0.1111111111111111,\"#46039f\"],[0.2222222222222222,\"#7201a8\"],[0.3333333333333333,\"#9c179e\"],[0.4444444444444444,\"#bd3786\"],[0.5555555555555556,\"#d8576b\"],[0.6666666666666666,\"#ed7953\"],[0.7777777777777778,\"#fb9f3a\"],[0.8888888888888888,\"#fdca26\"],[1.0,\"#f0f921\"]]}],\"mesh3d\":[{\"type\":\"mesh3d\",\"colorbar\":{\"outlinewidth\":0,\"ticks\":\"\"}}],\"scatter\":[{\"fillpattern\":{\"fillmode\":\"overlay\",\"size\":10,\"solidity\":0.2},\"type\":\"scatter\"}],\"parcoords\":[{\"type\":\"parcoords\",\"line\":{\"colorbar\":{\"outlinewidth\":0,\"ticks\":\"\"}}}],\"scatterpolargl\":[{\"type\":\"scatterpolargl\",\"marker\":{\"colorbar\":{\"outlinewidth\":0,\"ticks\":\"\"}}}],\"bar\":[{\"error_x\":{\"color\":\"#2a3f5f\"},\"error_y\":{\"color\":\"#2a3f5f\"},\"marker\":{\"line\":{\"color\":\"#E5ECF6\",\"width\":0.5},\"pattern\":{\"fillmode\":\"overlay\",\"size\":10,\"solidity\":0.2}},\"type\":\"bar\"}],\"scattergeo\":[{\"type\":\"scattergeo\",\"marker\":{\"colorbar\":{\"outlinewidth\":0,\"ticks\":\"\"}}}],\"scatterpolar\":[{\"type\":\"scatterpolar\",\"marker\":{\"colorbar\":{\"outlinewidth\":0,\"ticks\":\"\"}}}],\"histogram\":[{\"marker\":{\"pattern\":{\"fillmode\":\"overlay\",\"size\":10,\"solidity\":0.2}},\"type\":\"histogram\"}],\"scattergl\":[{\"type\":\"scattergl\",\"marker\":{\"colorbar\":{\"outlinewidth\":0,\"ticks\":\"\"}}}],\"scatter3d\":[{\"type\":\"scatter3d\",\"line\":{\"colorbar\":{\"outlinewidth\":0,\"ticks\":\"\"}},\"marker\":{\"colorbar\":{\"outlinewidth\":0,\"ticks\":\"\"}}}],\"scattermapbox\":[{\"type\":\"scattermapbox\",\"marker\":{\"colorbar\":{\"outlinewidth\":0,\"ticks\":\"\"}}}],\"scatterternary\":[{\"type\":\"scatterternary\",\"marker\":{\"colorbar\":{\"outlinewidth\":0,\"ticks\":\"\"}}}],\"scattercarpet\":[{\"type\":\"scattercarpet\",\"marker\":{\"colorbar\":{\"outlinewidth\":0,\"ticks\":\"\"}}}],\"carpet\":[{\"aaxis\":{\"endlinecolor\":\"#2a3f5f\",\"gridcolor\":\"white\",\"linecolor\":\"white\",\"minorgridcolor\":\"white\",\"startlinecolor\":\"#2a3f5f\"},\"baxis\":{\"endlinecolor\":\"#2a3f5f\",\"gridcolor\":\"white\",\"linecolor\":\"white\",\"minorgridcolor\":\"white\",\"startlinecolor\":\"#2a3f5f\"},\"type\":\"carpet\"}],\"table\":[{\"cells\":{\"fill\":{\"color\":\"#EBF0F8\"},\"line\":{\"color\":\"white\"}},\"header\":{\"fill\":{\"color\":\"#C8D4E3\"},\"line\":{\"color\":\"white\"}},\"type\":\"table\"}],\"barpolar\":[{\"marker\":{\"line\":{\"color\":\"#E5ECF6\",\"width\":0.5},\"pattern\":{\"fillmode\":\"overlay\",\"size\":10,\"solidity\":0.2}},\"type\":\"barpolar\"}],\"pie\":[{\"automargin\":true,\"type\":\"pie\"}]},\"layout\":{\"autotypenumbers\":\"strict\",\"colorway\":[\"#636efa\",\"#EF553B\",\"#00cc96\",\"#ab63fa\",\"#FFA15A\",\"#19d3f3\",\"#FF6692\",\"#B6E880\",\"#FF97FF\",\"#FECB52\"],\"font\":{\"color\":\"#2a3f5f\"},\"hovermode\":\"closest\",\"hoverlabel\":{\"align\":\"left\"},\"paper_bgcolor\":\"white\",\"plot_bgcolor\":\"#E5ECF6\",\"polar\":{\"bgcolor\":\"#E5ECF6\",\"angularaxis\":{\"gridcolor\":\"white\",\"linecolor\":\"white\",\"ticks\":\"\"},\"radialaxis\":{\"gridcolor\":\"white\",\"linecolor\":\"white\",\"ticks\":\"\"}},\"ternary\":{\"bgcolor\":\"#E5ECF6\",\"aaxis\":{\"gridcolor\":\"white\",\"linecolor\":\"white\",\"ticks\":\"\"},\"baxis\":{\"gridcolor\":\"white\",\"linecolor\":\"white\",\"ticks\":\"\"},\"caxis\":{\"gridcolor\":\"white\",\"linecolor\":\"white\",\"ticks\":\"\"}},\"coloraxis\":{\"colorbar\":{\"outlinewidth\":0,\"ticks\":\"\"}},\"colorscale\":{\"sequential\":[[0.0,\"#0d0887\"],[0.1111111111111111,\"#46039f\"],[0.2222222222222222,\"#7201a8\"],[0.3333333333333333,\"#9c179e\"],[0.4444444444444444,\"#bd3786\"],[0.5555555555555556,\"#d8576b\"],[0.6666666666666666,\"#ed7953\"],[0.7777777777777778,\"#fb9f3a\"],[0.8888888888888888,\"#fdca26\"],[1.0,\"#f0f921\"]],\"sequentialminus\":[[0.0,\"#0d0887\"],[0.1111111111111111,\"#46039f\"],[0.2222222222222222,\"#7201a8\"],[0.3333333333333333,\"#9c179e\"],[0.4444444444444444,\"#bd3786\"],[0.5555555555555556,\"#d8576b\"],[0.6666666666666666,\"#ed7953\"],[0.7777777777777778,\"#fb9f3a\"],[0.8888888888888888,\"#fdca26\"],[1.0,\"#f0f921\"]],\"diverging\":[[0,\"#8e0152\"],[0.1,\"#c51b7d\"],[0.2,\"#de77ae\"],[0.3,\"#f1b6da\"],[0.4,\"#fde0ef\"],[0.5,\"#f7f7f7\"],[0.6,\"#e6f5d0\"],[0.7,\"#b8e186\"],[0.8,\"#7fbc41\"],[0.9,\"#4d9221\"],[1,\"#276419\"]]},\"xaxis\":{\"gridcolor\":\"white\",\"linecolor\":\"white\",\"ticks\":\"\",\"title\":{\"standoff\":15},\"zerolinecolor\":\"white\",\"automargin\":true,\"zerolinewidth\":2},\"yaxis\":{\"gridcolor\":\"white\",\"linecolor\":\"white\",\"ticks\":\"\",\"title\":{\"standoff\":15},\"zerolinecolor\":\"white\",\"automargin\":true,\"zerolinewidth\":2},\"scene\":{\"xaxis\":{\"backgroundcolor\":\"#E5ECF6\",\"gridcolor\":\"white\",\"linecolor\":\"white\",\"showbackground\":true,\"ticks\":\"\",\"zerolinecolor\":\"white\",\"gridwidth\":2},\"yaxis\":{\"backgroundcolor\":\"#E5ECF6\",\"gridcolor\":\"white\",\"linecolor\":\"white\",\"showbackground\":true,\"ticks\":\"\",\"zerolinecolor\":\"white\",\"gridwidth\":2},\"zaxis\":{\"backgroundcolor\":\"#E5ECF6\",\"gridcolor\":\"white\",\"linecolor\":\"white\",\"showbackground\":true,\"ticks\":\"\",\"zerolinecolor\":\"white\",\"gridwidth\":2}},\"shapedefaults\":{\"line\":{\"color\":\"#2a3f5f\"}},\"annotationdefaults\":{\"arrowcolor\":\"#2a3f5f\",\"arrowhead\":0,\"arrowwidth\":1},\"geo\":{\"bgcolor\":\"white\",\"landcolor\":\"#E5ECF6\",\"subunitcolor\":\"white\",\"showland\":true,\"showlakes\":true,\"lakecolor\":\"white\"},\"title\":{\"x\":0.05},\"mapbox\":{\"style\":\"light\"}}},\"xaxis\":{\"anchor\":\"y\",\"domain\":[0.0,1.0],\"title\":{\"text\":\"Weight (kg)\"}},\"yaxis\":{\"anchor\":\"x\",\"domain\":[0.0,1.0],\"title\":{\"text\":\"Tidal Volume (mL)\"}},\"legend\":{\"title\":{\"text\":\"Smoking\"},\"tracegroupgap\":0},\"title\":{\"text\":\"Weight vs. volume\"}},                        {\"responsive\": true}                    ).then(function(){\n",
              "                            \n",
              "var gd = document.getElementById('377fef2b-1668-44d9-9913-21ad7b3e2d0b');\n",
              "var x = new MutationObserver(function (mutations, observer) {{\n",
              "        var display = window.getComputedStyle(gd).display;\n",
              "        if (!display || display === 'none') {{\n",
              "            console.log([gd, 'removed!']);\n",
              "            Plotly.purge(gd);\n",
              "            observer.disconnect();\n",
              "        }}\n",
              "}});\n",
              "\n",
              "// Listen for the removal of the full notebook cells\n",
              "var notebookContainer = gd.closest('#notebook-container');\n",
              "if (notebookContainer) {{\n",
              "    x.observe(notebookContainer, {childList: true});\n",
              "}}\n",
              "\n",
              "// Listen for the clearing of the current output cell\n",
              "var outputEl = gd.closest('.output');\n",
              "if (outputEl) {{\n",
              "    x.observe(outputEl, {childList: true});\n",
              "}}\n",
              "\n",
              "                        })                };                            </script>        </div>\n",
              "</body>\n",
              "</html>"
            ]
          },
          "metadata": {}
        }
      ]
    },
    {
      "cell_type": "markdown",
      "source": [
        "Same as age weight also has a linear relation with volume"
      ],
      "metadata": {
        "id": "yMSX_dUlumDw"
      }
    },
    {
      "cell_type": "code",
      "source": [
        "fig = px.scatter(data,\n",
        "                 x='Height (cm)',\n",
        "                 y='Tidal Volume (mL)',\n",
        "                 color='Smoking',\n",
        "                 opacity=0.5,\n",
        "                 hover_data=['Gender'],\n",
        "                 title='Height vs. volume')\n",
        "fig.update_traces(marker_size=5)\n",
        "fig.show()"
      ],
      "metadata": {
        "colab": {
          "base_uri": "https://localhost:8080/",
          "height": 542
        },
        "id": "WKVQVFzZu3jR",
        "outputId": "c1ab133f-e378-4ae7-a1e1-6c487f978eeb"
      },
      "execution_count": 78,
      "outputs": [
        {
          "output_type": "display_data",
          "data": {
            "text/html": [
              "<html>\n",
              "<head><meta charset=\"utf-8\" /></head>\n",
              "<body>\n",
              "    <div>            <script src=\"https://cdnjs.cloudflare.com/ajax/libs/mathjax/2.7.5/MathJax.js?config=TeX-AMS-MML_SVG\"></script><script type=\"text/javascript\">if (window.MathJax && window.MathJax.Hub && window.MathJax.Hub.Config) {window.MathJax.Hub.Config({SVG: {font: \"STIX-Web\"}});}</script>                <script type=\"text/javascript\">window.PlotlyConfig = {MathJaxConfig: 'local'};</script>\n",
              "        <script charset=\"utf-8\" src=\"https://cdn.plot.ly/plotly-2.24.1.min.js\"></script>                <div id=\"40a62466-343f-4dcf-acaf-3faa7952c4af\" class=\"plotly-graph-div\" style=\"height:525px; width:100%;\"></div>            <script type=\"text/javascript\">                                    window.PLOTLYENV=window.PLOTLYENV || {};                                    if (document.getElementById(\"40a62466-343f-4dcf-acaf-3faa7952c4af\")) {                    Plotly.newPlot(                        \"40a62466-343f-4dcf-acaf-3faa7952c4af\",                        [{\"customdata\":[[\"Male\"],[\"Male\"],[\"Female\"],[\"Female\"],[\"Male\"],[\"Male\"],[\"Male\"],[\"Female\"],[\"Female\"],[\"Male\"],[\"Female\"],[\"Female\"],[\"Male\"],[\"Male\"],[\"Female\"],[\"Male\"],[\"Male\"],[\"Male\"],[\"Female\"],[\"Male\"],[\"Female\"],[\"Male\"],[\"Male\"],[\"Male\"],[\"Female\"],[\"Male\"],[\"Male\"],[\"Female\"],[\"Male\"],[\"Male\"],[\"Female\"],[\"Male\"],[\"Male\"],[\"Female\"],[\"Male\"],[\"Male\"],[\"Female\"],[\"Male\"],[\"Male\"],[\"Male\"],[\"Female\"],[\"Male\"],[\"Female\"],[\"Female\"],[\"Male\"],[\"Male\"],[\"Female\"],[\"Male\"],[\"Female\"],[\"Male\"],[\"Male\"],[\"Male\"],[\"Male\"],[\"Female\"],[\"Male\"],[\"Male\"],[\"Female\"],[\"Male\"],[\"Male\"],[\"Female\"],[\"Male\"],[\"Male\"],[\"Female\"],[\"Male\"],[\"Female\"],[\"Male\"],[\"Female\"],[\"Male\"],[\"Male\"],[\"Female\"],[\"Male\"],[\"Male\"],[\"Female\"],[\"Male\"],[\"Female\"],[\"Male\"],[\"Female\"],[\"Male\"],[\"Male\"],[\"Female\"],[\"Male\"],[\"Male\"],[\"Female\"],[\"Male\"],[\"Female\"],[\"Male\"],[\"Male\"],[\"Female\"],[\"Male\"],[\"Male\"],[\"Male\"],[\"Female\"],[\"Male\"],[\"Female\"],[\"Male\"],[\"Female\"],[\"Male\"],[\"Male\"],[\"Female\"],[\"Male\"],[\"Male\"],[\"Female\"],[\"Male\"],[\"Female\"],[\"Male\"],[\"Male\"],[\"Female\"],[\"Male\"],[\"Female\"],[\"Male\"],[\"Female\"],[\"Male\"],[\"Male\"],[\"Female\"],[\"Male\"],[\"Male\"],[\"Female\"],[\"Male\"],[\"Female\"],[\"Male\"],[\"Male\"],[\"Female\"],[\"Male\"],[\"Male\"],[\"Female\"],[\"Male\"],[\"Male\"],[\"Female\"],[\"Male\"],[\"Male\"],[\"Female\"],[\"Male\"],[\"Male\"],[\"Female\"],[\"Male\"],[\"Male\"],[\"Female\"],[\"Male\"],[\"Male\"],[\"Female\"],[\"Male\"],[\"Female\"],[\"Male\"],[\"Female\"],[\"Male\"],[\"Male\"],[\"Female\"],[\"Male\"],[\"Male\"],[\"Female\"],[\"Male\"],[\"Male\"],[\"Female\"],[\"Male\"],[\"Female\"],[\"Male\"],[\"Female\"],[\"Male\"],[\"Male\"],[\"Female\"],[\"Male\"],[\"Male\"],[\"Female\"],[\"Male\"],[\"Male\"],[\"Female\"],[\"Male\"],[\"Male\"],[\"Female\"],[\"Male\"],[\"Female\"],[\"Male\"],[\"Male\"],[\"Female\"],[\"Male\"],[\"Female\"],[\"Male\"],[\"Female\"],[\"Male\"],[\"Female\"],[\"Female\"],[\"Female\"],[\"Male\"],[\"Male\"],[\"Female\"],[\"Male\"],[\"Male\"],[\"Female\"],[\"Male\"],[\"Female\"],[\"Female\"],[\"Male\"],[\"Male\"],[\"Female\"],[\"Female\"],[\"Male\"],[\"Female\"],[\"Male\"],[\"Female\"],[\"Male\"],[\"Female\"],[\"Male\"],[\"Male\"],[\"Male\"],[\"Female\"],[\"Male\"],[\"Male\"],[\"Female\"],[\"Male\"],[\"Male\"],[\"Female\"],[\"Female\"],[\"Female\"],[\"Male\"],[\"Female\"],[\"Male\"],[\"Male\"],[\"Female\"],[\"Male\"],[\"Male\"],[\"Female\"],[\"Female\"],[\"Female\"],[\"Male\"],[\"Male\"],[\"Female\"],[\"Male\"],[\"Female\"],[\"Female\"],[\"Male\"],[\"Female\"],[\"Female\"],[\"Male\"],[\"Female\"],[\"Male\"],[\"Female\"],[\"Female\"],[\"Male\"],[\"Female\"],[\"Male\"],[\"Female\"],[\"Female\"],[\"Female\"],[\"Male\"],[\"Female\"],[\"Male\"],[\"Male\"],[\"Female\"],[\"Male\"],[\"Female\"],[\"Male\"],[\"Female\"],[\"Female\"],[\"Female\"],[\"Male\"],[\"Female\"],[\"Female\"],[\"Male\"],[\"Female\"],[\"Female\"],[\"Female\"],[\"Female\"],[\"Female\"],[\"Female\"],[\"Female\"],[\"Female\"],[\"Male\"],[\"Female\"],[\"Male\"],[\"Female\"],[\"Female\"],[\"Female\"],[\"Female\"],[\"Female\"],[\"Female\"],[\"Female\"],[\"Female\"],[\"Female\"],[\"Female\"],[\"Male\"],[\"Female\"],[\"Female\"],[\"Male\"],[\"Female\"],[\"Female\"],[\"Female\"],[\"Male\"],[\"Female\"],[\"Female\"],[\"Female\"],[\"Female\"],[\"Female\"],[\"Female\"],[\"Female\"],[\"Female\"],[\"Female\"],[\"Female\"],[\"Male\"],[\"Female\"],[\"Female\"],[\"Female\"],[\"Female\"],[\"Female\"],[\"Female\"],[\"Female\"],[\"Female\"],[\"Female\"],[\"Female\"],[\"Female\"],[\"Female\"],[\"Female\"],[\"Female\"],[\"Female\"],[\"Female\"],[\"Female\"],[\"Female\"],[\"Female\"],[\"Female\"],[\"Female\"],[\"Female\"],[\"Female\"],[\"Female\"],[\"Female\"],[\"Female\"],[\"Female\"],[\"Female\"],[\"Female\"],[\"Female\"]],\"hovertemplate\":\"Smoking=No\\u003cbr\\u003eHeight (cm)=%{x}\\u003cbr\\u003eTidal Volume (mL)=%{y}\\u003cbr\\u003eGender=%{customdata[0]}\\u003cextra\\u003e\\u003c\\u002fextra\\u003e\",\"legendgroup\":\"No\",\"marker\":{\"color\":\"#636efa\",\"opacity\":0.5,\"symbol\":\"circle\",\"size\":5},\"mode\":\"markers\",\"name\":\"No\",\"orientation\":\"v\",\"showlegend\":true,\"x\":[168,175,160,155,180,172,178,167,159,176,166,160,179,169,161,177,174,180,164,171,165,181,172,170,168,176,175,157,181,169,161,179,177,166,180,174,162,171,182,178,159,170,158,157,181,179,156,177,163,174,180,169,176,164,181,178,155,172,180,159,175,177,162,170,157,179,163,174,176,161,170,178,162,175,157,179,156,177,171,161,180,178,165,182,162,176,174,157,181,170,179,159,175,160,172,158,178,177,156,170,180,159,174,160,179,181,162,175,161,180,155,177,174,158,178,181,162,180,158,175,179,156,172,181,163,174,180,158,176,178,157,170,181,160,174,178,161,180,175,160,181,158,180,159,174,176,158,180,172,164,178,181,155,180,162,176,158,174,179,157,178,181,160,180,177,158,170,181,161,172,156,181,175,157,180,164,177,160,181,157,162,157,181,176,162,180,175,164,178,155,158,177,180,161,157,178,155,181,164,180,157,178,181,179,161,172,180,159,176,181,157,162,155,179,161,175,178,155,176,180,157,162,155,180,181,155,178,162,158,181,155,162,177,158,181,157,160,181,155,178,162,161,157,181,159,180,176,158,180,159,172,161,155,162,180,157,160,181,159,162,160,160,158,160,155,160,180,160,174,159,158,155,158,160,162,161,158,159,158,174,158,161,178,160,160,155,176,161,158,160,155,157,158,162,161,158,160,176,161,159,157,161,162,155,160,157,157,158,155,160,158,160,161,155,155,158,158,160,160,157,158,160,160,158,160,160,158,155],\"xaxis\":\"x\",\"y\":[500,530,450,350,550,510,530,360,430,520,390,440,530,510,420,540,500,550,360,510,420,540,500,510,430,530,520,420,540,500,410,530,540,430,550,510,420,510,550,530,360,510,400,370,550,530,410,540,430,510,550,500,520,430,540,550,400,510,530,410,510,520,370,510,400,530,390,510,540,360,500,530,370,520,400,530,380,540,490,370,550,530,420,550,370,530,510,370,540,500,530,370,520,360,510,370,540,530,360,490,550,370,500,360,530,550,370,520,380,530,370,540,500,370,540,550,390,550,360,520,530,370,510,550,390,500,550,360,520,540,370,490,550,360,500,530,390,550,520,360,550,370,550,360,500,520,350,550,510,390,530,550,360,550,380,520,370,500,530,370,540,550,370,550,530,370,510,550,390,500,370,550,520,370,550,390,530,360,550,370,380,370,550,520,370,550,520,390,540,360,370,530,550,380,370,540,370,550,390,550,370,530,550,530,390,510,550,370,520,550,370,370,360,540,370,520,540,360,520,550,360,370,360,550,550,350,530,380,360,550,370,370,530,360,550,370,370,550,370,530,380,370,360,550,370,550,520,360,550,370,510,380,360,370,550,360,370,550,370,370,360,370,360,360,370,370,550,360,500,370,360,370,360,370,370,370,370,370,360,500,370,370,540,370,370,360,520,370,370,370,370,360,360,370,370,370,370,520,370,360,370,370,380,370,360,360,370,370,360,370,360,370,370,360,360,370,370,370,360,360,370,370,370,370,370,370,370,360],\"yaxis\":\"y\",\"type\":\"scatter\"},{\"customdata\":[[\"Female\"],[\"Male\"],[\"Female\"],[\"Female\"],[\"Male\"],[\"Male\"],[\"Female\"],[\"Female\"],[\"Female\"],[\"Female\"],[\"Female\"],[\"Female\"],[\"Female\"],[\"Female\"],[\"Female\"],[\"Female\"],[\"Female\"],[\"Male\"],[\"Female\"],[\"Female\"],[\"Female\"],[\"Female\"],[\"Female\"],[\"Female\"],[\"Female\"],[\"Female\"],[\"Female\"],[\"Female\"],[\"Female\"],[\"Female\"],[\"Female\"],[\"Female\"],[\"Female\"],[\"Female\"],[\"Female\"],[\"Female\"],[\"Female\"],[\"Female\"],[\"Female\"],[\"Female\"],[\"Female\"],[\"Female\"],[\"Female\"],[\"Female\"],[\"Female\"],[\"Female\"],[\"Female\"],[\"Female\"],[\"Female\"],[\"Female\"],[\"Female\"],[\"Female\"],[\"Female\"],[\"Female\"],[\"Female\"],[\"Female\"],[\"Female\"],[\"Female\"],[\"Female\"],[\"Female\"],[\"Female\"],[\"Female\"],[\"Female\"],[\"Female\"],[\"Female\"],[\"Female\"],[\"Female\"],[\"Female\"],[\"Female\"],[\"Female\"],[\"Female\"],[\"Female\"],[\"Female\"],[\"Female\"],[\"Female\"],[\"Female\"],[\"Female\"],[\"Female\"],[\"Female\"],[\"Female\"],[\"Female\"],[\"Female\"],[\"Female\"],[\"Female\"],[\"Female\"],[\"Female\"],[\"Female\"],[\"Female\"],[\"Female\"],[\"Female\"],[\"Female\"],[\"Female\"],[\"Female\"],[\"Female\"],[\"Female\"],[\"Female\"],[\"Female\"],[\"Female\"],[\"Female\"],[\"Female\"],[\"Female\"],[\"Female\"],[\"Female\"],[\"Female\"],[\"Female\"],[\"Female\"],[\"Female\"],[\"Female\"],[\"Female\"],[\"Female\"],[\"Female\"],[\"Female\"],[\"Female\"],[\"Female\"],[\"Female\"],[\"Female\"],[\"Female\"],[\"Female\"],[\"Female\"],[\"Female\"],[\"Female\"],[\"Female\"],[\"Female\"],[\"Female\"],[\"Female\"],[\"Female\"],[\"Female\"],[\"Female\"],[\"Female\"],[\"Female\"],[\"Female\"],[\"Female\"],[\"Female\"],[\"Female\"],[\"Female\"],[\"Female\"],[\"Female\"],[\"Female\"],[\"Female\"],[\"Female\"],[\"Female\"],[\"Female\"],[\"Female\"],[\"Female\"],[\"Female\"],[\"Female\"],[\"Female\"],[\"Female\"],[\"Female\"],[\"Female\"],[\"Female\"],[\"Female\"],[\"Female\"],[\"Female\"],[\"Female\"],[\"Female\"],[\"Female\"],[\"Female\"],[\"Female\"],[\"Female\"],[\"Female\"],[\"Female\"],[\"Female\"],[\"Female\"],[\"Female\"],[\"Female\"],[\"Female\"],[\"Female\"],[\"Female\"],[\"Female\"],[\"Female\"],[\"Female\"],[\"Female\"],[\"Female\"],[\"Female\"],[\"Female\"],[\"Female\"],[\"Female\"],[\"Female\"],[\"Female\"],[\"Female\"],[\"Female\"],[\"Female\"],[\"Female\"],[\"Female\"],[\"Female\"],[\"Female\"],[\"Female\"],[\"Female\"]],\"hovertemplate\":\"Smoking=Yes\\u003cbr\\u003eHeight (cm)=%{x}\\u003cbr\\u003eTidal Volume (mL)=%{y}\\u003cbr\\u003eGender=%{customdata[0]}\\u003cextra\\u003e\\u003c\\u002fextra\\u003e\",\"legendgroup\":\"Yes\",\"marker\":{\"color\":\"#EF553B\",\"opacity\":0.5,\"symbol\":\"circle\",\"size\":5},\"mode\":\"markers\",\"name\":\"Yes\",\"orientation\":\"v\",\"showlegend\":true,\"x\":[162,170,165,158,182,173,163,156,157,162,159,160,158,155,164,165,160,172,161,167,158,160,161,156,158,160,159,155,158,159,164,160,158,163,155,164,161,165,157,159,160,157,160,161,160,159,164,155,159,157,162,156,160,161,159,160,155,162,159,160,160,159,155,160,158,160,159,160,159,160,160,159,155,158,164,160,160,157,162,158,161,159,160,158,157,160,159,160,161,158,158,160,162,161,160,157,160,158,161,155,160,157,159,161,155,162,158,161,159,158,157,162,155,160,157,161,160,159,155,157,158,155,160,160,162,155,160,157,158,157,158,162,161,160,159,155,160,160,160,158,160,161,155,158,162,155,162,161,157,158,159,155,155,160,161,158,161,158,159,162,158,157,158,161,155,157,162,158,158,161,155,155,158,157,155,158,157,155,158,158,161,160,157,158,160,162,158,155,160],\"xaxis\":\"x\",\"y\":[400,420,410,370,500,490,350,380,370,390,370,360,370,360,390,410,370,500,390,420,380,370,380,370,360,380,370,370,380,360,390,360,360,390,350,390,380,390,380,370,360,380,370,370,360,370,380,350,380,370,370,370,370,370,370,360,350,380,370,360,360,370,370,370,360,370,360,370,360,360,360,370,360,360,380,360,380,370,380,370,380,370,370,360,370,370,370,370,360,360,360,360,370,380,370,360,360,370,370,360,370,360,360,380,360,370,370,370,370,360,370,370,360,370,370,370,370,370,360,360,360,370,360,360,380,370,370,360,370,370,370,380,370,370,370,370,360,370,370,370,370,370,360,370,360,370,370,370,360,370,370,360,360,360,370,370,370,360,370,380,370,370,360,370,360,370,380,360,370,370,360,370,370,360,370,370,360,360,370,360,370,370,370,370,370,380,370,360,370],\"yaxis\":\"y\",\"type\":\"scatter\"}],                        {\"template\":{\"data\":{\"histogram2dcontour\":[{\"type\":\"histogram2dcontour\",\"colorbar\":{\"outlinewidth\":0,\"ticks\":\"\"},\"colorscale\":[[0.0,\"#0d0887\"],[0.1111111111111111,\"#46039f\"],[0.2222222222222222,\"#7201a8\"],[0.3333333333333333,\"#9c179e\"],[0.4444444444444444,\"#bd3786\"],[0.5555555555555556,\"#d8576b\"],[0.6666666666666666,\"#ed7953\"],[0.7777777777777778,\"#fb9f3a\"],[0.8888888888888888,\"#fdca26\"],[1.0,\"#f0f921\"]]}],\"choropleth\":[{\"type\":\"choropleth\",\"colorbar\":{\"outlinewidth\":0,\"ticks\":\"\"}}],\"histogram2d\":[{\"type\":\"histogram2d\",\"colorbar\":{\"outlinewidth\":0,\"ticks\":\"\"},\"colorscale\":[[0.0,\"#0d0887\"],[0.1111111111111111,\"#46039f\"],[0.2222222222222222,\"#7201a8\"],[0.3333333333333333,\"#9c179e\"],[0.4444444444444444,\"#bd3786\"],[0.5555555555555556,\"#d8576b\"],[0.6666666666666666,\"#ed7953\"],[0.7777777777777778,\"#fb9f3a\"],[0.8888888888888888,\"#fdca26\"],[1.0,\"#f0f921\"]]}],\"heatmap\":[{\"type\":\"heatmap\",\"colorbar\":{\"outlinewidth\":0,\"ticks\":\"\"},\"colorscale\":[[0.0,\"#0d0887\"],[0.1111111111111111,\"#46039f\"],[0.2222222222222222,\"#7201a8\"],[0.3333333333333333,\"#9c179e\"],[0.4444444444444444,\"#bd3786\"],[0.5555555555555556,\"#d8576b\"],[0.6666666666666666,\"#ed7953\"],[0.7777777777777778,\"#fb9f3a\"],[0.8888888888888888,\"#fdca26\"],[1.0,\"#f0f921\"]]}],\"heatmapgl\":[{\"type\":\"heatmapgl\",\"colorbar\":{\"outlinewidth\":0,\"ticks\":\"\"},\"colorscale\":[[0.0,\"#0d0887\"],[0.1111111111111111,\"#46039f\"],[0.2222222222222222,\"#7201a8\"],[0.3333333333333333,\"#9c179e\"],[0.4444444444444444,\"#bd3786\"],[0.5555555555555556,\"#d8576b\"],[0.6666666666666666,\"#ed7953\"],[0.7777777777777778,\"#fb9f3a\"],[0.8888888888888888,\"#fdca26\"],[1.0,\"#f0f921\"]]}],\"contourcarpet\":[{\"type\":\"contourcarpet\",\"colorbar\":{\"outlinewidth\":0,\"ticks\":\"\"}}],\"contour\":[{\"type\":\"contour\",\"colorbar\":{\"outlinewidth\":0,\"ticks\":\"\"},\"colorscale\":[[0.0,\"#0d0887\"],[0.1111111111111111,\"#46039f\"],[0.2222222222222222,\"#7201a8\"],[0.3333333333333333,\"#9c179e\"],[0.4444444444444444,\"#bd3786\"],[0.5555555555555556,\"#d8576b\"],[0.6666666666666666,\"#ed7953\"],[0.7777777777777778,\"#fb9f3a\"],[0.8888888888888888,\"#fdca26\"],[1.0,\"#f0f921\"]]}],\"surface\":[{\"type\":\"surface\",\"colorbar\":{\"outlinewidth\":0,\"ticks\":\"\"},\"colorscale\":[[0.0,\"#0d0887\"],[0.1111111111111111,\"#46039f\"],[0.2222222222222222,\"#7201a8\"],[0.3333333333333333,\"#9c179e\"],[0.4444444444444444,\"#bd3786\"],[0.5555555555555556,\"#d8576b\"],[0.6666666666666666,\"#ed7953\"],[0.7777777777777778,\"#fb9f3a\"],[0.8888888888888888,\"#fdca26\"],[1.0,\"#f0f921\"]]}],\"mesh3d\":[{\"type\":\"mesh3d\",\"colorbar\":{\"outlinewidth\":0,\"ticks\":\"\"}}],\"scatter\":[{\"fillpattern\":{\"fillmode\":\"overlay\",\"size\":10,\"solidity\":0.2},\"type\":\"scatter\"}],\"parcoords\":[{\"type\":\"parcoords\",\"line\":{\"colorbar\":{\"outlinewidth\":0,\"ticks\":\"\"}}}],\"scatterpolargl\":[{\"type\":\"scatterpolargl\",\"marker\":{\"colorbar\":{\"outlinewidth\":0,\"ticks\":\"\"}}}],\"bar\":[{\"error_x\":{\"color\":\"#2a3f5f\"},\"error_y\":{\"color\":\"#2a3f5f\"},\"marker\":{\"line\":{\"color\":\"#E5ECF6\",\"width\":0.5},\"pattern\":{\"fillmode\":\"overlay\",\"size\":10,\"solidity\":0.2}},\"type\":\"bar\"}],\"scattergeo\":[{\"type\":\"scattergeo\",\"marker\":{\"colorbar\":{\"outlinewidth\":0,\"ticks\":\"\"}}}],\"scatterpolar\":[{\"type\":\"scatterpolar\",\"marker\":{\"colorbar\":{\"outlinewidth\":0,\"ticks\":\"\"}}}],\"histogram\":[{\"marker\":{\"pattern\":{\"fillmode\":\"overlay\",\"size\":10,\"solidity\":0.2}},\"type\":\"histogram\"}],\"scattergl\":[{\"type\":\"scattergl\",\"marker\":{\"colorbar\":{\"outlinewidth\":0,\"ticks\":\"\"}}}],\"scatter3d\":[{\"type\":\"scatter3d\",\"line\":{\"colorbar\":{\"outlinewidth\":0,\"ticks\":\"\"}},\"marker\":{\"colorbar\":{\"outlinewidth\":0,\"ticks\":\"\"}}}],\"scattermapbox\":[{\"type\":\"scattermapbox\",\"marker\":{\"colorbar\":{\"outlinewidth\":0,\"ticks\":\"\"}}}],\"scatterternary\":[{\"type\":\"scatterternary\",\"marker\":{\"colorbar\":{\"outlinewidth\":0,\"ticks\":\"\"}}}],\"scattercarpet\":[{\"type\":\"scattercarpet\",\"marker\":{\"colorbar\":{\"outlinewidth\":0,\"ticks\":\"\"}}}],\"carpet\":[{\"aaxis\":{\"endlinecolor\":\"#2a3f5f\",\"gridcolor\":\"white\",\"linecolor\":\"white\",\"minorgridcolor\":\"white\",\"startlinecolor\":\"#2a3f5f\"},\"baxis\":{\"endlinecolor\":\"#2a3f5f\",\"gridcolor\":\"white\",\"linecolor\":\"white\",\"minorgridcolor\":\"white\",\"startlinecolor\":\"#2a3f5f\"},\"type\":\"carpet\"}],\"table\":[{\"cells\":{\"fill\":{\"color\":\"#EBF0F8\"},\"line\":{\"color\":\"white\"}},\"header\":{\"fill\":{\"color\":\"#C8D4E3\"},\"line\":{\"color\":\"white\"}},\"type\":\"table\"}],\"barpolar\":[{\"marker\":{\"line\":{\"color\":\"#E5ECF6\",\"width\":0.5},\"pattern\":{\"fillmode\":\"overlay\",\"size\":10,\"solidity\":0.2}},\"type\":\"barpolar\"}],\"pie\":[{\"automargin\":true,\"type\":\"pie\"}]},\"layout\":{\"autotypenumbers\":\"strict\",\"colorway\":[\"#636efa\",\"#EF553B\",\"#00cc96\",\"#ab63fa\",\"#FFA15A\",\"#19d3f3\",\"#FF6692\",\"#B6E880\",\"#FF97FF\",\"#FECB52\"],\"font\":{\"color\":\"#2a3f5f\"},\"hovermode\":\"closest\",\"hoverlabel\":{\"align\":\"left\"},\"paper_bgcolor\":\"white\",\"plot_bgcolor\":\"#E5ECF6\",\"polar\":{\"bgcolor\":\"#E5ECF6\",\"angularaxis\":{\"gridcolor\":\"white\",\"linecolor\":\"white\",\"ticks\":\"\"},\"radialaxis\":{\"gridcolor\":\"white\",\"linecolor\":\"white\",\"ticks\":\"\"}},\"ternary\":{\"bgcolor\":\"#E5ECF6\",\"aaxis\":{\"gridcolor\":\"white\",\"linecolor\":\"white\",\"ticks\":\"\"},\"baxis\":{\"gridcolor\":\"white\",\"linecolor\":\"white\",\"ticks\":\"\"},\"caxis\":{\"gridcolor\":\"white\",\"linecolor\":\"white\",\"ticks\":\"\"}},\"coloraxis\":{\"colorbar\":{\"outlinewidth\":0,\"ticks\":\"\"}},\"colorscale\":{\"sequential\":[[0.0,\"#0d0887\"],[0.1111111111111111,\"#46039f\"],[0.2222222222222222,\"#7201a8\"],[0.3333333333333333,\"#9c179e\"],[0.4444444444444444,\"#bd3786\"],[0.5555555555555556,\"#d8576b\"],[0.6666666666666666,\"#ed7953\"],[0.7777777777777778,\"#fb9f3a\"],[0.8888888888888888,\"#fdca26\"],[1.0,\"#f0f921\"]],\"sequentialminus\":[[0.0,\"#0d0887\"],[0.1111111111111111,\"#46039f\"],[0.2222222222222222,\"#7201a8\"],[0.3333333333333333,\"#9c179e\"],[0.4444444444444444,\"#bd3786\"],[0.5555555555555556,\"#d8576b\"],[0.6666666666666666,\"#ed7953\"],[0.7777777777777778,\"#fb9f3a\"],[0.8888888888888888,\"#fdca26\"],[1.0,\"#f0f921\"]],\"diverging\":[[0,\"#8e0152\"],[0.1,\"#c51b7d\"],[0.2,\"#de77ae\"],[0.3,\"#f1b6da\"],[0.4,\"#fde0ef\"],[0.5,\"#f7f7f7\"],[0.6,\"#e6f5d0\"],[0.7,\"#b8e186\"],[0.8,\"#7fbc41\"],[0.9,\"#4d9221\"],[1,\"#276419\"]]},\"xaxis\":{\"gridcolor\":\"white\",\"linecolor\":\"white\",\"ticks\":\"\",\"title\":{\"standoff\":15},\"zerolinecolor\":\"white\",\"automargin\":true,\"zerolinewidth\":2},\"yaxis\":{\"gridcolor\":\"white\",\"linecolor\":\"white\",\"ticks\":\"\",\"title\":{\"standoff\":15},\"zerolinecolor\":\"white\",\"automargin\":true,\"zerolinewidth\":2},\"scene\":{\"xaxis\":{\"backgroundcolor\":\"#E5ECF6\",\"gridcolor\":\"white\",\"linecolor\":\"white\",\"showbackground\":true,\"ticks\":\"\",\"zerolinecolor\":\"white\",\"gridwidth\":2},\"yaxis\":{\"backgroundcolor\":\"#E5ECF6\",\"gridcolor\":\"white\",\"linecolor\":\"white\",\"showbackground\":true,\"ticks\":\"\",\"zerolinecolor\":\"white\",\"gridwidth\":2},\"zaxis\":{\"backgroundcolor\":\"#E5ECF6\",\"gridcolor\":\"white\",\"linecolor\":\"white\",\"showbackground\":true,\"ticks\":\"\",\"zerolinecolor\":\"white\",\"gridwidth\":2}},\"shapedefaults\":{\"line\":{\"color\":\"#2a3f5f\"}},\"annotationdefaults\":{\"arrowcolor\":\"#2a3f5f\",\"arrowhead\":0,\"arrowwidth\":1},\"geo\":{\"bgcolor\":\"white\",\"landcolor\":\"#E5ECF6\",\"subunitcolor\":\"white\",\"showland\":true,\"showlakes\":true,\"lakecolor\":\"white\"},\"title\":{\"x\":0.05},\"mapbox\":{\"style\":\"light\"}}},\"xaxis\":{\"anchor\":\"y\",\"domain\":[0.0,1.0],\"title\":{\"text\":\"Height (cm)\"}},\"yaxis\":{\"anchor\":\"x\",\"domain\":[0.0,1.0],\"title\":{\"text\":\"Tidal Volume (mL)\"}},\"legend\":{\"title\":{\"text\":\"Smoking\"},\"tracegroupgap\":0},\"title\":{\"text\":\"Height vs. volume\"}},                        {\"responsive\": true}                    ).then(function(){\n",
              "                            \n",
              "var gd = document.getElementById('40a62466-343f-4dcf-acaf-3faa7952c4af');\n",
              "var x = new MutationObserver(function (mutations, observer) {{\n",
              "        var display = window.getComputedStyle(gd).display;\n",
              "        if (!display || display === 'none') {{\n",
              "            console.log([gd, 'removed!']);\n",
              "            Plotly.purge(gd);\n",
              "            observer.disconnect();\n",
              "        }}\n",
              "}});\n",
              "\n",
              "// Listen for the removal of the full notebook cells\n",
              "var notebookContainer = gd.closest('#notebook-container');\n",
              "if (notebookContainer) {{\n",
              "    x.observe(notebookContainer, {childList: true});\n",
              "}}\n",
              "\n",
              "// Listen for the clearing of the current output cell\n",
              "var outputEl = gd.closest('.output');\n",
              "if (outputEl) {{\n",
              "    x.observe(outputEl, {childList: true});\n",
              "}}\n",
              "\n",
              "                        })                };                            </script>        </div>\n",
              "</body>\n",
              "</html>"
            ]
          },
          "metadata": {}
        }
      ]
    },
    {
      "cell_type": "markdown",
      "source": [
        "By the above analysis best model most likly will be linear regression"
      ],
      "metadata": {
        "id": "ojzRsg8xvQfH"
      }
    },
    {
      "cell_type": "markdown",
      "source": [
        "# **CONVERTING CATEGORICAL DATA TO INT TYPE**"
      ],
      "metadata": {
        "id": "f0TGbNyrvj4P"
      }
    },
    {
      "cell_type": "code",
      "source": [
        "smoker_codes = {'No': 0, 'Yes': 1}\n",
        "data['Smoker_code'] = data[\"Smoking\"].map(smoker_codes)"
      ],
      "metadata": {
        "id": "cjiuiu7deozr"
      },
      "execution_count": 79,
      "outputs": []
    },
    {
      "cell_type": "code",
      "source": [
        "disease_codes = {'No': 0, 'Yes': 1}\n",
        "data['disease'] = data[\"Having Lung Disease\"].map(disease_codes)"
      ],
      "metadata": {
        "id": "3sb_TBhkfCdl"
      },
      "execution_count": 80,
      "outputs": []
    },
    {
      "cell_type": "code",
      "source": [
        "Gender_codes = {'Female': 0, 'Male': 1}\n",
        "data['Gender_codes'] = data[\"Gender\"].map(Gender_codes)"
      ],
      "metadata": {
        "id": "OwE_zpSse8ND"
      },
      "execution_count": 81,
      "outputs": []
    },
    {
      "cell_type": "code",
      "source": [
        "data.describe()"
      ],
      "metadata": {
        "colab": {
          "base_uri": "https://localhost:8080/",
          "height": 354
        },
        "id": "pJl_pLF9fP5N",
        "outputId": "f22e65e0-867f-44fa-f79b-98244d1ff110"
      },
      "execution_count": 82,
      "outputs": [
        {
          "output_type": "execute_result",
          "data": {
            "text/plain": [
              "              Age  Height (cm)  Weight (kg)  Tidal Volume (mL)  Smoker_code  \\\n",
              "count  517.000000   517.000000   517.000000         517.000000   517.000000   \n",
              "mean    48.771760   164.595745    67.936170         419.941973     0.365571   \n",
              "std     11.573415     8.739169     8.193031          74.270330     0.482056   \n",
              "min     23.000000   155.000000    58.000000         350.000000     0.000000   \n",
              "25%     36.000000   158.000000    61.000000         370.000000     0.000000   \n",
              "50%     55.000000   160.000000    64.000000         370.000000     0.000000   \n",
              "75%     58.000000   174.000000    75.000000         510.000000     1.000000   \n",
              "max     62.000000   182.000000    85.000000         550.000000     1.000000   \n",
              "\n",
              "          disease  Gender_codes  \n",
              "count  517.000000    517.000000  \n",
              "mean     0.261122      0.307544  \n",
              "std      0.439672      0.461923  \n",
              "min      0.000000      0.000000  \n",
              "25%      0.000000      0.000000  \n",
              "50%      0.000000      0.000000  \n",
              "75%      1.000000      1.000000  \n",
              "max      1.000000      1.000000  "
            ],
            "text/html": [
              "\n",
              "  <div id=\"df-4053f30e-007a-49f5-ba3b-a81c6b63943e\" class=\"colab-df-container\">\n",
              "    <div>\n",
              "<style scoped>\n",
              "    .dataframe tbody tr th:only-of-type {\n",
              "        vertical-align: middle;\n",
              "    }\n",
              "\n",
              "    .dataframe tbody tr th {\n",
              "        vertical-align: top;\n",
              "    }\n",
              "\n",
              "    .dataframe thead th {\n",
              "        text-align: right;\n",
              "    }\n",
              "</style>\n",
              "<table border=\"1\" class=\"dataframe\">\n",
              "  <thead>\n",
              "    <tr style=\"text-align: right;\">\n",
              "      <th></th>\n",
              "      <th>Age</th>\n",
              "      <th>Height (cm)</th>\n",
              "      <th>Weight (kg)</th>\n",
              "      <th>Tidal Volume (mL)</th>\n",
              "      <th>Smoker_code</th>\n",
              "      <th>disease</th>\n",
              "      <th>Gender_codes</th>\n",
              "    </tr>\n",
              "  </thead>\n",
              "  <tbody>\n",
              "    <tr>\n",
              "      <th>count</th>\n",
              "      <td>517.000000</td>\n",
              "      <td>517.000000</td>\n",
              "      <td>517.000000</td>\n",
              "      <td>517.000000</td>\n",
              "      <td>517.000000</td>\n",
              "      <td>517.000000</td>\n",
              "      <td>517.000000</td>\n",
              "    </tr>\n",
              "    <tr>\n",
              "      <th>mean</th>\n",
              "      <td>48.771760</td>\n",
              "      <td>164.595745</td>\n",
              "      <td>67.936170</td>\n",
              "      <td>419.941973</td>\n",
              "      <td>0.365571</td>\n",
              "      <td>0.261122</td>\n",
              "      <td>0.307544</td>\n",
              "    </tr>\n",
              "    <tr>\n",
              "      <th>std</th>\n",
              "      <td>11.573415</td>\n",
              "      <td>8.739169</td>\n",
              "      <td>8.193031</td>\n",
              "      <td>74.270330</td>\n",
              "      <td>0.482056</td>\n",
              "      <td>0.439672</td>\n",
              "      <td>0.461923</td>\n",
              "    </tr>\n",
              "    <tr>\n",
              "      <th>min</th>\n",
              "      <td>23.000000</td>\n",
              "      <td>155.000000</td>\n",
              "      <td>58.000000</td>\n",
              "      <td>350.000000</td>\n",
              "      <td>0.000000</td>\n",
              "      <td>0.000000</td>\n",
              "      <td>0.000000</td>\n",
              "    </tr>\n",
              "    <tr>\n",
              "      <th>25%</th>\n",
              "      <td>36.000000</td>\n",
              "      <td>158.000000</td>\n",
              "      <td>61.000000</td>\n",
              "      <td>370.000000</td>\n",
              "      <td>0.000000</td>\n",
              "      <td>0.000000</td>\n",
              "      <td>0.000000</td>\n",
              "    </tr>\n",
              "    <tr>\n",
              "      <th>50%</th>\n",
              "      <td>55.000000</td>\n",
              "      <td>160.000000</td>\n",
              "      <td>64.000000</td>\n",
              "      <td>370.000000</td>\n",
              "      <td>0.000000</td>\n",
              "      <td>0.000000</td>\n",
              "      <td>0.000000</td>\n",
              "    </tr>\n",
              "    <tr>\n",
              "      <th>75%</th>\n",
              "      <td>58.000000</td>\n",
              "      <td>174.000000</td>\n",
              "      <td>75.000000</td>\n",
              "      <td>510.000000</td>\n",
              "      <td>1.000000</td>\n",
              "      <td>1.000000</td>\n",
              "      <td>1.000000</td>\n",
              "    </tr>\n",
              "    <tr>\n",
              "      <th>max</th>\n",
              "      <td>62.000000</td>\n",
              "      <td>182.000000</td>\n",
              "      <td>85.000000</td>\n",
              "      <td>550.000000</td>\n",
              "      <td>1.000000</td>\n",
              "      <td>1.000000</td>\n",
              "      <td>1.000000</td>\n",
              "    </tr>\n",
              "  </tbody>\n",
              "</table>\n",
              "</div>\n",
              "    <div class=\"colab-df-buttons\">\n",
              "\n",
              "  <div class=\"colab-df-container\">\n",
              "    <button class=\"colab-df-convert\" onclick=\"convertToInteractive('df-4053f30e-007a-49f5-ba3b-a81c6b63943e')\"\n",
              "            title=\"Convert this dataframe to an interactive table.\"\n",
              "            style=\"display:none;\">\n",
              "\n",
              "  <svg xmlns=\"http://www.w3.org/2000/svg\" height=\"24px\" viewBox=\"0 -960 960 960\">\n",
              "    <path d=\"M120-120v-720h720v720H120Zm60-500h600v-160H180v160Zm220 220h160v-160H400v160Zm0 220h160v-160H400v160ZM180-400h160v-160H180v160Zm440 0h160v-160H620v160ZM180-180h160v-160H180v160Zm440 0h160v-160H620v160Z\"/>\n",
              "  </svg>\n",
              "    </button>\n",
              "\n",
              "  <style>\n",
              "    .colab-df-container {\n",
              "      display:flex;\n",
              "      gap: 12px;\n",
              "    }\n",
              "\n",
              "    .colab-df-convert {\n",
              "      background-color: #E8F0FE;\n",
              "      border: none;\n",
              "      border-radius: 50%;\n",
              "      cursor: pointer;\n",
              "      display: none;\n",
              "      fill: #1967D2;\n",
              "      height: 32px;\n",
              "      padding: 0 0 0 0;\n",
              "      width: 32px;\n",
              "    }\n",
              "\n",
              "    .colab-df-convert:hover {\n",
              "      background-color: #E2EBFA;\n",
              "      box-shadow: 0px 1px 2px rgba(60, 64, 67, 0.3), 0px 1px 3px 1px rgba(60, 64, 67, 0.15);\n",
              "      fill: #174EA6;\n",
              "    }\n",
              "\n",
              "    .colab-df-buttons div {\n",
              "      margin-bottom: 4px;\n",
              "    }\n",
              "\n",
              "    [theme=dark] .colab-df-convert {\n",
              "      background-color: #3B4455;\n",
              "      fill: #D2E3FC;\n",
              "    }\n",
              "\n",
              "    [theme=dark] .colab-df-convert:hover {\n",
              "      background-color: #434B5C;\n",
              "      box-shadow: 0px 1px 3px 1px rgba(0, 0, 0, 0.15);\n",
              "      filter: drop-shadow(0px 1px 2px rgba(0, 0, 0, 0.3));\n",
              "      fill: #FFFFFF;\n",
              "    }\n",
              "  </style>\n",
              "\n",
              "    <script>\n",
              "      const buttonEl =\n",
              "        document.querySelector('#df-4053f30e-007a-49f5-ba3b-a81c6b63943e button.colab-df-convert');\n",
              "      buttonEl.style.display =\n",
              "        google.colab.kernel.accessAllowed ? 'block' : 'none';\n",
              "\n",
              "      async function convertToInteractive(key) {\n",
              "        const element = document.querySelector('#df-4053f30e-007a-49f5-ba3b-a81c6b63943e');\n",
              "        const dataTable =\n",
              "          await google.colab.kernel.invokeFunction('convertToInteractive',\n",
              "                                                    [key], {});\n",
              "        if (!dataTable) return;\n",
              "\n",
              "        const docLinkHtml = 'Like what you see? Visit the ' +\n",
              "          '<a target=\"_blank\" href=https://colab.research.google.com/notebooks/data_table.ipynb>data table notebook</a>'\n",
              "          + ' to learn more about interactive tables.';\n",
              "        element.innerHTML = '';\n",
              "        dataTable['output_type'] = 'display_data';\n",
              "        await google.colab.output.renderOutput(dataTable, element);\n",
              "        const docLink = document.createElement('div');\n",
              "        docLink.innerHTML = docLinkHtml;\n",
              "        element.appendChild(docLink);\n",
              "      }\n",
              "    </script>\n",
              "  </div>\n",
              "\n",
              "\n",
              "<div id=\"df-63cb20da-323f-4e46-a648-bce8d037c165\">\n",
              "  <button class=\"colab-df-quickchart\" onclick=\"quickchart('df-63cb20da-323f-4e46-a648-bce8d037c165')\"\n",
              "            title=\"Suggest charts\"\n",
              "            style=\"display:none;\">\n",
              "\n",
              "<svg xmlns=\"http://www.w3.org/2000/svg\" height=\"24px\"viewBox=\"0 0 24 24\"\n",
              "     width=\"24px\">\n",
              "    <g>\n",
              "        <path d=\"M19 3H5c-1.1 0-2 .9-2 2v14c0 1.1.9 2 2 2h14c1.1 0 2-.9 2-2V5c0-1.1-.9-2-2-2zM9 17H7v-7h2v7zm4 0h-2V7h2v10zm4 0h-2v-4h2v4z\"/>\n",
              "    </g>\n",
              "</svg>\n",
              "  </button>\n",
              "\n",
              "<style>\n",
              "  .colab-df-quickchart {\n",
              "      --bg-color: #E8F0FE;\n",
              "      --fill-color: #1967D2;\n",
              "      --hover-bg-color: #E2EBFA;\n",
              "      --hover-fill-color: #174EA6;\n",
              "      --disabled-fill-color: #AAA;\n",
              "      --disabled-bg-color: #DDD;\n",
              "  }\n",
              "\n",
              "  [theme=dark] .colab-df-quickchart {\n",
              "      --bg-color: #3B4455;\n",
              "      --fill-color: #D2E3FC;\n",
              "      --hover-bg-color: #434B5C;\n",
              "      --hover-fill-color: #FFFFFF;\n",
              "      --disabled-bg-color: #3B4455;\n",
              "      --disabled-fill-color: #666;\n",
              "  }\n",
              "\n",
              "  .colab-df-quickchart {\n",
              "    background-color: var(--bg-color);\n",
              "    border: none;\n",
              "    border-radius: 50%;\n",
              "    cursor: pointer;\n",
              "    display: none;\n",
              "    fill: var(--fill-color);\n",
              "    height: 32px;\n",
              "    padding: 0;\n",
              "    width: 32px;\n",
              "  }\n",
              "\n",
              "  .colab-df-quickchart:hover {\n",
              "    background-color: var(--hover-bg-color);\n",
              "    box-shadow: 0 1px 2px rgba(60, 64, 67, 0.3), 0 1px 3px 1px rgba(60, 64, 67, 0.15);\n",
              "    fill: var(--button-hover-fill-color);\n",
              "  }\n",
              "\n",
              "  .colab-df-quickchart-complete:disabled,\n",
              "  .colab-df-quickchart-complete:disabled:hover {\n",
              "    background-color: var(--disabled-bg-color);\n",
              "    fill: var(--disabled-fill-color);\n",
              "    box-shadow: none;\n",
              "  }\n",
              "\n",
              "  .colab-df-spinner {\n",
              "    border: 2px solid var(--fill-color);\n",
              "    border-color: transparent;\n",
              "    border-bottom-color: var(--fill-color);\n",
              "    animation:\n",
              "      spin 1s steps(1) infinite;\n",
              "  }\n",
              "\n",
              "  @keyframes spin {\n",
              "    0% {\n",
              "      border-color: transparent;\n",
              "      border-bottom-color: var(--fill-color);\n",
              "      border-left-color: var(--fill-color);\n",
              "    }\n",
              "    20% {\n",
              "      border-color: transparent;\n",
              "      border-left-color: var(--fill-color);\n",
              "      border-top-color: var(--fill-color);\n",
              "    }\n",
              "    30% {\n",
              "      border-color: transparent;\n",
              "      border-left-color: var(--fill-color);\n",
              "      border-top-color: var(--fill-color);\n",
              "      border-right-color: var(--fill-color);\n",
              "    }\n",
              "    40% {\n",
              "      border-color: transparent;\n",
              "      border-right-color: var(--fill-color);\n",
              "      border-top-color: var(--fill-color);\n",
              "    }\n",
              "    60% {\n",
              "      border-color: transparent;\n",
              "      border-right-color: var(--fill-color);\n",
              "    }\n",
              "    80% {\n",
              "      border-color: transparent;\n",
              "      border-right-color: var(--fill-color);\n",
              "      border-bottom-color: var(--fill-color);\n",
              "    }\n",
              "    90% {\n",
              "      border-color: transparent;\n",
              "      border-bottom-color: var(--fill-color);\n",
              "    }\n",
              "  }\n",
              "</style>\n",
              "\n",
              "  <script>\n",
              "    async function quickchart(key) {\n",
              "      const quickchartButtonEl =\n",
              "        document.querySelector('#' + key + ' button');\n",
              "      quickchartButtonEl.disabled = true;  // To prevent multiple clicks.\n",
              "      quickchartButtonEl.classList.add('colab-df-spinner');\n",
              "      try {\n",
              "        const charts = await google.colab.kernel.invokeFunction(\n",
              "            'suggestCharts', [key], {});\n",
              "      } catch (error) {\n",
              "        console.error('Error during call to suggestCharts:', error);\n",
              "      }\n",
              "      quickchartButtonEl.classList.remove('colab-df-spinner');\n",
              "      quickchartButtonEl.classList.add('colab-df-quickchart-complete');\n",
              "    }\n",
              "    (() => {\n",
              "      let quickchartButtonEl =\n",
              "        document.querySelector('#df-63cb20da-323f-4e46-a648-bce8d037c165 button');\n",
              "      quickchartButtonEl.style.display =\n",
              "        google.colab.kernel.accessAllowed ? 'block' : 'none';\n",
              "    })();\n",
              "  </script>\n",
              "</div>\n",
              "\n",
              "    </div>\n",
              "  </div>\n"
            ],
            "application/vnd.google.colaboratory.intrinsic+json": {
              "type": "dataframe",
              "summary": "{\n  \"name\": \"data\",\n  \"rows\": 8,\n  \"fields\": [\n    {\n      \"column\": \"Age\",\n      \"properties\": {\n        \"dtype\": \"number\",\n        \"std\": 168.85095050589013,\n        \"min\": 11.573414779043786,\n        \"max\": 517.0,\n        \"num_unique_values\": 8,\n        \"samples\": [\n          48.77176015473888,\n          55.0,\n          517.0\n        ],\n        \"semantic_type\": \"\",\n        \"description\": \"\"\n      }\n    },\n    {\n      \"column\": \"Height (cm)\",\n      \"properties\": {\n        \"dtype\": \"number\",\n        \"std\": 143.37703023272766,\n        \"min\": 8.73916944751389,\n        \"max\": 517.0,\n        \"num_unique_values\": 8,\n        \"samples\": [\n          164.59574468085106,\n          160.0,\n          517.0\n        ],\n        \"semantic_type\": \"\",\n        \"description\": \"\"\n      }\n    },\n    {\n      \"column\": \"Weight (kg)\",\n      \"properties\": {\n        \"dtype\": \"number\",\n        \"std\": 163.2089868551305,\n        \"min\": 8.193031357421052,\n        \"max\": 517.0,\n        \"num_unique_values\": 8,\n        \"samples\": [\n          67.93617021276596,\n          64.0,\n          517.0\n        ],\n        \"semantic_type\": \"\",\n        \"description\": \"\"\n      }\n    },\n    {\n      \"column\": \"Tidal Volume (mL)\",\n      \"properties\": {\n        \"dtype\": \"number\",\n        \"std\": 150.6644519695259,\n        \"min\": 74.2703298609238,\n        \"max\": 550.0,\n        \"num_unique_values\": 7,\n        \"samples\": [\n          517.0,\n          419.94197292069634,\n          510.0\n        ],\n        \"semantic_type\": \"\",\n        \"description\": \"\"\n      }\n    },\n    {\n      \"column\": \"Smoker_code\",\n      \"properties\": {\n        \"dtype\": \"number\",\n        \"std\": 182.64374833061288,\n        \"min\": 0.0,\n        \"max\": 517.0,\n        \"num_unique_values\": 5,\n        \"samples\": [\n          0.3655705996131528,\n          1.0,\n          0.48205623178920765\n        ],\n        \"semantic_type\": \"\",\n        \"description\": \"\"\n      }\n    },\n    {\n      \"column\": \"disease\",\n      \"properties\": {\n        \"dtype\": \"number\",\n        \"std\": 182.6511691534773,\n        \"min\": 0.0,\n        \"max\": 517.0,\n        \"num_unique_values\": 5,\n        \"samples\": [\n          0.2611218568665377,\n          1.0,\n          0.4396716298544528\n        ],\n        \"semantic_type\": \"\",\n        \"description\": \"\"\n      }\n    },\n    {\n      \"column\": \"Gender_codes\",\n      \"properties\": {\n        \"dtype\": \"number\",\n        \"std\": 182.64769781302923,\n        \"min\": 0.0,\n        \"max\": 517.0,\n        \"num_unique_values\": 5,\n        \"samples\": [\n          0.30754352030947774,\n          1.0,\n          0.4619233892963813\n        ],\n        \"semantic_type\": \"\",\n        \"description\": \"\"\n      }\n    }\n  ]\n}"
            }
          },
          "metadata": {},
          "execution_count": 82
        }
      ]
    },
    {
      "cell_type": "code",
      "source": [
        "data.info()"
      ],
      "metadata": {
        "colab": {
          "base_uri": "https://localhost:8080/"
        },
        "id": "mS7kORy7xGH_",
        "outputId": "6c597300-4413-4b3a-bc5d-4af20dc5acef"
      },
      "execution_count": 83,
      "outputs": [
        {
          "output_type": "stream",
          "name": "stdout",
          "text": [
            "<class 'pandas.core.frame.DataFrame'>\n",
            "RangeIndex: 517 entries, 0 to 516\n",
            "Data columns (total 10 columns):\n",
            " #   Column               Non-Null Count  Dtype \n",
            "---  ------               --------------  ----- \n",
            " 0   Age                  517 non-null    int64 \n",
            " 1   Height (cm)          517 non-null    int64 \n",
            " 2   Weight (kg)          517 non-null    int64 \n",
            " 3   Gender               517 non-null    object\n",
            " 4   Smoking              517 non-null    object\n",
            " 5   Having Lung Disease  517 non-null    object\n",
            " 6   Tidal Volume (mL)    517 non-null    int64 \n",
            " 7   Smoker_code          517 non-null    int64 \n",
            " 8   disease              517 non-null    int64 \n",
            " 9   Gender_codes         517 non-null    int64 \n",
            "dtypes: int64(7), object(3)\n",
            "memory usage: 40.5+ KB\n"
          ]
        }
      ]
    },
    {
      "cell_type": "markdown",
      "source": [
        "# **BUILDING LINEAR REGRESSION FROM SCRATCH**"
      ],
      "metadata": {
        "id": "IgK8c-Z5xOIf"
      }
    },
    {
      "cell_type": "markdown",
      "source": [
        "**MAKING TRAIN TEST AND VALIDATION DATA**"
      ],
      "metadata": {
        "id": "-WTUMs1Y3bOr"
      }
    },
    {
      "cell_type": "code",
      "source": [
        "input,target=data[['Age','Height (cm)','Weight (kg)','Smoker_code','Gender_codes','disease']].values,data['Tidal Volume (mL)'].values"
      ],
      "metadata": {
        "id": "LRGfLChBxNXi"
      },
      "execution_count": 84,
      "outputs": []
    },
    {
      "cell_type": "code",
      "source": [
        "from sklearn.model_selection import train_test_split\n",
        "xtrain,xtest,ytrain,ytest=train_test_split(input,target,test_size=0.1,random_state=42)\n",
        "print(xtrain.shape)\n",
        "print(xtest.shape)\n",
        "print(ytrain.shape)\n",
        "print(ytest.shape)"
      ],
      "metadata": {
        "colab": {
          "base_uri": "https://localhost:8080/"
        },
        "id": "1YD_sjWa2WKp",
        "outputId": "88e1d5ec-f739-4236-d6df-43f83927d4ef"
      },
      "execution_count": 85,
      "outputs": [
        {
          "output_type": "stream",
          "name": "stdout",
          "text": [
            "(465, 6)\n",
            "(52, 6)\n",
            "(465,)\n",
            "(52,)\n"
          ]
        }
      ]
    },
    {
      "cell_type": "code",
      "source": [
        "xtrain,xval,ytrain,yval=train_test_split(xtrain,ytrain,test_size=0.1,random_state=42)\n",
        "print(xtrain.shape)\n",
        "print(xval.shape)\n",
        "print(ytrain.shape)\n",
        "print(yval.shape)"
      ],
      "metadata": {
        "colab": {
          "base_uri": "https://localhost:8080/"
        },
        "id": "DYLZQaVU2-lW",
        "outputId": "9b2f64b4-2724-4165-9bd4-69b499462f96"
      },
      "execution_count": 86,
      "outputs": [
        {
          "output_type": "stream",
          "name": "stdout",
          "text": [
            "(418, 6)\n",
            "(47, 6)\n",
            "(418,)\n",
            "(47,)\n"
          ]
        }
      ]
    },
    {
      "cell_type": "markdown",
      "source": [
        "**APPLING FEATURE SCALLING TO REQUIRED COLUMNS**"
      ],
      "metadata": {
        "id": "as16SL6A51nW"
      }
    },
    {
      "cell_type": "code",
      "source": [
        "test=xtrain[:,0:3]\n",
        "test"
      ],
      "metadata": {
        "colab": {
          "base_uri": "https://localhost:8080/"
        },
        "id": "upZLR5yi8Kjn",
        "outputId": "5beebb34-5644-46b8-e4ee-e51d5c832ecb"
      },
      "execution_count": 87,
      "outputs": [
        {
          "output_type": "execute_result",
          "data": {
            "text/plain": [
              "array([[ 57, 162,  67],\n",
              "       [ 54, 158,  61],\n",
              "       [ 55, 162,  64],\n",
              "       ...,\n",
              "       [ 50, 157,  61],\n",
              "       [ 35, 179,  80],\n",
              "       [ 59, 161,  62]])"
            ]
          },
          "metadata": {},
          "execution_count": 87
        }
      ]
    },
    {
      "cell_type": "code",
      "source": [
        "xtrain[:,3:]"
      ],
      "metadata": {
        "colab": {
          "base_uri": "https://localhost:8080/"
        },
        "id": "rTTwGVgU-KLh",
        "outputId": "03118b7f-aa3f-4260-e753-56bcc82e0286"
      },
      "execution_count": 88,
      "outputs": [
        {
          "output_type": "execute_result",
          "data": {
            "text/plain": [
              "array([[0, 0, 1],\n",
              "       [0, 0, 1],\n",
              "       [0, 0, 1],\n",
              "       ...,\n",
              "       [1, 0, 0],\n",
              "       [0, 1, 0],\n",
              "       [1, 0, 0]])"
            ]
          },
          "metadata": {},
          "execution_count": 88
        }
      ]
    },
    {
      "cell_type": "code",
      "source": [
        "mean=np.mean(test,axis=0)\n",
        "std=np.std(test,axis=0)\n",
        "print(mean)\n",
        "print(std)"
      ],
      "metadata": {
        "colab": {
          "base_uri": "https://localhost:8080/"
        },
        "id": "Ye2sT7Zh3V96",
        "outputId": "9e63acf1-8918-48ce-bd6b-92bffbb554f3"
      },
      "execution_count": 89,
      "outputs": [
        {
          "output_type": "stream",
          "name": "stdout",
          "text": [
            "[ 48.92344498 164.35406699  67.73923445]\n",
            "[11.4021267   8.69768683  8.17227437]\n"
          ]
        }
      ]
    },
    {
      "cell_type": "code",
      "source": [
        "test=(test-mean)/std\n",
        "test"
      ],
      "metadata": {
        "colab": {
          "base_uri": "https://localhost:8080/"
        },
        "id": "-YGRqgaj9fQ7",
        "outputId": "902f0519-1d12-48ea-b24a-b3c22d1e2ea2"
      },
      "execution_count": 90,
      "outputs": [
        {
          "output_type": "execute_result",
          "data": {
            "text/plain": [
              "array([[ 0.7083376 , -0.27065437, -0.09045639],\n",
              "       [ 0.44522879, -0.73054677, -0.82464613],\n",
              "       [ 0.53293172, -0.27065437, -0.45755126],\n",
              "       ...,\n",
              "       [ 0.09441704, -0.84551986, -0.82464613],\n",
              "       [-1.22112702,  1.68388829,  1.50028805],\n",
              "       [ 0.88374347, -0.38562747, -0.70228118]])"
            ]
          },
          "metadata": {},
          "execution_count": 90
        }
      ]
    },
    {
      "cell_type": "code",
      "source": [
        "xtrain=np.concatenate((test,xtrain[:,3:]),axis=1)\n",
        "\n",
        "xtrain"
      ],
      "metadata": {
        "colab": {
          "base_uri": "https://localhost:8080/"
        },
        "id": "jj2NfEkR9lAH",
        "outputId": "97539a48-af55-4270-a34c-2a50a6ba9771"
      },
      "execution_count": 91,
      "outputs": [
        {
          "output_type": "execute_result",
          "data": {
            "text/plain": [
              "array([[ 0.7083376 , -0.27065437, -0.09045639,  0.        ,  0.        ,\n",
              "         1.        ],\n",
              "       [ 0.44522879, -0.73054677, -0.82464613,  0.        ,  0.        ,\n",
              "         1.        ],\n",
              "       [ 0.53293172, -0.27065437, -0.45755126,  0.        ,  0.        ,\n",
              "         1.        ],\n",
              "       ...,\n",
              "       [ 0.09441704, -0.84551986, -0.82464613,  1.        ,  0.        ,\n",
              "         0.        ],\n",
              "       [-1.22112702,  1.68388829,  1.50028805,  0.        ,  1.        ,\n",
              "         0.        ],\n",
              "       [ 0.88374347, -0.38562747, -0.70228118,  1.        ,  0.        ,\n",
              "         0.        ]])"
            ]
          },
          "metadata": {},
          "execution_count": 91
        }
      ]
    },
    {
      "cell_type": "code",
      "source": [
        "print(xtrain)"
      ],
      "metadata": {
        "colab": {
          "base_uri": "https://localhost:8080/"
        },
        "id": "id8psV1c-dG_",
        "outputId": "473e5762-4f5c-4a03-9c13-9f8bab09fd31"
      },
      "execution_count": 92,
      "outputs": [
        {
          "output_type": "stream",
          "name": "stdout",
          "text": [
            "[[ 0.7083376  -0.27065437 -0.09045639  0.          0.          1.        ]\n",
            " [ 0.44522879 -0.73054677 -0.82464613  0.          0.          1.        ]\n",
            " [ 0.53293172 -0.27065437 -0.45755126  0.          0.          1.        ]\n",
            " ...\n",
            " [ 0.09441704 -0.84551986 -0.82464613  1.          0.          0.        ]\n",
            " [-1.22112702  1.68388829  1.50028805  0.          1.          0.        ]\n",
            " [ 0.88374347 -0.38562747 -0.70228118  1.          0.          0.        ]]\n"
          ]
        }
      ]
    },
    {
      "cell_type": "code",
      "source": [
        "test2=xval[:,0:3]\n",
        "test2"
      ],
      "metadata": {
        "colab": {
          "base_uri": "https://localhost:8080/"
        },
        "id": "C25iG0dN-me-",
        "outputId": "d3a54348-31d8-4ec3-bf58-de825744bc9d"
      },
      "execution_count": 93,
      "outputs": [
        {
          "output_type": "execute_result",
          "data": {
            "text/plain": [
              "array([[ 59, 157,  60],\n",
              "       [ 60, 161,  65],\n",
              "       [ 58, 158,  61],\n",
              "       [ 41, 181,  82],\n",
              "       [ 35, 181,  84],\n",
              "       [ 58, 164,  66],\n",
              "       [ 53, 166,  65],\n",
              "       [ 52, 159,  62],\n",
              "       [ 57, 155,  62],\n",
              "       [ 54, 160,  61],\n",
              "       [ 32, 174,  75],\n",
              "       [ 28, 176,  79],\n",
              "       [ 60, 162,  64],\n",
              "       [ 59, 155,  61],\n",
              "       [ 50, 170,  78],\n",
              "       [ 31, 172,  74],\n",
              "       [ 58, 162,  67],\n",
              "       [ 35, 177,  81],\n",
              "       [ 51, 157,  63],\n",
              "       [ 57, 163,  69],\n",
              "       [ 60, 158,  63],\n",
              "       [ 60, 158,  65],\n",
              "       [ 39, 180,  80],\n",
              "       [ 59, 158,  60],\n",
              "       [ 54, 155,  63],\n",
              "       [ 56, 162,  67],\n",
              "       [ 60, 160,  64],\n",
              "       [ 29, 175,  77],\n",
              "       [ 60, 158,  64],\n",
              "       [ 55, 155,  60],\n",
              "       [ 50, 157,  62],\n",
              "       [ 36, 181,  84],\n",
              "       [ 34, 172,  74],\n",
              "       [ 58, 155,  60],\n",
              "       [ 60, 167,  72],\n",
              "       [ 58, 157,  60],\n",
              "       [ 32, 178,  80],\n",
              "       [ 25, 169,  71],\n",
              "       [ 60, 158,  62],\n",
              "       [ 41, 174,  75],\n",
              "       [ 57, 159,  63],\n",
              "       [ 58, 161,  65],\n",
              "       [ 58, 164,  65],\n",
              "       [ 59, 160,  60],\n",
              "       [ 28, 172,  74],\n",
              "       [ 37, 181,  84],\n",
              "       [ 48, 164,  66]])"
            ]
          },
          "metadata": {},
          "execution_count": 93
        }
      ]
    },
    {
      "cell_type": "code",
      "source": [
        "test2=(test2-mean)/std\n",
        "test2"
      ],
      "metadata": {
        "colab": {
          "base_uri": "https://localhost:8080/"
        },
        "id": "1Gsq37hZ-rxS",
        "outputId": "3f5f9be0-4be0-4e04-d2cf-21282fc1c59b"
      },
      "execution_count": 94,
      "outputs": [
        {
          "output_type": "execute_result",
          "data": {
            "text/plain": [
              "array([[ 0.88374347, -0.84551986, -0.94701109],\n",
              "       [ 0.97144641, -0.38562747, -0.33518631],\n",
              "       [ 0.79604053, -0.73054677, -0.82464613],\n",
              "       [-0.6949094 ,  1.91383449,  1.74501796],\n",
              "       [-1.22112702,  1.91383449,  1.98974787],\n",
              "       [ 0.79604053, -0.04070818, -0.21282135],\n",
              "       [ 0.35752585,  0.18923802, -0.33518631],\n",
              "       [ 0.26982291, -0.61557367, -0.70228118],\n",
              "       [ 0.7083376 , -1.07546606, -0.70228118],\n",
              "       [ 0.44522879, -0.50060057, -0.82464613],\n",
              "       [-1.48423583,  1.1090228 ,  0.88846326],\n",
              "       [-1.83504758,  1.338969  ,  1.37792309],\n",
              "       [ 0.97144641, -0.27065437, -0.45755126],\n",
              "       [ 0.88374347, -1.07546606, -0.82464613],\n",
              "       [ 0.09441704,  0.64913041,  1.25555813],\n",
              "       [-1.57193877,  0.87907661,  0.76609831],\n",
              "       [ 0.79604053, -0.27065437, -0.09045639],\n",
              "       [-1.22112702,  1.4539421 ,  1.622653  ],\n",
              "       [ 0.18211997, -0.84551986, -0.57991622],\n",
              "       [ 0.7083376 , -0.15568128,  0.15427352],\n",
              "       [ 0.97144641, -0.73054677, -0.57991622],\n",
              "       [ 0.97144641, -0.73054677, -0.33518631],\n",
              "       [-0.87031527,  1.79886139,  1.50028805],\n",
              "       [ 0.88374347, -0.73054677, -0.94701109],\n",
              "       [ 0.44522879, -1.07546606, -0.57991622],\n",
              "       [ 0.62063466, -0.27065437, -0.09045639],\n",
              "       [ 0.97144641, -0.50060057, -0.45755126],\n",
              "       [-1.74734464,  1.2239959 ,  1.13319318],\n",
              "       [ 0.97144641, -0.73054677, -0.45755126],\n",
              "       [ 0.53293172, -1.07546606, -0.94701109],\n",
              "       [ 0.09441704, -0.84551986, -0.70228118],\n",
              "       [-1.13342408,  1.91383449,  1.98974787],\n",
              "       [-1.30882995,  0.87907661,  0.76609831],\n",
              "       [ 0.79604053, -1.07546606, -0.94701109],\n",
              "       [ 0.97144641,  0.30421112,  0.52136839],\n",
              "       [ 0.79604053, -0.84551986, -0.94701109],\n",
              "       [-1.48423583,  1.56891519,  1.50028805],\n",
              "       [-2.09815639,  0.53415731,  0.39900344],\n",
              "       [ 0.97144641, -0.73054677, -0.70228118],\n",
              "       [-0.6949094 ,  1.1090228 ,  0.88846326],\n",
              "       [ 0.7083376 , -0.61557367, -0.57991622],\n",
              "       [ 0.79604053, -0.38562747, -0.33518631],\n",
              "       [ 0.79604053, -0.04070818, -0.33518631],\n",
              "       [ 0.88374347, -0.50060057, -0.94701109],\n",
              "       [-1.83504758,  0.87907661,  0.76609831],\n",
              "       [-1.04572114,  1.91383449,  1.98974787],\n",
              "       [-0.08098884, -0.04070818, -0.21282135]])"
            ]
          },
          "metadata": {},
          "execution_count": 94
        }
      ]
    },
    {
      "cell_type": "code",
      "source": [
        "xval=np.concatenate((test2,xval[:,3:]),axis=1)"
      ],
      "metadata": {
        "id": "T-RsNujc-xWE"
      },
      "execution_count": 95,
      "outputs": []
    },
    {
      "cell_type": "code",
      "source": [
        "xval"
      ],
      "metadata": {
        "colab": {
          "base_uri": "https://localhost:8080/"
        },
        "id": "3bsPEyIK-5rW",
        "outputId": "004d3efe-2619-4b15-d9db-b655815f93a8"
      },
      "execution_count": 96,
      "outputs": [
        {
          "output_type": "execute_result",
          "data": {
            "text/plain": [
              "array([[ 0.88374347, -0.84551986, -0.94701109,  1.        ,  0.        ,\n",
              "         0.        ],\n",
              "       [ 0.97144641, -0.38562747, -0.33518631,  1.        ,  0.        ,\n",
              "         0.        ],\n",
              "       [ 0.79604053, -0.73054677, -0.82464613,  1.        ,  0.        ,\n",
              "         0.        ],\n",
              "       [-0.6949094 ,  1.91383449,  1.74501796,  0.        ,  1.        ,\n",
              "         0.        ],\n",
              "       [-1.22112702,  1.91383449,  1.98974787,  0.        ,  1.        ,\n",
              "         0.        ],\n",
              "       [ 0.79604053, -0.04070818, -0.21282135,  0.        ,  0.        ,\n",
              "         0.        ],\n",
              "       [ 0.35752585,  0.18923802, -0.33518631,  0.        ,  0.        ,\n",
              "         0.        ],\n",
              "       [ 0.26982291, -0.61557367, -0.70228118,  0.        ,  0.        ,\n",
              "         1.        ],\n",
              "       [ 0.7083376 , -1.07546606, -0.70228118,  0.        ,  0.        ,\n",
              "         1.        ],\n",
              "       [ 0.44522879, -0.50060057, -0.82464613,  0.        ,  0.        ,\n",
              "         0.        ],\n",
              "       [-1.48423583,  1.1090228 ,  0.88846326,  0.        ,  1.        ,\n",
              "         0.        ],\n",
              "       [-1.83504758,  1.338969  ,  1.37792309,  0.        ,  1.        ,\n",
              "         0.        ],\n",
              "       [ 0.97144641, -0.27065437, -0.45755126,  0.        ,  0.        ,\n",
              "         1.        ],\n",
              "       [ 0.88374347, -1.07546606, -0.82464613,  1.        ,  0.        ,\n",
              "         0.        ],\n",
              "       [ 0.09441704,  0.64913041,  1.25555813,  1.        ,  1.        ,\n",
              "         1.        ],\n",
              "       [-1.57193877,  0.87907661,  0.76609831,  0.        ,  1.        ,\n",
              "         0.        ],\n",
              "       [ 0.79604053, -0.27065437, -0.09045639,  0.        ,  0.        ,\n",
              "         0.        ],\n",
              "       [-1.22112702,  1.4539421 ,  1.622653  ,  0.        ,  1.        ,\n",
              "         0.        ],\n",
              "       [ 0.18211997, -0.84551986, -0.57991622,  1.        ,  0.        ,\n",
              "         1.        ],\n",
              "       [ 0.7083376 , -0.15568128,  0.15427352,  1.        ,  0.        ,\n",
              "         1.        ],\n",
              "       [ 0.97144641, -0.73054677, -0.57991622,  0.        ,  0.        ,\n",
              "         1.        ],\n",
              "       [ 0.97144641, -0.73054677, -0.33518631,  0.        ,  0.        ,\n",
              "         1.        ],\n",
              "       [-0.87031527,  1.79886139,  1.50028805,  0.        ,  1.        ,\n",
              "         0.        ],\n",
              "       [ 0.88374347, -0.73054677, -0.94701109,  1.        ,  0.        ,\n",
              "         0.        ],\n",
              "       [ 0.44522879, -1.07546606, -0.57991622,  1.        ,  0.        ,\n",
              "         0.        ],\n",
              "       [ 0.62063466, -0.27065437, -0.09045639,  0.        ,  0.        ,\n",
              "         0.        ],\n",
              "       [ 0.97144641, -0.50060057, -0.45755126,  1.        ,  0.        ,\n",
              "         1.        ],\n",
              "       [-1.74734464,  1.2239959 ,  1.13319318,  0.        ,  1.        ,\n",
              "         0.        ],\n",
              "       [ 0.97144641, -0.73054677, -0.45755126,  1.        ,  0.        ,\n",
              "         1.        ],\n",
              "       [ 0.53293172, -1.07546606, -0.94701109,  0.        ,  0.        ,\n",
              "         1.        ],\n",
              "       [ 0.09441704, -0.84551986, -0.70228118,  0.        ,  0.        ,\n",
              "         1.        ],\n",
              "       [-1.13342408,  1.91383449,  1.98974787,  0.        ,  1.        ,\n",
              "         0.        ],\n",
              "       [-1.30882995,  0.87907661,  0.76609831,  0.        ,  1.        ,\n",
              "         0.        ],\n",
              "       [ 0.79604053, -1.07546606, -0.94701109,  1.        ,  0.        ,\n",
              "         0.        ],\n",
              "       [ 0.97144641,  0.30421112,  0.52136839,  0.        ,  0.        ,\n",
              "         1.        ],\n",
              "       [ 0.79604053, -0.84551986, -0.94701109,  0.        ,  0.        ,\n",
              "         1.        ],\n",
              "       [-1.48423583,  1.56891519,  1.50028805,  0.        ,  1.        ,\n",
              "         0.        ],\n",
              "       [-2.09815639,  0.53415731,  0.39900344,  0.        ,  1.        ,\n",
              "         0.        ],\n",
              "       [ 0.97144641, -0.73054677, -0.70228118,  0.        ,  0.        ,\n",
              "         0.        ],\n",
              "       [-0.6949094 ,  1.1090228 ,  0.88846326,  0.        ,  1.        ,\n",
              "         0.        ],\n",
              "       [ 0.7083376 , -0.61557367, -0.57991622,  1.        ,  0.        ,\n",
              "         0.        ],\n",
              "       [ 0.79604053, -0.38562747, -0.33518631,  0.        ,  0.        ,\n",
              "         0.        ],\n",
              "       [ 0.79604053, -0.04070818, -0.33518631,  1.        ,  0.        ,\n",
              "         0.        ],\n",
              "       [ 0.88374347, -0.50060057, -0.94701109,  1.        ,  0.        ,\n",
              "         1.        ],\n",
              "       [-1.83504758,  0.87907661,  0.76609831,  0.        ,  1.        ,\n",
              "         0.        ],\n",
              "       [-1.04572114,  1.91383449,  1.98974787,  0.        ,  1.        ,\n",
              "         0.        ],\n",
              "       [-0.08098884, -0.04070818, -0.21282135,  1.        ,  0.        ,\n",
              "         0.        ]])"
            ]
          },
          "metadata": {},
          "execution_count": 96
        }
      ]
    },
    {
      "cell_type": "code",
      "source": [
        "test3=xtest[:,0:3]\n",
        "test3"
      ],
      "metadata": {
        "colab": {
          "base_uri": "https://localhost:8080/"
        },
        "id": "FU5KWWKP--Zc",
        "outputId": "a124e7d8-076b-4a83-d170-56d99671dacd"
      },
      "execution_count": 97,
      "outputs": [
        {
          "output_type": "execute_result",
          "data": {
            "text/plain": [
              "array([[ 59, 161,  65],\n",
              "       [ 58, 160,  64],\n",
              "       [ 58, 158,  64],\n",
              "       [ 29, 174,  75],\n",
              "       [ 55, 158,  61],\n",
              "       [ 53, 158,  60],\n",
              "       [ 57, 161,  61],\n",
              "       [ 57, 158,  64],\n",
              "       [ 55, 160,  62],\n",
              "       [ 27, 181,  84],\n",
              "       [ 55, 160,  65],\n",
              "       [ 59, 157,  60],\n",
              "       [ 31, 179,  81],\n",
              "       [ 34, 175,  78],\n",
              "       [ 35, 178,  77],\n",
              "       [ 60, 161,  61],\n",
              "       [ 33, 178,  85],\n",
              "       [ 38, 181,  80],\n",
              "       [ 33, 178,  80],\n",
              "       [ 26, 174,  75],\n",
              "       [ 31, 177,  80],\n",
              "       [ 60, 162,  67],\n",
              "       [ 52, 159,  62],\n",
              "       [ 31, 180,  84],\n",
              "       [ 60, 155,  60],\n",
              "       [ 56, 162,  65],\n",
              "       [ 30, 181,  81],\n",
              "       [ 57, 155,  61],\n",
              "       [ 27, 180,  83],\n",
              "       [ 56, 157,  63],\n",
              "       [ 55, 162,  67],\n",
              "       [ 56, 158,  60],\n",
              "       [ 30, 174,  75],\n",
              "       [ 49, 158,  63],\n",
              "       [ 25, 169,  70],\n",
              "       [ 57, 160,  61],\n",
              "       [ 56, 160,  62],\n",
              "       [ 59, 159,  64],\n",
              "       [ 59, 160,  62],\n",
              "       [ 54, 157,  62],\n",
              "       [ 59, 158,  60],\n",
              "       [ 38, 174,  75],\n",
              "       [ 31, 178,  82],\n",
              "       [ 56, 160,  62],\n",
              "       [ 34, 174,  75],\n",
              "       [ 32, 180,  83],\n",
              "       [ 57, 161,  60],\n",
              "       [ 60, 158,  64],\n",
              "       [ 58, 162,  64],\n",
              "       [ 58, 161,  65],\n",
              "       [ 58, 160,  64],\n",
              "       [ 33, 177,  81]])"
            ]
          },
          "metadata": {},
          "execution_count": 97
        }
      ]
    },
    {
      "cell_type": "code",
      "source": [
        "test3=(test3-mean)/std\n",
        "test3"
      ],
      "metadata": {
        "colab": {
          "base_uri": "https://localhost:8080/"
        },
        "id": "nVTPav7O_GFn",
        "outputId": "bb6e5ac8-d205-48a6-a5c2-2f1cb04c84d0"
      },
      "execution_count": 98,
      "outputs": [
        {
          "output_type": "execute_result",
          "data": {
            "text/plain": [
              "array([[ 0.88374347, -0.38562747, -0.33518631],\n",
              "       [ 0.79604053, -0.50060057, -0.45755126],\n",
              "       [ 0.79604053, -0.73054677, -0.45755126],\n",
              "       [-1.74734464,  1.1090228 ,  0.88846326],\n",
              "       [ 0.53293172, -0.73054677, -0.82464613],\n",
              "       [ 0.35752585, -0.73054677, -0.94701109],\n",
              "       [ 0.7083376 , -0.38562747, -0.82464613],\n",
              "       [ 0.7083376 , -0.73054677, -0.45755126],\n",
              "       [ 0.53293172, -0.50060057, -0.70228118],\n",
              "       [-1.92275051,  1.91383449,  1.98974787],\n",
              "       [ 0.53293172, -0.50060057, -0.33518631],\n",
              "       [ 0.88374347, -0.84551986, -0.94701109],\n",
              "       [-1.57193877,  1.68388829,  1.622653  ],\n",
              "       [-1.30882995,  1.2239959 ,  1.25555813],\n",
              "       [-1.22112702,  1.56891519,  1.13319318],\n",
              "       [ 0.97144641, -0.38562747, -0.82464613],\n",
              "       [-1.39653289,  1.56891519,  2.11211283],\n",
              "       [-0.95801821,  1.91383449,  1.50028805],\n",
              "       [-1.39653289,  1.56891519,  1.50028805],\n",
              "       [-2.01045345,  1.1090228 ,  0.88846326],\n",
              "       [-1.57193877,  1.4539421 ,  1.50028805],\n",
              "       [ 0.97144641, -0.27065437, -0.09045639],\n",
              "       [ 0.26982291, -0.61557367, -0.70228118],\n",
              "       [-1.57193877,  1.79886139,  1.98974787],\n",
              "       [ 0.97144641, -1.07546606, -0.94701109],\n",
              "       [ 0.62063466, -0.27065437, -0.33518631],\n",
              "       [-1.6596417 ,  1.91383449,  1.622653  ],\n",
              "       [ 0.7083376 , -1.07546606, -0.82464613],\n",
              "       [-1.92275051,  1.79886139,  1.86738292],\n",
              "       [ 0.62063466, -0.84551986, -0.57991622],\n",
              "       [ 0.53293172, -0.27065437, -0.09045639],\n",
              "       [ 0.62063466, -0.73054677, -0.94701109],\n",
              "       [-1.6596417 ,  1.1090228 ,  0.88846326],\n",
              "       [ 0.0067141 , -0.73054677, -0.57991622],\n",
              "       [-2.09815639,  0.53415731,  0.27663848],\n",
              "       [ 0.7083376 , -0.50060057, -0.82464613],\n",
              "       [ 0.62063466, -0.50060057, -0.70228118],\n",
              "       [ 0.88374347, -0.61557367, -0.45755126],\n",
              "       [ 0.88374347, -0.50060057, -0.70228118],\n",
              "       [ 0.44522879, -0.84551986, -0.70228118],\n",
              "       [ 0.88374347, -0.73054677, -0.94701109],\n",
              "       [-0.95801821,  1.1090228 ,  0.88846326],\n",
              "       [-1.57193877,  1.56891519,  1.74501796],\n",
              "       [ 0.62063466, -0.50060057, -0.70228118],\n",
              "       [-1.30882995,  1.1090228 ,  0.88846326],\n",
              "       [-1.48423583,  1.79886139,  1.86738292],\n",
              "       [ 0.7083376 , -0.38562747, -0.94701109],\n",
              "       [ 0.97144641, -0.73054677, -0.45755126],\n",
              "       [ 0.79604053, -0.27065437, -0.45755126],\n",
              "       [ 0.79604053, -0.38562747, -0.33518631],\n",
              "       [ 0.79604053, -0.50060057, -0.45755126],\n",
              "       [-1.39653289,  1.4539421 ,  1.622653  ]])"
            ]
          },
          "metadata": {},
          "execution_count": 98
        }
      ]
    },
    {
      "cell_type": "code",
      "source": [
        "xtest=np.concatenate((test3,xtest[:,3:]),axis=1)\n",
        "xtest"
      ],
      "metadata": {
        "colab": {
          "base_uri": "https://localhost:8080/"
        },
        "id": "ih8Tauk3_I-U",
        "outputId": "cde70bef-6c8d-4b91-fa98-4b9af2dcf14b"
      },
      "execution_count": 99,
      "outputs": [
        {
          "output_type": "execute_result",
          "data": {
            "text/plain": [
              "array([[ 0.88374347, -0.38562747, -0.33518631,  1.        ,  0.        ,\n",
              "         0.        ],\n",
              "       [ 0.79604053, -0.50060057, -0.45755126,  0.        ,  0.        ,\n",
              "         1.        ],\n",
              "       [ 0.79604053, -0.73054677, -0.45755126,  1.        ,  0.        ,\n",
              "         0.        ],\n",
              "       [-1.74734464,  1.1090228 ,  0.88846326,  0.        ,  1.        ,\n",
              "         0.        ],\n",
              "       [ 0.53293172, -0.73054677, -0.82464613,  0.        ,  0.        ,\n",
              "         1.        ],\n",
              "       [ 0.35752585, -0.73054677, -0.94701109,  0.        ,  0.        ,\n",
              "         1.        ],\n",
              "       [ 0.7083376 , -0.38562747, -0.82464613,  1.        ,  0.        ,\n",
              "         0.        ],\n",
              "       [ 0.7083376 , -0.73054677, -0.45755126,  0.        ,  0.        ,\n",
              "         0.        ],\n",
              "       [ 0.53293172, -0.50060057, -0.70228118,  0.        ,  0.        ,\n",
              "         0.        ],\n",
              "       [-1.92275051,  1.91383449,  1.98974787,  0.        ,  1.        ,\n",
              "         0.        ],\n",
              "       [ 0.53293172, -0.50060057, -0.33518631,  0.        ,  0.        ,\n",
              "         1.        ],\n",
              "       [ 0.88374347, -0.84551986, -0.94701109,  0.        ,  0.        ,\n",
              "         1.        ],\n",
              "       [-1.57193877,  1.68388829,  1.622653  ,  0.        ,  1.        ,\n",
              "         0.        ],\n",
              "       [-1.30882995,  1.2239959 ,  1.25555813,  0.        ,  1.        ,\n",
              "         0.        ],\n",
              "       [-1.22112702,  1.56891519,  1.13319318,  0.        ,  1.        ,\n",
              "         0.        ],\n",
              "       [ 0.97144641, -0.38562747, -0.82464613,  1.        ,  0.        ,\n",
              "         0.        ],\n",
              "       [-1.39653289,  1.56891519,  2.11211283,  0.        ,  1.        ,\n",
              "         0.        ],\n",
              "       [-0.95801821,  1.91383449,  1.50028805,  0.        ,  1.        ,\n",
              "         0.        ],\n",
              "       [-1.39653289,  1.56891519,  1.50028805,  0.        ,  1.        ,\n",
              "         0.        ],\n",
              "       [-2.01045345,  1.1090228 ,  0.88846326,  0.        ,  1.        ,\n",
              "         0.        ],\n",
              "       [-1.57193877,  1.4539421 ,  1.50028805,  0.        ,  1.        ,\n",
              "         0.        ],\n",
              "       [ 0.97144641, -0.27065437, -0.09045639,  0.        ,  0.        ,\n",
              "         0.        ],\n",
              "       [ 0.26982291, -0.61557367, -0.70228118,  0.        ,  0.        ,\n",
              "         0.        ],\n",
              "       [-1.57193877,  1.79886139,  1.98974787,  0.        ,  1.        ,\n",
              "         0.        ],\n",
              "       [ 0.97144641, -1.07546606, -0.94701109,  1.        ,  0.        ,\n",
              "         0.        ],\n",
              "       [ 0.62063466, -0.27065437, -0.33518631,  0.        ,  0.        ,\n",
              "         1.        ],\n",
              "       [-1.6596417 ,  1.91383449,  1.622653  ,  0.        ,  1.        ,\n",
              "         0.        ],\n",
              "       [ 0.7083376 , -1.07546606, -0.82464613,  1.        ,  0.        ,\n",
              "         1.        ],\n",
              "       [-1.92275051,  1.79886139,  1.86738292,  0.        ,  1.        ,\n",
              "         0.        ],\n",
              "       [ 0.62063466, -0.84551986, -0.57991622,  0.        ,  0.        ,\n",
              "         1.        ],\n",
              "       [ 0.53293172, -0.27065437, -0.09045639,  0.        ,  0.        ,\n",
              "         0.        ],\n",
              "       [ 0.62063466, -0.73054677, -0.94701109,  1.        ,  0.        ,\n",
              "         0.        ],\n",
              "       [-1.6596417 ,  1.1090228 ,  0.88846326,  0.        ,  1.        ,\n",
              "         0.        ],\n",
              "       [ 0.0067141 , -0.73054677, -0.57991622,  1.        ,  0.        ,\n",
              "         1.        ],\n",
              "       [-2.09815639,  0.53415731,  0.27663848,  0.        ,  1.        ,\n",
              "         0.        ],\n",
              "       [ 0.7083376 , -0.50060057, -0.82464613,  1.        ,  0.        ,\n",
              "         0.        ],\n",
              "       [ 0.62063466, -0.50060057, -0.70228118,  0.        ,  0.        ,\n",
              "         1.        ],\n",
              "       [ 0.88374347, -0.61557367, -0.45755126,  1.        ,  0.        ,\n",
              "         0.        ],\n",
              "       [ 0.88374347, -0.50060057, -0.70228118,  1.        ,  0.        ,\n",
              "         1.        ],\n",
              "       [ 0.44522879, -0.84551986, -0.70228118,  0.        ,  0.        ,\n",
              "         1.        ],\n",
              "       [ 0.88374347, -0.73054677, -0.94701109,  0.        ,  0.        ,\n",
              "         1.        ],\n",
              "       [-0.95801821,  1.1090228 ,  0.88846326,  0.        ,  1.        ,\n",
              "         0.        ],\n",
              "       [-1.57193877,  1.56891519,  1.74501796,  0.        ,  1.        ,\n",
              "         0.        ],\n",
              "       [ 0.62063466, -0.50060057, -0.70228118,  1.        ,  0.        ,\n",
              "         0.        ],\n",
              "       [-1.30882995,  1.1090228 ,  0.88846326,  0.        ,  1.        ,\n",
              "         0.        ],\n",
              "       [-1.48423583,  1.79886139,  1.86738292,  0.        ,  1.        ,\n",
              "         0.        ],\n",
              "       [ 0.7083376 , -0.38562747, -0.94701109,  1.        ,  0.        ,\n",
              "         0.        ],\n",
              "       [ 0.97144641, -0.73054677, -0.45755126,  1.        ,  0.        ,\n",
              "         0.        ],\n",
              "       [ 0.79604053, -0.27065437, -0.45755126,  0.        ,  0.        ,\n",
              "         0.        ],\n",
              "       [ 0.79604053, -0.38562747, -0.33518631,  0.        ,  0.        ,\n",
              "         1.        ],\n",
              "       [ 0.79604053, -0.50060057, -0.45755126,  1.        ,  0.        ,\n",
              "         0.        ],\n",
              "       [-1.39653289,  1.4539421 ,  1.622653  ,  0.        ,  1.        ,\n",
              "         0.        ]])"
            ]
          },
          "metadata": {},
          "execution_count": 99
        }
      ]
    },
    {
      "cell_type": "markdown",
      "source": [
        "Feature scaling is completed so model will not be confused with large value of some parameters and low value of other"
      ],
      "metadata": {
        "id": "i4SZr48c_SZJ"
      }
    },
    {
      "cell_type": "markdown",
      "source": [
        " **MODEL MAKING AND TRAINING **"
      ],
      "metadata": {
        "id": "7G0kN1M6_oA9"
      }
    },
    {
      "cell_type": "code",
      "source": [
        "def compute_cost(X, y, w, b):\n",
        "    m = X.shape[0]\n",
        "    cost = 0.0\n",
        "    for i in range(m):\n",
        "        f_wb_i = np.dot(X[i], w) + b\n",
        "        cost = cost + (f_wb_i - y[i])**2\n",
        "    cost = cost / (2 * m)\n",
        "    return cost"
      ],
      "metadata": {
        "id": "gZXJB3_PAr6M"
      },
      "execution_count": 100,
      "outputs": []
    },
    {
      "cell_type": "code",
      "source": [
        "winit=np.zeros(6)\n",
        "binit=0\n",
        "cost = compute_cost(xtrain, ytrain, winit, binit)\n",
        "print(cost)"
      ],
      "metadata": {
        "colab": {
          "base_uri": "https://localhost:8080/"
        },
        "id": "a06nTbV5A3l7",
        "outputId": "44918d5e-685e-4ad8-c32d-1005f9525f32"
      },
      "execution_count": 101,
      "outputs": [
        {
          "output_type": "stream",
          "name": "stdout",
          "text": [
            "90289.59330143541\n"
          ]
        }
      ]
    },
    {
      "cell_type": "code",
      "source": [
        "def compute_gradient(X, y, w, b):\n",
        "    m,n = X.shape\n",
        "    dw = np.zeros((n,))\n",
        "    db = 0.\n",
        "\n",
        "    for i in range(m):\n",
        "        diff = (np.dot(X[i], w) + b) - y[i]\n",
        "        for j in range(n):\n",
        "            dw[j] = dw[j] + diff * X[i, j]\n",
        "        db = db + diff\n",
        "    dw = dw/m\n",
        "    db = db/m\n",
        "\n",
        "    return db, dw"
      ],
      "metadata": {
        "id": "TRxeEMs1BGkQ"
      },
      "execution_count": 102,
      "outputs": []
    },
    {
      "cell_type": "code",
      "source": [
        "def gradient_descent(X, y, win, bin, alpha, num_iters):\n",
        "    history = []\n",
        "    w = win\n",
        "    b = bin\n",
        "\n",
        "    for i in range(num_iters):\n",
        "        db,dw = compute_gradient(X, y, w, b)\n",
        "        w = w - alpha*dw\n",
        "        b = b - alpha*db\n",
        "        if i<100000:\n",
        "            history.append( compute_cost(X, y, w, b))\n",
        "        if i% 100 == 0:\n",
        "            print(compute_cost(X, y, w, b))\n",
        "\n",
        "    return w, b, history"
      ],
      "metadata": {
        "id": "hJT-qQA8BMfM"
      },
      "execution_count": 103,
      "outputs": []
    },
    {
      "cell_type": "code",
      "source": [
        "w_final, b_final,hist = gradient_descent(xtrain, ytrain, winit, binit,0.6, 1000)\n",
        "print(w_final)\n",
        "print(b_final)"
      ],
      "metadata": {
        "colab": {
          "base_uri": "https://localhost:8080/"
        },
        "id": "XF4d02bfBawL",
        "outputId": "0fac3c76-8584-4324-8cf9-ce8f7224a146"
      },
      "execution_count": 104,
      "outputs": [
        {
          "output_type": "stream",
          "name": "stdout",
          "text": [
            "7082.521169701887\n",
            "60.626880456831366\n",
            "54.98602689111693\n",
            "53.23569015740814\n",
            "52.68645151530912\n",
            "52.513948115914644\n",
            "52.459762599554075\n",
            "52.44274200150885\n",
            "52.4373955311943\n",
            "52.4357161101308\n",
            "[-14.42290671  13.9059368   20.50251955  -7.11183283  51.03988469\n",
            "  -8.24124183]\n",
            "408.2513962129751\n"
          ]
        }
      ]
    },
    {
      "cell_type": "code",
      "source": [
        "pred=np.dot(xtrain,w_final)+b_final\n",
        "def rmse(targets, predictions):\n",
        "    return np.sqrt(np.mean(np.square(targets - predictions)))\n",
        "rmse(ytrain,pred)"
      ],
      "metadata": {
        "colab": {
          "base_uri": "https://localhost:8080/"
        },
        "id": "lqte6n5nwdi9",
        "outputId": "0bb6f7bd-bdcf-4523-f680-e4e1863c0e07"
      },
      "execution_count": 105,
      "outputs": [
        {
          "output_type": "execute_result",
          "data": {
            "text/plain": [
              "10.240624139977799"
            ]
          },
          "metadata": {},
          "execution_count": 105
        }
      ]
    },
    {
      "cell_type": "code",
      "source": [
        "pred2=np.dot(xval,w_final)+b_final\n",
        "rmse(yval,pred2)"
      ],
      "metadata": {
        "colab": {
          "base_uri": "https://localhost:8080/"
        },
        "id": "zY88E5QyyR9p",
        "outputId": "8542c7c2-60b9-40f0-d8da-716fd0eb5648"
      },
      "execution_count": 106,
      "outputs": [
        {
          "output_type": "execute_result",
          "data": {
            "text/plain": [
              "13.856317804451933"
            ]
          },
          "metadata": {},
          "execution_count": 106
        }
      ]
    },
    {
      "cell_type": "code",
      "source": [
        "pred3=np.dot(xtest,w_final)+b_final\n",
        "rmse(ytest,pred3)"
      ],
      "metadata": {
        "colab": {
          "base_uri": "https://localhost:8080/"
        },
        "id": "UzOGpqUdGBRs",
        "outputId": "5fd64907-c9a7-425d-8957-fcdc444507a5"
      },
      "execution_count": 107,
      "outputs": [
        {
          "output_type": "execute_result",
          "data": {
            "text/plain": [
              "8.056788841359182"
            ]
          },
          "metadata": {},
          "execution_count": 107
        }
      ]
    },
    {
      "cell_type": "markdown",
      "source": [
        "# **COMBINING ALL INTO A CLASS**"
      ],
      "metadata": {
        "id": "p4jI_OeJ73Wn"
      }
    },
    {
      "cell_type": "code",
      "source": [
        "class linearRegression:\n",
        "  def __init__(self):\n",
        "    pass\n",
        "  def train(self,xtrain,ytrain,alpha,num_iters):\n",
        "    def compute_cost(X, y, w, b):\n",
        "      m = X.shape[0]\n",
        "      cost = 0.0\n",
        "      for i in range(m):\n",
        "          f_wb_i = np.dot(X[i], w) + b\n",
        "          cost = cost + (f_wb_i - y[i])**2\n",
        "      cost = cost / (2 * m)\n",
        "      return cost\n",
        "    winit=np.zeros(6)\n",
        "    binit=0\n",
        "    def compute_gradient(X, y, w, b):\n",
        "      m,n = X.shape\n",
        "      dw = np.zeros((n,))\n",
        "      db = 0.\n",
        "\n",
        "      for i in range(m):\n",
        "          diff = (np.dot(X[i], w) + b) - y[i]\n",
        "          for j in range(n):\n",
        "              dw[j] = dw[j] + diff * X[i, j]\n",
        "          db = db + diff\n",
        "      dw = dw/m\n",
        "      db = db/m\n",
        "\n",
        "      return db, dw\n",
        "      def gradient_descent(X, y, win, bin, alpha, num_iters):\n",
        "        history = []\n",
        "        w = win\n",
        "        b = bin\n",
        "\n",
        "        for i in range(num_iters):\n",
        "            db,dw = compute_gradient(X, y, w, b)\n",
        "            w = w - alpha*dw\n",
        "            b = b - alpha*db\n",
        "            if i<100000:\n",
        "                history.append( compute_cost(X, y, w, b))\n",
        "        return w, b\n",
        "      w_final, b_final,hist = gradient_descent(xtrain, ytrain, winit, binit,0.6, 1000)\n",
        "      return w_final,b_final\n",
        "  def predict(self,xtest):\n",
        "    pred=np.dot(xtest,w_final)+b_final\n",
        "    return pred"
      ],
      "metadata": {
        "id": "0YHGqust8Or-"
      },
      "execution_count": 108,
      "outputs": []
    },
    {
      "cell_type": "code",
      "source": [
        "model=linearRegression()"
      ],
      "metadata": {
        "id": "s0V2Pt-WAVUw"
      },
      "execution_count": 109,
      "outputs": []
    },
    {
      "cell_type": "code",
      "source": [
        "model.train(xtrain,ytrain,0.6,1000)"
      ],
      "metadata": {
        "id": "EknQ3KPJAaYe"
      },
      "execution_count": 110,
      "outputs": []
    },
    {
      "cell_type": "code",
      "source": [
        "pred3=model.predict(xtrain)"
      ],
      "metadata": {
        "id": "WkUyanZsAm8G"
      },
      "execution_count": 111,
      "outputs": []
    },
    {
      "cell_type": "code",
      "source": [
        "rmse(ytrain,pred3)"
      ],
      "metadata": {
        "colab": {
          "base_uri": "https://localhost:8080/"
        },
        "id": "oFmp99AHAxtM",
        "outputId": "63822609-1e90-45a1-f635-eaf01b33a67d"
      },
      "execution_count": 112,
      "outputs": [
        {
          "output_type": "execute_result",
          "data": {
            "text/plain": [
              "10.240624139977799"
            ]
          },
          "metadata": {},
          "execution_count": 112
        }
      ]
    },
    {
      "cell_type": "code",
      "source": [
        "!pip install gradio"
      ],
      "metadata": {
        "colab": {
          "base_uri": "https://localhost:8080/"
        },
        "id": "Fhm-RT6cTI1N",
        "outputId": "19f05c36-632a-41ff-d7d4-7a5928ef3638"
      },
      "execution_count": 113,
      "outputs": [
        {
          "output_type": "stream",
          "name": "stdout",
          "text": [
            "Requirement already satisfied: gradio in /usr/local/lib/python3.10/dist-packages (4.31.5)\n",
            "Requirement already satisfied: aiofiles<24.0,>=22.0 in /usr/local/lib/python3.10/dist-packages (from gradio) (23.2.1)\n",
            "Requirement already satisfied: altair<6.0,>=4.2.0 in /usr/local/lib/python3.10/dist-packages (from gradio) (4.2.2)\n",
            "Requirement already satisfied: fastapi in /usr/local/lib/python3.10/dist-packages (from gradio) (0.111.0)\n",
            "Requirement already satisfied: ffmpy in /usr/local/lib/python3.10/dist-packages (from gradio) (0.3.2)\n",
            "Requirement already satisfied: gradio-client==0.16.4 in /usr/local/lib/python3.10/dist-packages (from gradio) (0.16.4)\n",
            "Requirement already satisfied: httpx>=0.24.1 in /usr/local/lib/python3.10/dist-packages (from gradio) (0.27.0)\n",
            "Requirement already satisfied: huggingface-hub>=0.19.3 in /usr/local/lib/python3.10/dist-packages (from gradio) (0.23.0)\n",
            "Requirement already satisfied: importlib-resources<7.0,>=1.3 in /usr/local/lib/python3.10/dist-packages (from gradio) (6.4.0)\n",
            "Requirement already satisfied: jinja2<4.0 in /usr/local/lib/python3.10/dist-packages (from gradio) (3.1.4)\n",
            "Requirement already satisfied: markupsafe~=2.0 in /usr/local/lib/python3.10/dist-packages (from gradio) (2.1.5)\n",
            "Requirement already satisfied: matplotlib~=3.0 in /usr/local/lib/python3.10/dist-packages (from gradio) (3.7.1)\n",
            "Requirement already satisfied: numpy~=1.0 in /usr/local/lib/python3.10/dist-packages (from gradio) (1.25.2)\n",
            "Requirement already satisfied: orjson~=3.0 in /usr/local/lib/python3.10/dist-packages (from gradio) (3.10.3)\n",
            "Requirement already satisfied: packaging in /usr/local/lib/python3.10/dist-packages (from gradio) (24.0)\n",
            "Requirement already satisfied: pandas<3.0,>=1.0 in /usr/local/lib/python3.10/dist-packages (from gradio) (2.0.3)\n",
            "Requirement already satisfied: pillow<11.0,>=8.0 in /usr/local/lib/python3.10/dist-packages (from gradio) (9.4.0)\n",
            "Requirement already satisfied: pydantic>=2.0 in /usr/local/lib/python3.10/dist-packages (from gradio) (2.7.1)\n",
            "Requirement already satisfied: pydub in /usr/local/lib/python3.10/dist-packages (from gradio) (0.25.1)\n",
            "Requirement already satisfied: python-multipart>=0.0.9 in /usr/local/lib/python3.10/dist-packages (from gradio) (0.0.9)\n",
            "Requirement already satisfied: pyyaml<7.0,>=5.0 in /usr/local/lib/python3.10/dist-packages (from gradio) (6.0.1)\n",
            "Requirement already satisfied: ruff>=0.2.2 in /usr/local/lib/python3.10/dist-packages (from gradio) (0.4.5)\n",
            "Requirement already satisfied: semantic-version~=2.0 in /usr/local/lib/python3.10/dist-packages (from gradio) (2.10.0)\n",
            "Requirement already satisfied: tomlkit==0.12.0 in /usr/local/lib/python3.10/dist-packages (from gradio) (0.12.0)\n",
            "Requirement already satisfied: typer<1.0,>=0.12 in /usr/local/lib/python3.10/dist-packages (from gradio) (0.12.3)\n",
            "Requirement already satisfied: typing-extensions~=4.0 in /usr/local/lib/python3.10/dist-packages (from gradio) (4.11.0)\n",
            "Requirement already satisfied: urllib3~=2.0 in /usr/local/lib/python3.10/dist-packages (from gradio) (2.0.7)\n",
            "Requirement already satisfied: uvicorn>=0.14.0 in /usr/local/lib/python3.10/dist-packages (from gradio) (0.29.0)\n",
            "Requirement already satisfied: fsspec in /usr/local/lib/python3.10/dist-packages (from gradio-client==0.16.4->gradio) (2023.6.0)\n",
            "Requirement already satisfied: websockets<12.0,>=10.0 in /usr/local/lib/python3.10/dist-packages (from gradio-client==0.16.4->gradio) (11.0.3)\n",
            "Requirement already satisfied: entrypoints in /usr/local/lib/python3.10/dist-packages (from altair<6.0,>=4.2.0->gradio) (0.4)\n",
            "Requirement already satisfied: jsonschema>=3.0 in /usr/local/lib/python3.10/dist-packages (from altair<6.0,>=4.2.0->gradio) (4.19.2)\n",
            "Requirement already satisfied: toolz in /usr/local/lib/python3.10/dist-packages (from altair<6.0,>=4.2.0->gradio) (0.12.1)\n",
            "Requirement already satisfied: anyio in /usr/local/lib/python3.10/dist-packages (from httpx>=0.24.1->gradio) (3.7.1)\n",
            "Requirement already satisfied: certifi in /usr/local/lib/python3.10/dist-packages (from httpx>=0.24.1->gradio) (2024.2.2)\n",
            "Requirement already satisfied: httpcore==1.* in /usr/local/lib/python3.10/dist-packages (from httpx>=0.24.1->gradio) (1.0.5)\n",
            "Requirement already satisfied: idna in /usr/local/lib/python3.10/dist-packages (from httpx>=0.24.1->gradio) (3.7)\n",
            "Requirement already satisfied: sniffio in /usr/local/lib/python3.10/dist-packages (from httpx>=0.24.1->gradio) (1.3.1)\n",
            "Requirement already satisfied: h11<0.15,>=0.13 in /usr/local/lib/python3.10/dist-packages (from httpcore==1.*->httpx>=0.24.1->gradio) (0.14.0)\n",
            "Requirement already satisfied: filelock in /usr/local/lib/python3.10/dist-packages (from huggingface-hub>=0.19.3->gradio) (3.14.0)\n",
            "Requirement already satisfied: requests in /usr/local/lib/python3.10/dist-packages (from huggingface-hub>=0.19.3->gradio) (2.31.0)\n",
            "Requirement already satisfied: tqdm>=4.42.1 in /usr/local/lib/python3.10/dist-packages (from huggingface-hub>=0.19.3->gradio) (4.66.4)\n",
            "Requirement already satisfied: contourpy>=1.0.1 in /usr/local/lib/python3.10/dist-packages (from matplotlib~=3.0->gradio) (1.2.1)\n",
            "Requirement already satisfied: cycler>=0.10 in /usr/local/lib/python3.10/dist-packages (from matplotlib~=3.0->gradio) (0.12.1)\n",
            "Requirement already satisfied: fonttools>=4.22.0 in /usr/local/lib/python3.10/dist-packages (from matplotlib~=3.0->gradio) (4.51.0)\n",
            "Requirement already satisfied: kiwisolver>=1.0.1 in /usr/local/lib/python3.10/dist-packages (from matplotlib~=3.0->gradio) (1.4.5)\n",
            "Requirement already satisfied: pyparsing>=2.3.1 in /usr/local/lib/python3.10/dist-packages (from matplotlib~=3.0->gradio) (3.1.2)\n",
            "Requirement already satisfied: python-dateutil>=2.7 in /usr/local/lib/python3.10/dist-packages (from matplotlib~=3.0->gradio) (2.8.2)\n",
            "Requirement already satisfied: pytz>=2020.1 in /usr/local/lib/python3.10/dist-packages (from pandas<3.0,>=1.0->gradio) (2023.4)\n",
            "Requirement already satisfied: tzdata>=2022.1 in /usr/local/lib/python3.10/dist-packages (from pandas<3.0,>=1.0->gradio) (2024.1)\n",
            "Requirement already satisfied: annotated-types>=0.4.0 in /usr/local/lib/python3.10/dist-packages (from pydantic>=2.0->gradio) (0.6.0)\n",
            "Requirement already satisfied: pydantic-core==2.18.2 in /usr/local/lib/python3.10/dist-packages (from pydantic>=2.0->gradio) (2.18.2)\n",
            "Requirement already satisfied: click>=8.0.0 in /usr/local/lib/python3.10/dist-packages (from typer<1.0,>=0.12->gradio) (8.1.7)\n",
            "Requirement already satisfied: shellingham>=1.3.0 in /usr/local/lib/python3.10/dist-packages (from typer<1.0,>=0.12->gradio) (1.5.4)\n",
            "Requirement already satisfied: rich>=10.11.0 in /usr/local/lib/python3.10/dist-packages (from typer<1.0,>=0.12->gradio) (13.7.1)\n",
            "Requirement already satisfied: starlette<0.38.0,>=0.37.2 in /usr/local/lib/python3.10/dist-packages (from fastapi->gradio) (0.37.2)\n",
            "Requirement already satisfied: fastapi-cli>=0.0.2 in /usr/local/lib/python3.10/dist-packages (from fastapi->gradio) (0.0.4)\n",
            "Requirement already satisfied: ujson!=4.0.2,!=4.1.0,!=4.2.0,!=4.3.0,!=5.0.0,!=5.1.0,>=4.0.1 in /usr/local/lib/python3.10/dist-packages (from fastapi->gradio) (5.10.0)\n",
            "Requirement already satisfied: email_validator>=2.0.0 in /usr/local/lib/python3.10/dist-packages (from fastapi->gradio) (2.1.1)\n",
            "Requirement already satisfied: dnspython>=2.0.0 in /usr/local/lib/python3.10/dist-packages (from email_validator>=2.0.0->fastapi->gradio) (2.6.1)\n",
            "Requirement already satisfied: attrs>=22.2.0 in /usr/local/lib/python3.10/dist-packages (from jsonschema>=3.0->altair<6.0,>=4.2.0->gradio) (23.2.0)\n",
            "Requirement already satisfied: jsonschema-specifications>=2023.03.6 in /usr/local/lib/python3.10/dist-packages (from jsonschema>=3.0->altair<6.0,>=4.2.0->gradio) (2023.12.1)\n",
            "Requirement already satisfied: referencing>=0.28.4 in /usr/local/lib/python3.10/dist-packages (from jsonschema>=3.0->altair<6.0,>=4.2.0->gradio) (0.35.1)\n",
            "Requirement already satisfied: rpds-py>=0.7.1 in /usr/local/lib/python3.10/dist-packages (from jsonschema>=3.0->altair<6.0,>=4.2.0->gradio) (0.18.1)\n",
            "Requirement already satisfied: six>=1.5 in /usr/local/lib/python3.10/dist-packages (from python-dateutil>=2.7->matplotlib~=3.0->gradio) (1.16.0)\n",
            "Requirement already satisfied: markdown-it-py>=2.2.0 in /usr/local/lib/python3.10/dist-packages (from rich>=10.11.0->typer<1.0,>=0.12->gradio) (3.0.0)\n",
            "Requirement already satisfied: pygments<3.0.0,>=2.13.0 in /usr/local/lib/python3.10/dist-packages (from rich>=10.11.0->typer<1.0,>=0.12->gradio) (2.16.1)\n",
            "Requirement already satisfied: exceptiongroup in /usr/local/lib/python3.10/dist-packages (from anyio->httpx>=0.24.1->gradio) (1.2.1)\n",
            "Requirement already satisfied: httptools>=0.5.0 in /usr/local/lib/python3.10/dist-packages (from uvicorn>=0.14.0->gradio) (0.6.1)\n",
            "Requirement already satisfied: python-dotenv>=0.13 in /usr/local/lib/python3.10/dist-packages (from uvicorn>=0.14.0->gradio) (1.0.1)\n",
            "Requirement already satisfied: uvloop!=0.15.0,!=0.15.1,>=0.14.0 in /usr/local/lib/python3.10/dist-packages (from uvicorn>=0.14.0->gradio) (0.19.0)\n",
            "Requirement already satisfied: watchfiles>=0.13 in /usr/local/lib/python3.10/dist-packages (from uvicorn>=0.14.0->gradio) (0.21.0)\n",
            "Requirement already satisfied: charset-normalizer<4,>=2 in /usr/local/lib/python3.10/dist-packages (from requests->huggingface-hub>=0.19.3->gradio) (3.3.2)\n",
            "Requirement already satisfied: mdurl~=0.1 in /usr/local/lib/python3.10/dist-packages (from markdown-it-py>=2.2.0->rich>=10.11.0->typer<1.0,>=0.12->gradio) (0.1.2)\n"
          ]
        }
      ]
    },
    {
      "cell_type": "code",
      "source": [
        "import gradio as gr\n",
        "def predict(input_feature1, input_feature2, input_feature3, input_feature4, input_feature5, input_feature6):\n",
        "    input_array = np.array([(input_feature1-mean[0])/std[0], (input_feature2-mean[1])/std[1], (input_feature3-mean[2])/std[2], input_feature4, input_feature5, input_feature6]).reshape(1, -1)\n",
        "    prediction = model.predict(input_array)\n",
        "    return prediction[0]\n",
        "interface = gr.Interface(\n",
        "    fn=predict,\n",
        "    inputs=[gr.Number(label=\"Age\"),\n",
        "            gr.Number(label=\"Height(cm)\"),\n",
        "            gr.Number(label=\"Weight(kg)\"),\n",
        "            gr.Number(label=\"Gender_code(0:female,1:male)\"),\n",
        "            gr.Number(label=\"Smoking(0:NO,1:Yes)\"),\n",
        "            gr.Number(label=\"Lung_Disease(0:NO,1:Yes)\")],\n",
        "    outputs=gr.Textbox(label=\"Prediction\")\n",
        ")\n",
        "if __name__ == \"__main__\":\n",
        "    interface.launch()"
      ],
      "metadata": {
        "colab": {
          "base_uri": "https://localhost:8080/",
          "height": 645
        },
        "id": "omyvf6lcK7LS",
        "outputId": "ed3207e3-e491-45da-8f69-747eb66b2188"
      },
      "execution_count": 114,
      "outputs": [
        {
          "output_type": "stream",
          "name": "stdout",
          "text": [
            "Setting queue=True in a Colab notebook requires sharing enabled. Setting `share=True` (you can turn this off by setting `share=False` in `launch()` explicitly).\n",
            "\n",
            "Colab notebook detected. To show errors in colab notebook, set debug=True in launch()\n",
            "Running on public URL: https://1a4af830c4665cf647.gradio.live\n",
            "\n",
            "This share link expires in 72 hours. For free permanent hosting and GPU upgrades, run `gradio deploy` from Terminal to deploy to Spaces (https://huggingface.co/spaces)\n"
          ]
        },
        {
          "output_type": "display_data",
          "data": {
            "text/plain": [
              "<IPython.core.display.HTML object>"
            ],
            "text/html": [
              "<div><iframe src=\"https://1a4af830c4665cf647.gradio.live\" width=\"100%\" height=\"500\" allow=\"autoplay; camera; microphone; clipboard-read; clipboard-write;\" frameborder=\"0\" allowfullscreen></iframe></div>"
            ]
          },
          "metadata": {}
        }
      ]
    }
  ]
}